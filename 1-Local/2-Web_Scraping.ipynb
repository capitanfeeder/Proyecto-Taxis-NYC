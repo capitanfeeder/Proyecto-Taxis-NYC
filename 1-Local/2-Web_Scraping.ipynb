{
 "cells": [
  {
   "cell_type": "markdown",
   "metadata": {},
   "source": [
    "# **Obtención de registro de recorridos de taxis**"
   ]
  },
  {
   "cell_type": "markdown",
   "metadata": {},
   "source": [
    "#### Para obtener los datos de recorridos de taxis amarillos y verdes en la Ciudad de New York, realizaremos Web Scraping a la [página](http://www.nyc.gov/html/tlc/html/about/trip_record_data.shtml) provista en el [diccionario de datos](Datasets/data_dictionary_trip_records_yellow.pdf)."
   ]
  },
  {
   "cell_type": "markdown",
   "metadata": {},
   "source": [
    "### Importamos las librerías necesarias."
   ]
  },
  {
   "cell_type": "code",
   "execution_count": 1,
   "metadata": {},
   "outputs": [],
   "source": [
    "import requests\n",
    "from bs4 import BeautifulSoup\n",
    "from Funciones import *\n",
    "import os\n",
    "import re\n",
    "import pandas as pd"
   ]
  },
  {
   "cell_type": "markdown",
   "metadata": {},
   "source": [
    "### Efectuamos Web Scrapping para obtener los enlaces de registros de viajes en taxis."
   ]
  },
  {
   "cell_type": "code",
   "execution_count": 2,
   "metadata": {},
   "outputs": [
    {
     "name": "stdout",
     "output_type": "stream",
     "text": [
      "Enlaces con el título 'Yellow Taxi Trip Records' o 'Green Taxi Trip Records':\n",
      "https://d37ci6vzurychx.cloudfront.net/trip-data/yellow_tripdata_2023-01.parquet\n",
      "https://d37ci6vzurychx.cloudfront.net/trip-data/green_tripdata_2023-01.parquet\n",
      "https://d37ci6vzurychx.cloudfront.net/trip-data/yellow_tripdata_2023-02.parquet\n",
      "https://d37ci6vzurychx.cloudfront.net/trip-data/green_tripdata_2023-02.parquet\n",
      "https://d37ci6vzurychx.cloudfront.net/trip-data/yellow_tripdata_2023-03.parquet\n",
      "https://d37ci6vzurychx.cloudfront.net/trip-data/green_tripdata_2023-03.parquet \n",
      "https://d37ci6vzurychx.cloudfront.net/trip-data/yellow_tripdata_2023-04.parquet\n",
      "https://d37ci6vzurychx.cloudfront.net/trip-data/green_tripdata_2023-04.parquet\n",
      "https://d37ci6vzurychx.cloudfront.net/trip-data/yellow_tripdata_2023-05.parquet \n",
      "https://d37ci6vzurychx.cloudfront.net/trip-data/green_tripdata_2023-05.parquet \n",
      "https://d37ci6vzurychx.cloudfront.net/trip-data/yellow_tripdata_2023-06.parquet\n",
      "https://d37ci6vzurychx.cloudfront.net/trip-data/green_tripdata_2023-06.parquet\n",
      "https://d37ci6vzurychx.cloudfront.net/trip-data/yellow_tripdata_2023-07.parquet \n",
      "https://d37ci6vzurychx.cloudfront.net/trip-data/green_tripdata_2023-07.parquet \n",
      "https://d37ci6vzurychx.cloudfront.net/trip-data/yellow_tripdata_2023-08.parquet \n",
      "https://d37ci6vzurychx.cloudfront.net/trip-data/green_tripdata_2023-08.parquet \n",
      "https://d37ci6vzurychx.cloudfront.net/trip-data/yellow_tripdata_2023-09.parquet \n",
      "https://d37ci6vzurychx.cloudfront.net/trip-data/green_tripdata_2023-09.parquet \n",
      "https://d37ci6vzurychx.cloudfront.net/trip-data/yellow_tripdata_2023-10.parquet \n",
      "https://d37ci6vzurychx.cloudfront.net/trip-data/green_tripdata_2023-10.parquet \n"
     ]
    }
   ],
   "source": [
    "# Guardamos la URL en una variable\n",
    "url = 'https://www.nyc.gov/site/tlc/about/tlc-trip-record-data.page'\n",
    "\n",
    "# Realizamos la solicitud HTTP\n",
    "response = requests.get(url)\n",
    "\n",
    "# Verificamos si la solicitud fue exitosa\n",
    "if response.status_code == 200:\n",
    "    # Analizamos el contenido HTML con BeautifulSoup\n",
    "    soup = BeautifulSoup(response.text, 'html.parser')\n",
    "\n",
    "    # Buscamos el elemento <div> con la clase \"faq-answers\" y el id \"faq2023\"\n",
    "    target_div = soup.find('div', {'class': 'faq-answers', 'id': 'faq2023'})\n",
    "\n",
    "    if target_div:\n",
    "        # Buscamos los enlaces <a> dentro de target_div que tienen title=\"Yellow Taxi Trip Records\" o \"Green Taxi Trip Records\"\n",
    "        taxi_links = target_div.find_all('a', title=['Yellow Taxi Trip Records', 'Green Taxi Trip Records'])\n",
    "\n",
    "        if taxi_links:\n",
    "            print(\"Enlaces con el título 'Yellow Taxi Trip Records' o 'Green Taxi Trip Records':\")\n",
    "            links = []\n",
    "            for link in taxi_links:\n",
    "                links.append(link.get('href'))\n",
    "                print(link.get('href'))  # Imprime el enlace URL\n",
    "        else:\n",
    "            print(\"No se encontraron enlaces con los títulos 'Yellow Taxi Trip Records' o 'Green Taxi Trip Records' dentro de 'faq-answers'.\")\n",
    "\n",
    "    else:\n",
    "        print(\"No se encontró el elemento con la clase 'faq-answers' y el id 'faq2023'.\")\n",
    "\n",
    "else:\n",
    "    print(\"La solicitud no fue exitosa. Código de estado:\", response.status_code)"
   ]
  },
  {
   "cell_type": "markdown",
   "metadata": {},
   "source": [
    "### Habiendo visualizado la estructura de los enlaces, procedemos a crear una carpeta donde se almacenarán los archivos que descargaremos."
   ]
  },
  {
   "cell_type": "code",
   "execution_count": 3,
   "metadata": {},
   "outputs": [
    {
     "name": "stdout",
     "output_type": "stream",
     "text": [
      "El archivo green_tripdata_2023-01.parquet ya existe localmente.\n",
      "El archivo green_tripdata_2023-02.parquet ya existe localmente.\n",
      "El archivo green_tripdata_2023-03.parquet ya existe localmente.\n",
      "El archivo green_tripdata_2023-04.parquet ya existe localmente.\n",
      "El archivo green_tripdata_2023-05.parquet ya existe localmente.\n",
      "El archivo green_tripdata_2023-06.parquet ya existe localmente.\n",
      "El archivo green_tripdata_2023-07.parquet ya existe localmente.\n",
      "El archivo green_tripdata_2023-08.parquet ya existe localmente.\n",
      "El archivo green_tripdata_2023-09.parquet ya existe localmente.\n",
      "Archivo descargado: green_tripdata_2023-10.parquet\n",
      "El archivo yellow_tripdata_2023-01.parquet ya existe localmente.\n",
      "El archivo yellow_tripdata_2023-02.parquet ya existe localmente.\n",
      "El archivo yellow_tripdata_2023-03.parquet ya existe localmente.\n",
      "El archivo yellow_tripdata_2023-04.parquet ya existe localmente.\n",
      "El archivo yellow_tripdata_2023-05.parquet ya existe localmente.\n",
      "El archivo yellow_tripdata_2023-06.parquet ya existe localmente.\n",
      "El archivo yellow_tripdata_2023-07.parquet ya existe localmente.\n",
      "El archivo yellow_tripdata_2023-08.parquet ya existe localmente.\n",
      "El archivo yellow_tripdata_2023-09.parquet ya existe localmente.\n",
      "Archivo descargado: yellow_tripdata_2023-10.parquet\n"
     ]
    }
   ],
   "source": [
    "# Creamos una arpeta de destino para guardar los archivos descargados\n",
    "carpeta_destino = \"Datasets/2-yellow_and_green_taxis/\"\n",
    "\n",
    "# Verificamos si la carpeta de destino existe, si no existe la creamos\n",
    "if not os.path.exists(carpeta_destino):\n",
    "    os.makedirs(carpeta_destino)\n",
    "\n",
    "# Obtenemos la lista de archivos en la carpeta de destino\n",
    "archivos_locales = os.listdir(carpeta_destino)\n",
    "\n",
    "# Generamos dinámicamente los enlaces para los meses del 01 al 10\n",
    "meses = ['01', '02', '03', '04', '05', '06', '07', '08', '09', '10']\n",
    "\n",
    "# Guardamos la URL en una variable\n",
    "url = \"https://www.nyc.gov/site/tlc/about/tlc-trip-record-data.page\"\n",
    "\n",
    "# Realizamos la solicitud HTTP a la página\n",
    "response = requests.get(url)\n",
    "\n",
    "# Verificamos si la solicitud fue exitosa (código de estado 200)\n",
    "if response.status_code == 200:\n",
    "    # Parsear el contenido HTML de la página\n",
    "    soup = BeautifulSoup(response.text, 'html.parser')\n",
    "\n",
    "    # Encontramos todos los enlaces que contienen 'yellow' o 'green' y tienen el formato esperado para 2023\n",
    "    links_pagina = {a['href'] for a in soup.find_all('a', href=True) if re.match(r'^.*(yellow|green)_tripdata_2023-\\d{2}\\.parquet$', a['href'])}\n",
    "\n",
    "    # Combinamos enlaces generados dinámicamente con los obtenidos de la página\n",
    "    links_totales = links_pagina.copy()  # Creamos una copia para mantener los enlaces originales\n",
    "    for mes in meses:\n",
    "        enlace_yellow = f\"https://d37ci6vzurychx.cloudfront.net/trip-data/yellow_tripdata_2023-{mes}.parquet\"\n",
    "        enlace_green = f\"https://d37ci6vzurychx.cloudfront.net/trip-data/green_tripdata_2023-{mes}.parquet\"\n",
    "        links_totales.add(enlace_yellow)\n",
    "        links_totales.add(enlace_green)\n",
    "\n",
    "    # Realizamos la descarga de los archivos\n",
    "    for link in sorted(links_totales):\n",
    "        nombre_archivo = link.split(\"/\")[-1]  # Obtenemos el nombre del archivo desde la URL\n",
    "        archivo_destino = os.path.join(carpeta_destino, nombre_archivo)\n",
    "\n",
    "        if nombre_archivo not in archivos_locales:\n",
    "            response = requests.get(link)\n",
    "\n",
    "            if response.status_code == 200:\n",
    "                with open(archivo_destino, 'wb') as archivo:\n",
    "                    archivo.write(response.content)\n",
    "                print(f\"Archivo descargado: {nombre_archivo}\")\n",
    "            else:\n",
    "                print(f\"No se pudo descargar el archivo: {nombre_archivo}. Código de estado: {response.status_code}\")\n",
    "        else:\n",
    "            print(f\"El archivo {nombre_archivo} ya existe localmente.\")\n",
    "else:\n",
    "    print(f\"No se pudo acceder a la página. Código de estado: {response.status_code}\")\n"
   ]
  },
  {
   "cell_type": "markdown",
   "metadata": {},
   "source": [
    "### _**Unimos los dataframes mensuales de taxis verdes en un solo dataframe.**_"
   ]
  },
  {
   "cell_type": "code",
   "execution_count": 4,
   "metadata": {},
   "outputs": [],
   "source": [
    "enero_g = pd.read_parquet(\"Datasets/2-yellow_and_green_taxis/green_tripdata_2023-01.parquet\")\n",
    "febrero_g = pd.read_parquet(\"Datasets/2-yellow_and_green_taxis/green_tripdata_2023-02.parquet\")\n",
    "marzo_g = pd.read_parquet(\"Datasets/2-yellow_and_green_taxis/green_tripdata_2023-03.parquet\")\n",
    "abril_g = pd.read_parquet(\"Datasets/2-yellow_and_green_taxis/green_tripdata_2023-04.parquet\")\n",
    "mayo_g = pd.read_parquet(\"Datasets/2-yellow_and_green_taxis/green_tripdata_2023-05.parquet\")\n",
    "junio_g = pd.read_parquet(\"Datasets/2-yellow_and_green_taxis/green_tripdata_2023-06.parquet\")\n",
    "julio_g = pd.read_parquet(\"Datasets/2-yellow_and_green_taxis/green_tripdata_2023-07.parquet\")\n",
    "agosto_g = pd.read_parquet(\"Datasets/2-yellow_and_green_taxis/green_tripdata_2023-08.parquet\")\n",
    "septiembre_g = pd.read_parquet(\"Datasets/2-yellow_and_green_taxis/green_tripdata_2023-09.parquet\")\n",
    "octubre_g = pd.read_parquet(\"Datasets/2-yellow_and_green_taxis/green_tripdata_2023-10.parquet\")"
   ]
  },
  {
   "cell_type": "code",
   "execution_count": 5,
   "metadata": {},
   "outputs": [
    {
     "name": "stdout",
     "output_type": "stream",
     "text": [
      "<class 'pandas.core.frame.DataFrame'>\n",
      "RangeIndex: 658820 entries, 0 to 658819\n",
      "Data columns (total 20 columns):\n",
      " #   Column                 Non-Null Count   Dtype         \n",
      "---  ------                 --------------   -----         \n",
      " 0   VendorID               658820 non-null  int64         \n",
      " 1   lpep_pickup_datetime   658820 non-null  datetime64[us]\n",
      " 2   lpep_dropoff_datetime  658820 non-null  datetime64[us]\n",
      " 3   store_and_fwd_flag     612829 non-null  object        \n",
      " 4   RatecodeID             612829 non-null  float64       \n",
      " 5   PULocationID           658820 non-null  int64         \n",
      " 6   DOLocationID           658820 non-null  int64         \n",
      " 7   passenger_count        612829 non-null  float64       \n",
      " 8   trip_distance          658820 non-null  float64       \n",
      " 9   fare_amount            658820 non-null  float64       \n",
      " 10  extra                  658820 non-null  float64       \n",
      " 11  mta_tax                658820 non-null  float64       \n",
      " 12  tip_amount             658820 non-null  float64       \n",
      " 13  tolls_amount           658820 non-null  float64       \n",
      " 14  ehail_fee              0 non-null       object        \n",
      " 15  improvement_surcharge  658820 non-null  float64       \n",
      " 16  total_amount           658820 non-null  float64       \n",
      " 17  payment_type           612829 non-null  float64       \n",
      " 18  trip_type              612788 non-null  float64       \n",
      " 19  congestion_surcharge   612829 non-null  float64       \n",
      "dtypes: datetime64[us](2), float64(13), int64(3), object(2)\n",
      "memory usage: 100.5+ MB\n"
     ]
    }
   ],
   "source": [
    "# Listamos los DataFrames\n",
    "dfs = [enero_g, febrero_g, marzo_g, abril_g, mayo_g, junio_g, julio_g, agosto_g, septiembre_g, octubre_g]\n",
    "\n",
    "# Concateamos para crear uno solo\n",
    "green_taxis = pd.concat(dfs, ignore_index=True)\n",
    "green_taxis.info()"
   ]
  },
  {
   "cell_type": "code",
   "execution_count": 6,
   "metadata": {},
   "outputs": [
    {
     "name": "stdout",
     "output_type": "stream",
     "text": [
      "<class 'pandas.core.frame.DataFrame'>\n",
      "RangeIndex: 658820 entries, 0 to 658819\n",
      "Data columns (total 8 columns):\n",
      " #   Column            Non-Null Count   Dtype         \n",
      "---  ------            --------------   -----         \n",
      " 0   pickup_datetime   658820 non-null  datetime64[us]\n",
      " 1   dropoff_datetime  658820 non-null  datetime64[us]\n",
      " 2   PULocationID      658820 non-null  int64         \n",
      " 3   DOLocationID      658820 non-null  int64         \n",
      " 4   passenger_count   612829 non-null  float64       \n",
      " 5   trip_distance     658820 non-null  float64       \n",
      " 6   tip_amount        658820 non-null  float64       \n",
      " 7   amount            658820 non-null  float64       \n",
      "dtypes: datetime64[us](2), float64(4), int64(2)\n",
      "memory usage: 40.2 MB\n"
     ]
    }
   ],
   "source": [
    "# Guardamos columnas a eliminar en una variable\n",
    "columnas_eliminar = ['store_and_fwd_flag', 'fare_amount', 'extra', 'mta_tax', 'tolls_amount', 'improvement_surcharge',\n",
    "                    'ehail_fee', 'congestion_surcharge', 'trip_type', 'VendorID', 'RatecodeID', 'payment_type']\n",
    "\n",
    "# Eliminamos las columnas de la lista\n",
    "green_taxis.drop(columns=columnas_eliminar, inplace=True)\n",
    "\n",
    "# Renombramos las columnas\n",
    "green_taxis.rename(columns={'lpep_pickup_datetime': 'pickup_datetime','lpep_dropoff_datetime': 'dropoff_datetime',\n",
    "                            'total_amount': 'amount'}, inplace=True)\n",
    "green_taxis.info()"
   ]
  },
  {
   "cell_type": "code",
   "execution_count": 7,
   "metadata": {},
   "outputs": [
    {
     "data": {
      "text/html": [
       "<div>\n",
       "<style scoped>\n",
       "    .dataframe tbody tr th:only-of-type {\n",
       "        vertical-align: middle;\n",
       "    }\n",
       "\n",
       "    .dataframe tbody tr th {\n",
       "        vertical-align: top;\n",
       "    }\n",
       "\n",
       "    .dataframe thead th {\n",
       "        text-align: right;\n",
       "    }\n",
       "</style>\n",
       "<table border=\"1\" class=\"dataframe\">\n",
       "  <thead>\n",
       "    <tr style=\"text-align: right;\">\n",
       "      <th></th>\n",
       "      <th>pickup_datetime</th>\n",
       "      <th>dropoff_datetime</th>\n",
       "      <th>PULocationID</th>\n",
       "      <th>DOLocationID</th>\n",
       "      <th>passenger_count</th>\n",
       "      <th>trip_distance</th>\n",
       "      <th>tip_amount</th>\n",
       "      <th>amount</th>\n",
       "    </tr>\n",
       "  </thead>\n",
       "  <tbody>\n",
       "    <tr>\n",
       "      <th>0</th>\n",
       "      <td>2023-01-01 00:26:10</td>\n",
       "      <td>2023-01-01 00:37:11</td>\n",
       "      <td>166</td>\n",
       "      <td>143</td>\n",
       "      <td>1.0</td>\n",
       "      <td>2.58</td>\n",
       "      <td>4.03</td>\n",
       "      <td>24.18</td>\n",
       "    </tr>\n",
       "    <tr>\n",
       "      <th>1</th>\n",
       "      <td>2023-01-01 00:51:03</td>\n",
       "      <td>2023-01-01 00:57:49</td>\n",
       "      <td>24</td>\n",
       "      <td>43</td>\n",
       "      <td>1.0</td>\n",
       "      <td>1.81</td>\n",
       "      <td>2.64</td>\n",
       "      <td>15.84</td>\n",
       "    </tr>\n",
       "    <tr>\n",
       "      <th>2</th>\n",
       "      <td>2023-01-01 00:35:12</td>\n",
       "      <td>2023-01-01 00:41:32</td>\n",
       "      <td>223</td>\n",
       "      <td>179</td>\n",
       "      <td>1.0</td>\n",
       "      <td>0.00</td>\n",
       "      <td>1.94</td>\n",
       "      <td>11.64</td>\n",
       "    </tr>\n",
       "    <tr>\n",
       "      <th>3</th>\n",
       "      <td>2023-01-01 00:13:14</td>\n",
       "      <td>2023-01-01 00:19:03</td>\n",
       "      <td>41</td>\n",
       "      <td>238</td>\n",
       "      <td>1.0</td>\n",
       "      <td>1.30</td>\n",
       "      <td>1.70</td>\n",
       "      <td>10.20</td>\n",
       "    </tr>\n",
       "    <tr>\n",
       "      <th>4</th>\n",
       "      <td>2023-01-01 00:33:04</td>\n",
       "      <td>2023-01-01 00:39:02</td>\n",
       "      <td>41</td>\n",
       "      <td>74</td>\n",
       "      <td>1.0</td>\n",
       "      <td>1.10</td>\n",
       "      <td>0.00</td>\n",
       "      <td>8.00</td>\n",
       "    </tr>\n",
       "  </tbody>\n",
       "</table>\n",
       "</div>"
      ],
      "text/plain": [
       "      pickup_datetime    dropoff_datetime  PULocationID  DOLocationID  \\\n",
       "0 2023-01-01 00:26:10 2023-01-01 00:37:11           166           143   \n",
       "1 2023-01-01 00:51:03 2023-01-01 00:57:49            24            43   \n",
       "2 2023-01-01 00:35:12 2023-01-01 00:41:32           223           179   \n",
       "3 2023-01-01 00:13:14 2023-01-01 00:19:03            41           238   \n",
       "4 2023-01-01 00:33:04 2023-01-01 00:39:02            41            74   \n",
       "\n",
       "   passenger_count  trip_distance  tip_amount  amount  \n",
       "0              1.0           2.58        4.03   24.18  \n",
       "1              1.0           1.81        2.64   15.84  \n",
       "2              1.0           0.00        1.94   11.64  \n",
       "3              1.0           1.30        1.70   10.20  \n",
       "4              1.0           1.10        0.00    8.00  "
      ]
     },
     "execution_count": 7,
     "metadata": {},
     "output_type": "execute_result"
    }
   ],
   "source": [
    "green_taxis.head()"
   ]
  },
  {
   "cell_type": "markdown",
   "metadata": {},
   "source": [
    "### En New York la propina (tip_amount) se considera una costumbre. Conforme a lo detallado en el diccionario provisto, el pago total incluye impuestos pero no propina asi que procedemos a sumar las columnas 'amount' y 'tip_amount'."
   ]
  },
  {
   "cell_type": "code",
   "execution_count": 8,
   "metadata": {},
   "outputs": [
    {
     "data": {
      "text/html": [
       "<div>\n",
       "<style scoped>\n",
       "    .dataframe tbody tr th:only-of-type {\n",
       "        vertical-align: middle;\n",
       "    }\n",
       "\n",
       "    .dataframe tbody tr th {\n",
       "        vertical-align: top;\n",
       "    }\n",
       "\n",
       "    .dataframe thead th {\n",
       "        text-align: right;\n",
       "    }\n",
       "</style>\n",
       "<table border=\"1\" class=\"dataframe\">\n",
       "  <thead>\n",
       "    <tr style=\"text-align: right;\">\n",
       "      <th></th>\n",
       "      <th>pickup_datetime</th>\n",
       "      <th>dropoff_datetime</th>\n",
       "      <th>PULocationID</th>\n",
       "      <th>DOLocationID</th>\n",
       "      <th>passenger_count</th>\n",
       "      <th>trip_distance</th>\n",
       "      <th>tip_amount</th>\n",
       "      <th>amount</th>\n",
       "      <th>total_amount</th>\n",
       "    </tr>\n",
       "  </thead>\n",
       "  <tbody>\n",
       "    <tr>\n",
       "      <th>0</th>\n",
       "      <td>2023-01-01 00:26:10</td>\n",
       "      <td>2023-01-01 00:37:11</td>\n",
       "      <td>166</td>\n",
       "      <td>143</td>\n",
       "      <td>1.0</td>\n",
       "      <td>2.58</td>\n",
       "      <td>4.03</td>\n",
       "      <td>24.18</td>\n",
       "      <td>28.21</td>\n",
       "    </tr>\n",
       "    <tr>\n",
       "      <th>1</th>\n",
       "      <td>2023-01-01 00:51:03</td>\n",
       "      <td>2023-01-01 00:57:49</td>\n",
       "      <td>24</td>\n",
       "      <td>43</td>\n",
       "      <td>1.0</td>\n",
       "      <td>1.81</td>\n",
       "      <td>2.64</td>\n",
       "      <td>15.84</td>\n",
       "      <td>18.48</td>\n",
       "    </tr>\n",
       "    <tr>\n",
       "      <th>2</th>\n",
       "      <td>2023-01-01 00:35:12</td>\n",
       "      <td>2023-01-01 00:41:32</td>\n",
       "      <td>223</td>\n",
       "      <td>179</td>\n",
       "      <td>1.0</td>\n",
       "      <td>0.00</td>\n",
       "      <td>1.94</td>\n",
       "      <td>11.64</td>\n",
       "      <td>13.58</td>\n",
       "    </tr>\n",
       "    <tr>\n",
       "      <th>3</th>\n",
       "      <td>2023-01-01 00:13:14</td>\n",
       "      <td>2023-01-01 00:19:03</td>\n",
       "      <td>41</td>\n",
       "      <td>238</td>\n",
       "      <td>1.0</td>\n",
       "      <td>1.30</td>\n",
       "      <td>1.70</td>\n",
       "      <td>10.20</td>\n",
       "      <td>11.90</td>\n",
       "    </tr>\n",
       "    <tr>\n",
       "      <th>4</th>\n",
       "      <td>2023-01-01 00:33:04</td>\n",
       "      <td>2023-01-01 00:39:02</td>\n",
       "      <td>41</td>\n",
       "      <td>74</td>\n",
       "      <td>1.0</td>\n",
       "      <td>1.10</td>\n",
       "      <td>0.00</td>\n",
       "      <td>8.00</td>\n",
       "      <td>8.00</td>\n",
       "    </tr>\n",
       "  </tbody>\n",
       "</table>\n",
       "</div>"
      ],
      "text/plain": [
       "      pickup_datetime    dropoff_datetime  PULocationID  DOLocationID  \\\n",
       "0 2023-01-01 00:26:10 2023-01-01 00:37:11           166           143   \n",
       "1 2023-01-01 00:51:03 2023-01-01 00:57:49            24            43   \n",
       "2 2023-01-01 00:35:12 2023-01-01 00:41:32           223           179   \n",
       "3 2023-01-01 00:13:14 2023-01-01 00:19:03            41           238   \n",
       "4 2023-01-01 00:33:04 2023-01-01 00:39:02            41            74   \n",
       "\n",
       "   passenger_count  trip_distance  tip_amount  amount  total_amount  \n",
       "0              1.0           2.58        4.03   24.18         28.21  \n",
       "1              1.0           1.81        2.64   15.84         18.48  \n",
       "2              1.0           0.00        1.94   11.64         13.58  \n",
       "3              1.0           1.30        1.70   10.20         11.90  \n",
       "4              1.0           1.10        0.00    8.00          8.00  "
      ]
     },
     "execution_count": 8,
     "metadata": {},
     "output_type": "execute_result"
    }
   ],
   "source": [
    "# Sumamos las columnas amount y tip_amount para crear la columna total_amount\n",
    "green_taxis['total_amount'] = green_taxis['amount'] + green_taxis['tip_amount']\n",
    "\n",
    "# Mostrar las primeras filas del DataFrame resultante\n",
    "green_taxis.head()"
   ]
  },
  {
   "cell_type": "code",
   "execution_count": 9,
   "metadata": {},
   "outputs": [
    {
     "name": "stdout",
     "output_type": "stream",
     "text": [
      "<class 'pandas.core.frame.DataFrame'>\n",
      "RangeIndex: 658820 entries, 0 to 658819\n",
      "Data columns (total 7 columns):\n",
      " #   Column            Non-Null Count   Dtype         \n",
      "---  ------            --------------   -----         \n",
      " 0   pickup_datetime   658820 non-null  datetime64[us]\n",
      " 1   dropoff_datetime  658820 non-null  datetime64[us]\n",
      " 2   PULocationID      658820 non-null  int64         \n",
      " 3   DOLocationID      658820 non-null  int64         \n",
      " 4   passenger_count   612829 non-null  float64       \n",
      " 5   trip_distance     658820 non-null  float64       \n",
      " 6   total_amount      658820 non-null  float64       \n",
      "dtypes: datetime64[us](2), float64(3), int64(2)\n",
      "memory usage: 35.2 MB\n"
     ]
    }
   ],
   "source": [
    "# Eliminamos las columnas amount y tip_amount al no ser necesarias\n",
    "green_taxis.drop(columns=['amount', 'tip_amount'], inplace=True)\n",
    "green_taxis.info()"
   ]
  },
  {
   "cell_type": "code",
   "execution_count": 10,
   "metadata": {},
   "outputs": [
    {
     "data": {
      "text/plain": [
       "passenger_count\n",
       "1.0    518701\n",
       "2.0     53147\n",
       "5.0     16342\n",
       "3.0      8627\n",
       "6.0      7698\n",
       "0.0      5173\n",
       "4.0      3063\n",
       "7.0        41\n",
       "8.0        22\n",
       "9.0        15\n",
       "Name: count, dtype: int64"
      ]
     },
     "execution_count": 10,
     "metadata": {},
     "output_type": "execute_result"
    }
   ],
   "source": [
    "# Revisamos el contenido de la columna passenger_count\n",
    "green_taxis['passenger_count'].value_counts()"
   ]
  },
  {
   "cell_type": "code",
   "execution_count": 11,
   "metadata": {},
   "outputs": [
    {
     "data": {
      "text/plain": [
       "45991"
      ]
     },
     "execution_count": 11,
     "metadata": {},
     "output_type": "execute_result"
    }
   ],
   "source": [
    "# Verificamos nulos\n",
    "green_taxis['passenger_count'].isnull().sum()"
   ]
  },
  {
   "cell_type": "code",
   "execution_count": 12,
   "metadata": {},
   "outputs": [
    {
     "data": {
      "text/html": [
       "<div>\n",
       "<style scoped>\n",
       "    .dataframe tbody tr th:only-of-type {\n",
       "        vertical-align: middle;\n",
       "    }\n",
       "\n",
       "    .dataframe tbody tr th {\n",
       "        vertical-align: top;\n",
       "    }\n",
       "\n",
       "    .dataframe thead th {\n",
       "        text-align: right;\n",
       "    }\n",
       "</style>\n",
       "<table border=\"1\" class=\"dataframe\">\n",
       "  <thead>\n",
       "    <tr style=\"text-align: right;\">\n",
       "      <th></th>\n",
       "      <th>pickup_datetime</th>\n",
       "      <th>dropoff_datetime</th>\n",
       "      <th>PULocationID</th>\n",
       "      <th>DOLocationID</th>\n",
       "      <th>passenger_count</th>\n",
       "      <th>trip_distance</th>\n",
       "      <th>total_amount</th>\n",
       "    </tr>\n",
       "  </thead>\n",
       "  <tbody>\n",
       "    <tr>\n",
       "      <th>63887</th>\n",
       "      <td>2023-01-01 00:28:00</td>\n",
       "      <td>2023-01-01 00:54:00</td>\n",
       "      <td>7</td>\n",
       "      <td>17</td>\n",
       "      <td>NaN</td>\n",
       "      <td>9.33</td>\n",
       "      <td>51.85</td>\n",
       "    </tr>\n",
       "    <tr>\n",
       "      <th>63888</th>\n",
       "      <td>2023-01-01 00:39:00</td>\n",
       "      <td>2023-01-01 00:52:00</td>\n",
       "      <td>37</td>\n",
       "      <td>37</td>\n",
       "      <td>NaN</td>\n",
       "      <td>2.67</td>\n",
       "      <td>21.77</td>\n",
       "    </tr>\n",
       "    <tr>\n",
       "      <th>63889</th>\n",
       "      <td>2023-01-01 00:58:00</td>\n",
       "      <td>2023-01-01 01:21:00</td>\n",
       "      <td>80</td>\n",
       "      <td>7</td>\n",
       "      <td>NaN</td>\n",
       "      <td>7.39</td>\n",
       "      <td>46.39</td>\n",
       "    </tr>\n",
       "    <tr>\n",
       "      <th>63890</th>\n",
       "      <td>2023-01-01 00:35:00</td>\n",
       "      <td>2023-01-01 00:55:00</td>\n",
       "      <td>169</td>\n",
       "      <td>42</td>\n",
       "      <td>NaN</td>\n",
       "      <td>4.04</td>\n",
       "      <td>18.85</td>\n",
       "    </tr>\n",
       "    <tr>\n",
       "      <th>63891</th>\n",
       "      <td>2023-01-01 00:45:00</td>\n",
       "      <td>2023-01-01 00:55:00</td>\n",
       "      <td>42</td>\n",
       "      <td>262</td>\n",
       "      <td>NaN</td>\n",
       "      <td>3.86</td>\n",
       "      <td>32.78</td>\n",
       "    </tr>\n",
       "  </tbody>\n",
       "</table>\n",
       "</div>"
      ],
      "text/plain": [
       "          pickup_datetime    dropoff_datetime  PULocationID  DOLocationID  \\\n",
       "63887 2023-01-01 00:28:00 2023-01-01 00:54:00             7            17   \n",
       "63888 2023-01-01 00:39:00 2023-01-01 00:52:00            37            37   \n",
       "63889 2023-01-01 00:58:00 2023-01-01 01:21:00            80             7   \n",
       "63890 2023-01-01 00:35:00 2023-01-01 00:55:00           169            42   \n",
       "63891 2023-01-01 00:45:00 2023-01-01 00:55:00            42           262   \n",
       "\n",
       "       passenger_count  trip_distance  total_amount  \n",
       "63887              NaN           9.33         51.85  \n",
       "63888              NaN           2.67         21.77  \n",
       "63889              NaN           7.39         46.39  \n",
       "63890              NaN           4.04         18.85  \n",
       "63891              NaN           3.86         32.78  "
      ]
     },
     "execution_count": 12,
     "metadata": {},
     "output_type": "execute_result"
    }
   ],
   "source": [
    "# Verificamos la composicion del DataFrame cuando passenger_count es nulo para no tomar decisiones erroneas\n",
    "verificar = green_taxis[green_taxis['passenger_count'].isnull()]\n",
    "verificar.head()"
   ]
  },
  {
   "cell_type": "markdown",
   "metadata": {},
   "source": [
    "### Teniendo en cuenta que hay ocasiones en que no se informa de cantidad de pasajeros pero si hay un registro de pago, procedemos a completar los valores nulos de la columna 'passenger_count' con el valor 1."
   ]
  },
  {
   "cell_type": "code",
   "execution_count": 13,
   "metadata": {},
   "outputs": [
    {
     "data": {
      "text/plain": [
       "0"
      ]
     },
     "execution_count": 13,
     "metadata": {},
     "output_type": "execute_result"
    }
   ],
   "source": [
    "# Completamos los valores faltantes de la columna passenger_count con el valor 1\n",
    "green_taxis['passenger_count'].fillna(1, inplace=True)\n",
    "green_taxis['passenger_count'].isnull().sum()"
   ]
  },
  {
   "cell_type": "code",
   "execution_count": 14,
   "metadata": {},
   "outputs": [
    {
     "data": {
      "text/plain": [
       "passenger_count\n",
       "1.0    564692\n",
       "2.0     53147\n",
       "5.0     16342\n",
       "3.0      8627\n",
       "6.0      7698\n",
       "4.0      3063\n",
       "7.0        41\n",
       "8.0        22\n",
       "9.0        15\n",
       "Name: count, dtype: int64"
      ]
     },
     "execution_count": 14,
     "metadata": {},
     "output_type": "execute_result"
    }
   ],
   "source": [
    "# Eliminamos las filas donde passenger_count es igual a 0.0\n",
    "green_taxis = green_taxis[green_taxis['passenger_count'] != 0.0]\n",
    "green_taxis['passenger_count'].value_counts()"
   ]
  },
  {
   "cell_type": "code",
   "execution_count": 15,
   "metadata": {},
   "outputs": [
    {
     "data": {
      "text/plain": [
       "trip_distance\n",
       "0.00         32549\n",
       "1.40          5595\n",
       "1.30          5305\n",
       "1.20          4677\n",
       "1.50          4569\n",
       "             ...  \n",
       "64.45            1\n",
       "20.86            1\n",
       "1082.45          1\n",
       "120098.84        1\n",
       "11235.11         1\n",
       "Name: count, Length: 3697, dtype: int64"
      ]
     },
     "execution_count": 15,
     "metadata": {},
     "output_type": "execute_result"
    }
   ],
   "source": [
    "# Revisamos el contenido de la columna trip_distance\n",
    "green_taxis['trip_distance'].value_counts()"
   ]
  },
  {
   "cell_type": "code",
   "execution_count": 16,
   "metadata": {},
   "outputs": [
    {
     "data": {
      "text/plain": [
       "trip_distance\n",
       "1.40         5595\n",
       "1.30         5305\n",
       "1.20         4677\n",
       "1.50         4569\n",
       "1.10         4243\n",
       "             ... \n",
       "101197.87       1\n",
       "20.51           1\n",
       "7353.65         1\n",
       "10805.53        1\n",
       "11235.11        1\n",
       "Name: count, Length: 3696, dtype: int64"
      ]
     },
     "execution_count": 16,
     "metadata": {},
     "output_type": "execute_result"
    }
   ],
   "source": [
    "# Eliminamos las filas donde trip_distance es igual a 0.00\n",
    "green_taxis = green_taxis[green_taxis['trip_distance'] != 0.00]\n",
    "green_taxis['trip_distance'].value_counts()"
   ]
  },
  {
   "cell_type": "code",
   "execution_count": 17,
   "metadata": {},
   "outputs": [
    {
     "data": {
      "text/html": [
       "<div>\n",
       "<style scoped>\n",
       "    .dataframe tbody tr th:only-of-type {\n",
       "        vertical-align: middle;\n",
       "    }\n",
       "\n",
       "    .dataframe tbody tr th {\n",
       "        vertical-align: top;\n",
       "    }\n",
       "\n",
       "    .dataframe thead th {\n",
       "        text-align: right;\n",
       "    }\n",
       "</style>\n",
       "<table border=\"1\" class=\"dataframe\">\n",
       "  <thead>\n",
       "    <tr style=\"text-align: right;\">\n",
       "      <th></th>\n",
       "      <th>pickup_datetime</th>\n",
       "      <th>dropoff_datetime</th>\n",
       "      <th>PULocationID</th>\n",
       "      <th>DOLocationID</th>\n",
       "      <th>passenger_count</th>\n",
       "      <th>trip_distance</th>\n",
       "      <th>total_amount</th>\n",
       "      <th>service_type</th>\n",
       "    </tr>\n",
       "  </thead>\n",
       "  <tbody>\n",
       "    <tr>\n",
       "      <th>0</th>\n",
       "      <td>2023-01-01 00:26:10</td>\n",
       "      <td>2023-01-01 00:37:11</td>\n",
       "      <td>166</td>\n",
       "      <td>143</td>\n",
       "      <td>1.0</td>\n",
       "      <td>2.58</td>\n",
       "      <td>28.21</td>\n",
       "      <td>green</td>\n",
       "    </tr>\n",
       "    <tr>\n",
       "      <th>1</th>\n",
       "      <td>2023-01-01 00:51:03</td>\n",
       "      <td>2023-01-01 00:57:49</td>\n",
       "      <td>24</td>\n",
       "      <td>43</td>\n",
       "      <td>1.0</td>\n",
       "      <td>1.81</td>\n",
       "      <td>18.48</td>\n",
       "      <td>green</td>\n",
       "    </tr>\n",
       "  </tbody>\n",
       "</table>\n",
       "</div>"
      ],
      "text/plain": [
       "      pickup_datetime    dropoff_datetime  PULocationID  DOLocationID  \\\n",
       "0 2023-01-01 00:26:10 2023-01-01 00:37:11           166           143   \n",
       "1 2023-01-01 00:51:03 2023-01-01 00:57:49            24            43   \n",
       "\n",
       "   passenger_count  trip_distance  total_amount service_type  \n",
       "0              1.0           2.58         28.21        green  \n",
       "1              1.0           1.81         18.48        green  "
      ]
     },
     "execution_count": 17,
     "metadata": {},
     "output_type": "execute_result"
    }
   ],
   "source": [
    "# Creamos una columna llamada service_type con el valor 'green'\n",
    "green_taxis['service_type'] = 'green'\n",
    "green_taxis.head(2)"
   ]
  },
  {
   "cell_type": "markdown",
   "metadata": {},
   "source": [
    "### _**Unimos los dataframes mensuales de taxis amarillos en un solo dataframe.**_"
   ]
  },
  {
   "cell_type": "code",
   "execution_count": 18,
   "metadata": {},
   "outputs": [],
   "source": [
    "enero_y = pd.read_parquet(\"Datasets/2-yellow_and_green_taxis/yellow_tripdata_2023-01.parquet\")\n",
    "febrero_y = pd.read_parquet(\"Datasets/2-yellow_and_green_taxis/yellow_tripdata_2023-02.parquet\")\n",
    "marzo_y = pd.read_parquet(\"Datasets/2-yellow_and_green_taxis/yellow_tripdata_2023-03.parquet\")\n",
    "abril_y = pd.read_parquet(\"Datasets/2-yellow_and_green_taxis/yellow_tripdata_2023-04.parquet\")\n",
    "mayo_y = pd.read_parquet(\"Datasets/2-yellow_and_green_taxis/yellow_tripdata_2023-05.parquet\")\n",
    "junio_y = pd.read_parquet(\"Datasets/2-yellow_and_green_taxis/yellow_tripdata_2023-06.parquet\")\n",
    "julio_y = pd.read_parquet(\"Datasets/2-yellow_and_green_taxis/yellow_tripdata_2023-07.parquet\")\n",
    "agosto_y = pd.read_parquet(\"Datasets/2-yellow_and_green_taxis/yellow_tripdata_2023-08.parquet\")\n",
    "septiembre_y = pd.read_parquet(\"Datasets/2-yellow_and_green_taxis/yellow_tripdata_2023-09.parquet\")\n",
    "octubre_y = pd.read_parquet(\"Datasets/2-yellow_and_green_taxis/yellow_tripdata_2023-10.parquet\")"
   ]
  },
  {
   "cell_type": "code",
   "execution_count": 19,
   "metadata": {},
   "outputs": [
    {
     "name": "stdout",
     "output_type": "stream",
     "text": [
      "<class 'pandas.core.frame.DataFrame'>\n",
      "RangeIndex: 31593944 entries, 0 to 31593943\n",
      "Data columns (total 20 columns):\n",
      " #   Column                 Dtype         \n",
      "---  ------                 -----         \n",
      " 0   VendorID               int64         \n",
      " 1   tpep_pickup_datetime   datetime64[us]\n",
      " 2   tpep_dropoff_datetime  datetime64[us]\n",
      " 3   passenger_count        float64       \n",
      " 4   trip_distance          float64       \n",
      " 5   RatecodeID             float64       \n",
      " 6   store_and_fwd_flag     object        \n",
      " 7   PULocationID           int64         \n",
      " 8   DOLocationID           int64         \n",
      " 9   payment_type           int64         \n",
      " 10  fare_amount            float64       \n",
      " 11  extra                  float64       \n",
      " 12  mta_tax                float64       \n",
      " 13  tip_amount             float64       \n",
      " 14  tolls_amount           float64       \n",
      " 15  improvement_surcharge  float64       \n",
      " 16  total_amount           float64       \n",
      " 17  congestion_surcharge   float64       \n",
      " 18  airport_fee            float64       \n",
      " 19  Airport_fee            float64       \n",
      "dtypes: datetime64[us](2), float64(13), int64(4), object(1)\n",
      "memory usage: 4.7+ GB\n"
     ]
    }
   ],
   "source": [
    "# Listamos los DataFrames\n",
    "dfs = [enero_y, febrero_y, marzo_y, abril_y, mayo_y, junio_y, julio_y, agosto_y, septiembre_y, octubre_y]\n",
    "\n",
    "# Concatenamos para crear uno solo\n",
    "yellow_taxis = pd.concat(dfs, ignore_index=True)\n",
    "yellow_taxis.info()"
   ]
  },
  {
   "cell_type": "code",
   "execution_count": 20,
   "metadata": {},
   "outputs": [
    {
     "name": "stdout",
     "output_type": "stream",
     "text": [
      "<class 'pandas.core.frame.DataFrame'>\n",
      "RangeIndex: 31593944 entries, 0 to 31593943\n",
      "Data columns (total 8 columns):\n",
      " #   Column            Dtype         \n",
      "---  ------            -----         \n",
      " 0   pickup_datetime   datetime64[us]\n",
      " 1   dropoff_datetime  datetime64[us]\n",
      " 2   passenger_count   float64       \n",
      " 3   trip_distance     float64       \n",
      " 4   PULocationID      int64         \n",
      " 5   DOLocationID      int64         \n",
      " 6   tip_amount        float64       \n",
      " 7   amount            float64       \n",
      "dtypes: datetime64[us](2), float64(4), int64(2)\n",
      "memory usage: 1.9 GB\n"
     ]
    }
   ],
   "source": [
    "# Guardamos columnas a eliminar en una variable\n",
    "columnas_eliminar = ['store_and_fwd_flag', 'fare_amount', 'extra', 'mta_tax', 'tolls_amount', 'improvement_surcharge',\n",
    "                    'congestion_surcharge', 'airport_fee', 'Airport_fee', 'VendorID', 'RatecodeID', 'payment_type']\n",
    "\n",
    "# Eliminamos las columnas de la lista\n",
    "yellow_taxis.drop(columns=columnas_eliminar, inplace=True)\n",
    "\n",
    "# Renombramos las columnas\n",
    "yellow_taxis.rename(columns={'tpep_pickup_datetime': 'pickup_datetime','tpep_dropoff_datetime': 'dropoff_datetime',\n",
    "                             'total_amount': 'amount'}, inplace=True)\n",
    "yellow_taxis.info()"
   ]
  },
  {
   "cell_type": "code",
   "execution_count": 21,
   "metadata": {},
   "outputs": [
    {
     "data": {
      "text/html": [
       "<div>\n",
       "<style scoped>\n",
       "    .dataframe tbody tr th:only-of-type {\n",
       "        vertical-align: middle;\n",
       "    }\n",
       "\n",
       "    .dataframe tbody tr th {\n",
       "        vertical-align: top;\n",
       "    }\n",
       "\n",
       "    .dataframe thead th {\n",
       "        text-align: right;\n",
       "    }\n",
       "</style>\n",
       "<table border=\"1\" class=\"dataframe\">\n",
       "  <thead>\n",
       "    <tr style=\"text-align: right;\">\n",
       "      <th></th>\n",
       "      <th>pickup_datetime</th>\n",
       "      <th>dropoff_datetime</th>\n",
       "      <th>passenger_count</th>\n",
       "      <th>trip_distance</th>\n",
       "      <th>PULocationID</th>\n",
       "      <th>DOLocationID</th>\n",
       "      <th>tip_amount</th>\n",
       "      <th>amount</th>\n",
       "    </tr>\n",
       "  </thead>\n",
       "  <tbody>\n",
       "    <tr>\n",
       "      <th>0</th>\n",
       "      <td>2023-01-01 00:32:10</td>\n",
       "      <td>2023-01-01 00:40:36</td>\n",
       "      <td>1.0</td>\n",
       "      <td>0.97</td>\n",
       "      <td>161</td>\n",
       "      <td>141</td>\n",
       "      <td>0.00</td>\n",
       "      <td>14.30</td>\n",
       "    </tr>\n",
       "    <tr>\n",
       "      <th>1</th>\n",
       "      <td>2023-01-01 00:55:08</td>\n",
       "      <td>2023-01-01 01:01:27</td>\n",
       "      <td>1.0</td>\n",
       "      <td>1.10</td>\n",
       "      <td>43</td>\n",
       "      <td>237</td>\n",
       "      <td>4.00</td>\n",
       "      <td>16.90</td>\n",
       "    </tr>\n",
       "    <tr>\n",
       "      <th>2</th>\n",
       "      <td>2023-01-01 00:25:04</td>\n",
       "      <td>2023-01-01 00:37:49</td>\n",
       "      <td>1.0</td>\n",
       "      <td>2.51</td>\n",
       "      <td>48</td>\n",
       "      <td>238</td>\n",
       "      <td>15.00</td>\n",
       "      <td>34.90</td>\n",
       "    </tr>\n",
       "    <tr>\n",
       "      <th>3</th>\n",
       "      <td>2023-01-01 00:03:48</td>\n",
       "      <td>2023-01-01 00:13:25</td>\n",
       "      <td>0.0</td>\n",
       "      <td>1.90</td>\n",
       "      <td>138</td>\n",
       "      <td>7</td>\n",
       "      <td>0.00</td>\n",
       "      <td>20.85</td>\n",
       "    </tr>\n",
       "    <tr>\n",
       "      <th>4</th>\n",
       "      <td>2023-01-01 00:10:29</td>\n",
       "      <td>2023-01-01 00:21:19</td>\n",
       "      <td>1.0</td>\n",
       "      <td>1.43</td>\n",
       "      <td>107</td>\n",
       "      <td>79</td>\n",
       "      <td>3.28</td>\n",
       "      <td>19.68</td>\n",
       "    </tr>\n",
       "  </tbody>\n",
       "</table>\n",
       "</div>"
      ],
      "text/plain": [
       "      pickup_datetime    dropoff_datetime  passenger_count  trip_distance  \\\n",
       "0 2023-01-01 00:32:10 2023-01-01 00:40:36              1.0           0.97   \n",
       "1 2023-01-01 00:55:08 2023-01-01 01:01:27              1.0           1.10   \n",
       "2 2023-01-01 00:25:04 2023-01-01 00:37:49              1.0           2.51   \n",
       "3 2023-01-01 00:03:48 2023-01-01 00:13:25              0.0           1.90   \n",
       "4 2023-01-01 00:10:29 2023-01-01 00:21:19              1.0           1.43   \n",
       "\n",
       "   PULocationID  DOLocationID  tip_amount  amount  \n",
       "0           161           141        0.00   14.30  \n",
       "1            43           237        4.00   16.90  \n",
       "2            48           238       15.00   34.90  \n",
       "3           138             7        0.00   20.85  \n",
       "4           107            79        3.28   19.68  "
      ]
     },
     "execution_count": 21,
     "metadata": {},
     "output_type": "execute_result"
    }
   ],
   "source": [
    "yellow_taxis.head()"
   ]
  },
  {
   "cell_type": "markdown",
   "metadata": {},
   "source": [
    "### En New York la propina (tip_amount) se considera una costumbre. Conforme a lo detallado en el diccionario provisto, el pago total incluye impuestos pero no propina asi que procedemos a sumar las columnas 'amount' y 'tip_amount'."
   ]
  },
  {
   "cell_type": "code",
   "execution_count": 22,
   "metadata": {},
   "outputs": [
    {
     "data": {
      "text/html": [
       "<div>\n",
       "<style scoped>\n",
       "    .dataframe tbody tr th:only-of-type {\n",
       "        vertical-align: middle;\n",
       "    }\n",
       "\n",
       "    .dataframe tbody tr th {\n",
       "        vertical-align: top;\n",
       "    }\n",
       "\n",
       "    .dataframe thead th {\n",
       "        text-align: right;\n",
       "    }\n",
       "</style>\n",
       "<table border=\"1\" class=\"dataframe\">\n",
       "  <thead>\n",
       "    <tr style=\"text-align: right;\">\n",
       "      <th></th>\n",
       "      <th>pickup_datetime</th>\n",
       "      <th>dropoff_datetime</th>\n",
       "      <th>passenger_count</th>\n",
       "      <th>trip_distance</th>\n",
       "      <th>PULocationID</th>\n",
       "      <th>DOLocationID</th>\n",
       "      <th>tip_amount</th>\n",
       "      <th>amount</th>\n",
       "      <th>total_amount</th>\n",
       "    </tr>\n",
       "  </thead>\n",
       "  <tbody>\n",
       "    <tr>\n",
       "      <th>0</th>\n",
       "      <td>2023-01-01 00:32:10</td>\n",
       "      <td>2023-01-01 00:40:36</td>\n",
       "      <td>1.0</td>\n",
       "      <td>0.97</td>\n",
       "      <td>161</td>\n",
       "      <td>141</td>\n",
       "      <td>0.00</td>\n",
       "      <td>14.30</td>\n",
       "      <td>14.30</td>\n",
       "    </tr>\n",
       "    <tr>\n",
       "      <th>1</th>\n",
       "      <td>2023-01-01 00:55:08</td>\n",
       "      <td>2023-01-01 01:01:27</td>\n",
       "      <td>1.0</td>\n",
       "      <td>1.10</td>\n",
       "      <td>43</td>\n",
       "      <td>237</td>\n",
       "      <td>4.00</td>\n",
       "      <td>16.90</td>\n",
       "      <td>20.90</td>\n",
       "    </tr>\n",
       "    <tr>\n",
       "      <th>2</th>\n",
       "      <td>2023-01-01 00:25:04</td>\n",
       "      <td>2023-01-01 00:37:49</td>\n",
       "      <td>1.0</td>\n",
       "      <td>2.51</td>\n",
       "      <td>48</td>\n",
       "      <td>238</td>\n",
       "      <td>15.00</td>\n",
       "      <td>34.90</td>\n",
       "      <td>49.90</td>\n",
       "    </tr>\n",
       "    <tr>\n",
       "      <th>3</th>\n",
       "      <td>2023-01-01 00:03:48</td>\n",
       "      <td>2023-01-01 00:13:25</td>\n",
       "      <td>0.0</td>\n",
       "      <td>1.90</td>\n",
       "      <td>138</td>\n",
       "      <td>7</td>\n",
       "      <td>0.00</td>\n",
       "      <td>20.85</td>\n",
       "      <td>20.85</td>\n",
       "    </tr>\n",
       "    <tr>\n",
       "      <th>4</th>\n",
       "      <td>2023-01-01 00:10:29</td>\n",
       "      <td>2023-01-01 00:21:19</td>\n",
       "      <td>1.0</td>\n",
       "      <td>1.43</td>\n",
       "      <td>107</td>\n",
       "      <td>79</td>\n",
       "      <td>3.28</td>\n",
       "      <td>19.68</td>\n",
       "      <td>22.96</td>\n",
       "    </tr>\n",
       "  </tbody>\n",
       "</table>\n",
       "</div>"
      ],
      "text/plain": [
       "      pickup_datetime    dropoff_datetime  passenger_count  trip_distance  \\\n",
       "0 2023-01-01 00:32:10 2023-01-01 00:40:36              1.0           0.97   \n",
       "1 2023-01-01 00:55:08 2023-01-01 01:01:27              1.0           1.10   \n",
       "2 2023-01-01 00:25:04 2023-01-01 00:37:49              1.0           2.51   \n",
       "3 2023-01-01 00:03:48 2023-01-01 00:13:25              0.0           1.90   \n",
       "4 2023-01-01 00:10:29 2023-01-01 00:21:19              1.0           1.43   \n",
       "\n",
       "   PULocationID  DOLocationID  tip_amount  amount  total_amount  \n",
       "0           161           141        0.00   14.30         14.30  \n",
       "1            43           237        4.00   16.90         20.90  \n",
       "2            48           238       15.00   34.90         49.90  \n",
       "3           138             7        0.00   20.85         20.85  \n",
       "4           107            79        3.28   19.68         22.96  "
      ]
     },
     "execution_count": 22,
     "metadata": {},
     "output_type": "execute_result"
    }
   ],
   "source": [
    "# Sumamos las columnas amount y tip_amount para crear la columna total_amount\n",
    "yellow_taxis['total_amount'] = yellow_taxis['amount'] + yellow_taxis['tip_amount']\n",
    "\n",
    "# Mostrar las primeras filas del DataFrame resultante\n",
    "yellow_taxis.head()"
   ]
  },
  {
   "cell_type": "code",
   "execution_count": 23,
   "metadata": {},
   "outputs": [
    {
     "name": "stdout",
     "output_type": "stream",
     "text": [
      "<class 'pandas.core.frame.DataFrame'>\n",
      "RangeIndex: 31593944 entries, 0 to 31593943\n",
      "Data columns (total 7 columns):\n",
      " #   Column            Dtype         \n",
      "---  ------            -----         \n",
      " 0   pickup_datetime   datetime64[us]\n",
      " 1   dropoff_datetime  datetime64[us]\n",
      " 2   passenger_count   float64       \n",
      " 3   trip_distance     float64       \n",
      " 4   PULocationID      int64         \n",
      " 5   DOLocationID      int64         \n",
      " 6   total_amount      float64       \n",
      "dtypes: datetime64[us](2), float64(3), int64(2)\n",
      "memory usage: 1.6 GB\n"
     ]
    }
   ],
   "source": [
    "# Eliminamos las columnas amount y tip_amount al no ser necesarias\n",
    "yellow_taxis.drop(columns=['amount', 'tip_amount'], inplace=True)\n",
    "yellow_taxis.info()"
   ]
  },
  {
   "cell_type": "code",
   "execution_count": 24,
   "metadata": {},
   "outputs": [
    {
     "data": {
      "text/plain": [
       "passenger_count\n",
       "1.0    23038865\n",
       "2.0     4611264\n",
       "3.0     1143944\n",
       "4.0      631774\n",
       "0.0      499112\n",
       "5.0      404224\n",
       "6.0      267804\n",
       "8.0         166\n",
       "7.0          67\n",
       "9.0          46\n",
       "Name: count, dtype: int64"
      ]
     },
     "execution_count": 24,
     "metadata": {},
     "output_type": "execute_result"
    }
   ],
   "source": [
    "# Revisamos los valores de la columna passenger_count\n",
    "yellow_taxis['passenger_count'].value_counts()"
   ]
  },
  {
   "cell_type": "code",
   "execution_count": 25,
   "metadata": {},
   "outputs": [
    {
     "data": {
      "text/plain": [
       "996678"
      ]
     },
     "execution_count": 25,
     "metadata": {},
     "output_type": "execute_result"
    }
   ],
   "source": [
    "# Verificamos nulos\n",
    "yellow_taxis['passenger_count'].isnull().sum()"
   ]
  },
  {
   "cell_type": "code",
   "execution_count": 26,
   "metadata": {},
   "outputs": [
    {
     "data": {
      "text/html": [
       "<div>\n",
       "<style scoped>\n",
       "    .dataframe tbody tr th:only-of-type {\n",
       "        vertical-align: middle;\n",
       "    }\n",
       "\n",
       "    .dataframe tbody tr th {\n",
       "        vertical-align: top;\n",
       "    }\n",
       "\n",
       "    .dataframe thead th {\n",
       "        text-align: right;\n",
       "    }\n",
       "</style>\n",
       "<table border=\"1\" class=\"dataframe\">\n",
       "  <thead>\n",
       "    <tr style=\"text-align: right;\">\n",
       "      <th></th>\n",
       "      <th>pickup_datetime</th>\n",
       "      <th>dropoff_datetime</th>\n",
       "      <th>passenger_count</th>\n",
       "      <th>trip_distance</th>\n",
       "      <th>PULocationID</th>\n",
       "      <th>DOLocationID</th>\n",
       "      <th>total_amount</th>\n",
       "    </tr>\n",
       "  </thead>\n",
       "  <tbody>\n",
       "    <tr>\n",
       "      <th>2995023</th>\n",
       "      <td>2023-01-01 00:02:40</td>\n",
       "      <td>2023-01-01 00:30:36</td>\n",
       "      <td>NaN</td>\n",
       "      <td>0.00</td>\n",
       "      <td>142</td>\n",
       "      <td>79</td>\n",
       "      <td>24.13</td>\n",
       "    </tr>\n",
       "    <tr>\n",
       "      <th>2995024</th>\n",
       "      <td>2023-01-01 00:57:48</td>\n",
       "      <td>2023-01-01 01:12:34</td>\n",
       "      <td>NaN</td>\n",
       "      <td>0.00</td>\n",
       "      <td>237</td>\n",
       "      <td>263</td>\n",
       "      <td>24.10</td>\n",
       "    </tr>\n",
       "    <tr>\n",
       "      <th>2995025</th>\n",
       "      <td>2023-01-01 00:55:37</td>\n",
       "      <td>2023-01-01 01:00:41</td>\n",
       "      <td>NaN</td>\n",
       "      <td>0.86</td>\n",
       "      <td>24</td>\n",
       "      <td>41</td>\n",
       "      <td>18.58</td>\n",
       "    </tr>\n",
       "    <tr>\n",
       "      <th>2995026</th>\n",
       "      <td>2023-01-01 00:43:47</td>\n",
       "      <td>2023-01-01 00:56:12</td>\n",
       "      <td>NaN</td>\n",
       "      <td>5.36</td>\n",
       "      <td>88</td>\n",
       "      <td>229</td>\n",
       "      <td>37.07</td>\n",
       "    </tr>\n",
       "    <tr>\n",
       "      <th>2995027</th>\n",
       "      <td>2023-01-01 00:34:00</td>\n",
       "      <td>2023-01-01 00:51:00</td>\n",
       "      <td>NaN</td>\n",
       "      <td>6.03</td>\n",
       "      <td>232</td>\n",
       "      <td>263</td>\n",
       "      <td>50.82</td>\n",
       "    </tr>\n",
       "  </tbody>\n",
       "</table>\n",
       "</div>"
      ],
      "text/plain": [
       "            pickup_datetime    dropoff_datetime  passenger_count  \\\n",
       "2995023 2023-01-01 00:02:40 2023-01-01 00:30:36              NaN   \n",
       "2995024 2023-01-01 00:57:48 2023-01-01 01:12:34              NaN   \n",
       "2995025 2023-01-01 00:55:37 2023-01-01 01:00:41              NaN   \n",
       "2995026 2023-01-01 00:43:47 2023-01-01 00:56:12              NaN   \n",
       "2995027 2023-01-01 00:34:00 2023-01-01 00:51:00              NaN   \n",
       "\n",
       "         trip_distance  PULocationID  DOLocationID  total_amount  \n",
       "2995023           0.00           142            79         24.13  \n",
       "2995024           0.00           237           263         24.10  \n",
       "2995025           0.86            24            41         18.58  \n",
       "2995026           5.36            88           229         37.07  \n",
       "2995027           6.03           232           263         50.82  "
      ]
     },
     "execution_count": 26,
     "metadata": {},
     "output_type": "execute_result"
    }
   ],
   "source": [
    "# Verificamos la composición del DataFrame cuando passenger_count es nulo para no tomar decisiones erroneas\n",
    "verificar2 = yellow_taxis[yellow_taxis['passenger_count'].isnull()]\n",
    "verificar2.head()"
   ]
  },
  {
   "cell_type": "markdown",
   "metadata": {},
   "source": [
    "### Teniendo en cuenta que hay ocasiones en que no se informa de cantidad de pasajeros pero si hay un registro de pago, procedemos a completar los valores nulos de la columna 'passenger_count' con el valor 1."
   ]
  },
  {
   "cell_type": "code",
   "execution_count": 27,
   "metadata": {},
   "outputs": [
    {
     "data": {
      "text/plain": [
       "0"
      ]
     },
     "execution_count": 27,
     "metadata": {},
     "output_type": "execute_result"
    }
   ],
   "source": [
    "# Completamos los valores faltantes de la columna passenger_count con el valor 1\n",
    "yellow_taxis['passenger_count'].fillna(1, inplace=True)\n",
    "yellow_taxis['passenger_count'].isnull().sum()"
   ]
  },
  {
   "cell_type": "code",
   "execution_count": 28,
   "metadata": {},
   "outputs": [
    {
     "data": {
      "text/plain": [
       "passenger_count\n",
       "1.0    24035543\n",
       "2.0     4611264\n",
       "3.0     1143944\n",
       "4.0      631774\n",
       "5.0      404224\n",
       "6.0      267804\n",
       "8.0         166\n",
       "7.0          67\n",
       "9.0          46\n",
       "Name: count, dtype: int64"
      ]
     },
     "execution_count": 28,
     "metadata": {},
     "output_type": "execute_result"
    }
   ],
   "source": [
    "# Eliminamos las filas donde passenger_count es igual a 0.0\n",
    "yellow_taxis = yellow_taxis[yellow_taxis['passenger_count'] != 0.0]\n",
    "yellow_taxis['passenger_count'].value_counts()"
   ]
  },
  {
   "cell_type": "code",
   "execution_count": 29,
   "metadata": {},
   "outputs": [
    {
     "data": {
      "text/plain": [
       "trip_distance\n",
       "0.00       584574\n",
       "1.00       405061\n",
       "0.90       403986\n",
       "1.10       395261\n",
       "0.80       391019\n",
       "            ...  \n",
       "52.06           1\n",
       "61.97           1\n",
       "71.25           1\n",
       "69.80           1\n",
       "4547.48         1\n",
       "Name: count, Length: 8157, dtype: int64"
      ]
     },
     "execution_count": 29,
     "metadata": {},
     "output_type": "execute_result"
    }
   ],
   "source": [
    "# Revisamos los valores de la columna trip_distance\n",
    "yellow_taxis['trip_distance'].value_counts()"
   ]
  },
  {
   "cell_type": "code",
   "execution_count": 30,
   "metadata": {},
   "outputs": [
    {
     "data": {
      "text/plain": [
       "trip_distance\n",
       "1.00       405061\n",
       "0.90       403986\n",
       "1.10       395261\n",
       "0.80       391019\n",
       "1.20       383900\n",
       "            ...  \n",
       "9679.47         1\n",
       "48.04           1\n",
       "65.09           1\n",
       "52.21           1\n",
       "4547.48         1\n",
       "Name: count, Length: 8156, dtype: int64"
      ]
     },
     "execution_count": 30,
     "metadata": {},
     "output_type": "execute_result"
    }
   ],
   "source": [
    "# Eliminamos las filas donde trip_distance es igual a 0.00\n",
    "yellow_taxis = yellow_taxis[yellow_taxis['trip_distance'] != 0.00]\n",
    "yellow_taxis['trip_distance'].value_counts()"
   ]
  },
  {
   "cell_type": "code",
   "execution_count": 31,
   "metadata": {},
   "outputs": [
    {
     "data": {
      "text/html": [
       "<div>\n",
       "<style scoped>\n",
       "    .dataframe tbody tr th:only-of-type {\n",
       "        vertical-align: middle;\n",
       "    }\n",
       "\n",
       "    .dataframe tbody tr th {\n",
       "        vertical-align: top;\n",
       "    }\n",
       "\n",
       "    .dataframe thead th {\n",
       "        text-align: right;\n",
       "    }\n",
       "</style>\n",
       "<table border=\"1\" class=\"dataframe\">\n",
       "  <thead>\n",
       "    <tr style=\"text-align: right;\">\n",
       "      <th></th>\n",
       "      <th>pickup_datetime</th>\n",
       "      <th>dropoff_datetime</th>\n",
       "      <th>passenger_count</th>\n",
       "      <th>trip_distance</th>\n",
       "      <th>PULocationID</th>\n",
       "      <th>DOLocationID</th>\n",
       "      <th>total_amount</th>\n",
       "      <th>service_type</th>\n",
       "    </tr>\n",
       "  </thead>\n",
       "  <tbody>\n",
       "    <tr>\n",
       "      <th>0</th>\n",
       "      <td>2023-01-01 00:32:10</td>\n",
       "      <td>2023-01-01 00:40:36</td>\n",
       "      <td>1.0</td>\n",
       "      <td>0.97</td>\n",
       "      <td>161</td>\n",
       "      <td>141</td>\n",
       "      <td>14.3</td>\n",
       "      <td>yellow</td>\n",
       "    </tr>\n",
       "    <tr>\n",
       "      <th>1</th>\n",
       "      <td>2023-01-01 00:55:08</td>\n",
       "      <td>2023-01-01 01:01:27</td>\n",
       "      <td>1.0</td>\n",
       "      <td>1.10</td>\n",
       "      <td>43</td>\n",
       "      <td>237</td>\n",
       "      <td>20.9</td>\n",
       "      <td>yellow</td>\n",
       "    </tr>\n",
       "  </tbody>\n",
       "</table>\n",
       "</div>"
      ],
      "text/plain": [
       "      pickup_datetime    dropoff_datetime  passenger_count  trip_distance  \\\n",
       "0 2023-01-01 00:32:10 2023-01-01 00:40:36              1.0           0.97   \n",
       "1 2023-01-01 00:55:08 2023-01-01 01:01:27              1.0           1.10   \n",
       "\n",
       "   PULocationID  DOLocationID  total_amount service_type  \n",
       "0           161           141          14.3       yellow  \n",
       "1            43           237          20.9       yellow  "
      ]
     },
     "execution_count": 31,
     "metadata": {},
     "output_type": "execute_result"
    }
   ],
   "source": [
    "# Creamos una columna llamada service_type con el valor 'yellow'\n",
    "yellow_taxis['service_type'] = 'yellow'\n",
    "yellow_taxis.head(2)"
   ]
  },
  {
   "cell_type": "markdown",
   "metadata": {},
   "source": [
    "### Teniendo los dataframes de taxis amarillos y verdes y habiendo creado una columna que los distinga, procedemos a unirlos en un solo dataframe."
   ]
  },
  {
   "cell_type": "code",
   "execution_count": 32,
   "metadata": {},
   "outputs": [
    {
     "name": "stdout",
     "output_type": "stream",
     "text": [
      "<class 'pandas.core.frame.DataFrame'>\n",
      "RangeIndex: 31131356 entries, 0 to 31131355\n",
      "Data columns (total 8 columns):\n",
      " #   Column            Dtype         \n",
      "---  ------            -----         \n",
      " 0   pickup_datetime   datetime64[us]\n",
      " 1   dropoff_datetime  datetime64[us]\n",
      " 2   passenger_count   float64       \n",
      " 3   trip_distance     float64       \n",
      " 4   PULocationID      int64         \n",
      " 5   DOLocationID      int64         \n",
      " 6   total_amount      float64       \n",
      " 7   service_type      object        \n",
      "dtypes: datetime64[us](2), float64(3), int64(2), object(1)\n",
      "memory usage: 1.9+ GB\n"
     ]
    }
   ],
   "source": [
    "# Concatenamos los DataFrames de yellow y green taxis\n",
    "taxis = pd.concat([yellow_taxis, green_taxis], ignore_index=True)\n",
    "taxis.info()"
   ]
  },
  {
   "cell_type": "code",
   "execution_count": 33,
   "metadata": {},
   "outputs": [],
   "source": [
    "# Aplicamos la función para crear nuevas columnas\n",
    "taxis['pickup_borough'] = taxis['PULocationID'].apply(get_borough)\n",
    "taxis['dropoff_borough'] = taxis['DOLocationID'].apply(get_borough)"
   ]
  },
  {
   "cell_type": "code",
   "execution_count": 34,
   "metadata": {},
   "outputs": [
    {
     "data": {
      "text/plain": [
       "pickup_borough\n",
       "Manhattan        27321484\n",
       "Queens            3167940\n",
       "Unknown            300380\n",
       "Brooklyn           286741\n",
       "Bronx               52047\n",
       "Staten Island        1817\n",
       "EWR                   947\n",
       "Name: count, dtype: int64"
      ]
     },
     "execution_count": 34,
     "metadata": {},
     "output_type": "execute_result"
    }
   ],
   "source": [
    "taxis.pickup_borough.value_counts()"
   ]
  },
  {
   "cell_type": "code",
   "execution_count": 35,
   "metadata": {},
   "outputs": [
    {
     "data": {
      "text/plain": [
       "dropoff_borough\n",
       "Manhattan        27334748\n",
       "Queens            1794793\n",
       "Brooklyn          1284248\n",
       "Unknown            413020\n",
       "Bronx              202820\n",
       "EWR                 92679\n",
       "Staten Island        9048\n",
       "Name: count, dtype: int64"
      ]
     },
     "execution_count": 35,
     "metadata": {},
     "output_type": "execute_result"
    }
   ],
   "source": [
    "taxis.dropoff_borough.value_counts()"
   ]
  },
  {
   "cell_type": "code",
   "execution_count": 36,
   "metadata": {},
   "outputs": [
    {
     "name": "stdout",
     "output_type": "stream",
     "text": [
      "<class 'pandas.core.frame.DataFrame'>\n",
      "Index: 30648503 entries, 0 to 31131355\n",
      "Data columns (total 10 columns):\n",
      " #   Column            Dtype         \n",
      "---  ------            -----         \n",
      " 0   pickup_datetime   datetime64[us]\n",
      " 1   dropoff_datetime  datetime64[us]\n",
      " 2   passenger_count   float64       \n",
      " 3   trip_distance     float64       \n",
      " 4   PULocationID      int64         \n",
      " 5   DOLocationID      int64         \n",
      " 6   total_amount      float64       \n",
      " 7   service_type      object        \n",
      " 8   pickup_borough    object        \n",
      " 9   dropoff_borough   object        \n",
      "dtypes: datetime64[us](2), float64(3), int64(2), object(3)\n",
      "memory usage: 2.5+ GB\n"
     ]
    }
   ],
   "source": [
    "# Eliminamos todas las filas donde pickup_borough o dropoff_borough sea igual a 'Unknown'\n",
    "taxis = taxis[(taxis['pickup_borough'] != 'Unknown') & (taxis['dropoff_borough'] != 'Unknown')]\n",
    "taxis.info()"
   ]
  },
  {
   "cell_type": "code",
   "execution_count": null,
   "metadata": {},
   "outputs": [],
   "source": [
    "# Cambiamos el tipo de dato de 'passenger_count' a int\n",
    "taxis['passenger_count'] = taxis['passenger_count'].astype(int)\n",
    "taxis.info()"
   ]
  },
  {
   "cell_type": "markdown",
   "metadata": {},
   "source": [
    "### Guardamos el dataframe de taxis en un archivo parquet."
   ]
  },
  {
   "cell_type": "code",
   "execution_count": 36,
   "metadata": {},
   "outputs": [],
   "source": [
    "taxis.to_parquet(\"Datasets/3-Normalizados/taxis_2023.parquet\")"
   ]
  },
  {
   "cell_type": "code",
   "execution_count": null,
   "metadata": {},
   "outputs": [],
   "source": [
    "import pandas as pd\n",
    "import boto3\n",
    "from io import BytesIO\n",
    "from botocore.exceptions import NoCredentialsError\n",
    "\n",
    "def read_parquet_from_s3(bucket_name, key):\n",
    "    s3 = boto3.client('s3')\n",
    "    try:\n",
    "        response = s3.get_object(Bucket=bucket_name, Key=key)\n",
    "        parquet_data = response['Body'].read()\n",
    "        df = pd.read_parquet(BytesIO(parquet_data))\n",
    "        return df\n",
    "    except NoCredentialsError:\n",
    "        print('Credentials not available')\n",
    "\n",
    "def etl_taxis(df, service_type):\n",
    "    # Guardamos columnas a eliminar en una variable\n",
    "    columnas_eliminar = ['store_and_fwd_flag', 'fare_amount', 'extra', 'mta_tax', 'tolls_amount', 'improvement_surcharge',\n",
    "                        'ehail_fee', 'congestion_surcharge', 'trip_type', 'VendorID', 'RatecodeID', 'payment_type']\n",
    "\n",
    "    # Eliminamos las columnas de la lista\n",
    "    df.drop(columns=columnas_eliminar, inplace=True)\n",
    "\n",
    "    # Renombramos las columnas\n",
    "    df.rename(columns={'lpep_pickup_datetime': 'pickup_datetime', 'lpep_dropoff_datetime': 'dropoff_datetime',\n",
    "                       'tpep_pickup_datetime': 'pickup_datetime', 'tpep_dropoff_datetime': 'dropoff_datetime',\n",
    "                       'total_amount': 'amount'}, inplace=True)\n",
    "\n",
    "    # Sumamos las columnas amount y tip_amount para crear la columna total_amount\n",
    "    df['total_amount'] = df['amount'] + df['tip_amount']\n",
    "\n",
    "    # Eliminamos las columnas amount y tip_amount al no ser necesarias\n",
    "    df.drop(columns=['amount', 'tip_amount'], inplace=True)\n",
    "\n",
    "    # Completamos los valores faltantes de la columna passenger_count con el valor 1\n",
    "    df['passenger_count'].fillna(1, inplace=True)\n",
    "\n",
    "    # Eliminamos las filas donde passenger_count es igual a 0.0\n",
    "    df = df[df['passenger_count'] != 0.0]\n",
    "\n",
    "    # Eliminamos las filas donde trip_distance es igual a 0.00\n",
    "    df = df[df['trip_distance'] != 0.00]\n",
    "\n",
    "    # Creamos una columna llamada service_type con el valor proporcionado\n",
    "    df['service_type'] = service_type\n",
    "\n",
    "    return df\n",
    "\n",
    "def get_borough(location_id):\n",
    "    # ... (código de la función get_borough)\n",
    "    return 'Unknown'\n",
    "\n",
    "def lambda_handler(event, context):\n",
    "    bucket_name = \"web-scrap-bucket\"\n",
    "    service_types = ['yellow', 'green']\n",
    "    dfs = []\n",
    "\n",
    "    for service_type in service_types:\n",
    "        service_dfs = []\n",
    "        for month in range(1, 13):\n",
    "            file_key = f\"{service_type}_tripdata_2023-{str(month).zfill(2)}.parquet\"\n",
    "            df = read_parquet_from_s3(bucket_name, file_key)\n",
    "            df_transformed = etl_taxis(df, service_type)\n",
    "            service_dfs.append(df_transformed)\n",
    "\n",
    "        taxis_data = pd.concat(service_dfs, ignore_index=True)\n",
    "\n",
    "        dfs.append(taxis_data)\n",
    "\n",
    "    # Concatenar los DataFrames de amarillo y verde\n",
    "    taxis = pd.concat(dfs, ignore_index=True)\n",
    "\n",
    "    # Aplicar la función para crear nuevas columnas\n",
    "    taxis['pickup_borough'] = taxis['PULocationID'].apply(get_borough)\n",
    "    taxis['dropoff_borough'] = taxis['DOLocationID'].apply(get_borough)\n",
    "\n",
    "    # Eliminar filas donde pickup_borough o dropoff_borough sea igual a 'Unknown'\n",
    "    taxis = taxis[(taxis['pickup_borough'] != 'Unknown') & (taxis['dropoff_borough'] != 'Unknown')]\n",
    "\n",
    "    # Cambiar el tipo de dato de 'passenger_count' a int\n",
    "    taxis['passenger_count'] = taxis['passenger_count'].astype(int)\n",
    "\n",
    "    # Guardar el DataFrame en un archivo parquet dentro del bucket de S3\n",
    "    taxis.to_parquet(\"s3://web-scrap-bucket/taxis_2023.parquet\")\n",
    "    print(\"ETL process completed.\")\n"
   ]
  }
 ],
 "metadata": {
  "kernelspec": {
   "display_name": "Python 3",
   "language": "python",
   "name": "python3"
  },
  "language_info": {
   "codemirror_mode": {
    "name": "ipython",
    "version": 3
   },
   "file_extension": ".py",
   "mimetype": "text/x-python",
   "name": "python",
   "nbconvert_exporter": "python",
   "pygments_lexer": "ipython3",
   "version": "3.11.6"
  }
 },
 "nbformat": 4,
 "nbformat_minor": 2
}
