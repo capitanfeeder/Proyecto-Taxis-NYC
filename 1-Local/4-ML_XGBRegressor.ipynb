{
 "cells": [
  {
   "cell_type": "markdown",
   "metadata": {},
   "source": [
    "# **Modelo de Machine Learning** "
   ]
  },
  {
   "cell_type": "markdown",
   "metadata": {},
   "source": [
    "### **Importamos las liberías a utilizar**"
   ]
  },
  {
   "cell_type": "code",
   "execution_count": 1,
   "metadata": {},
   "outputs": [],
   "source": [
    "import numpy as np\n",
    "import pandas as pd\n",
    "import plotly.express as px\n",
    "import plotly.graph_objects as go\n",
    "import plotly.figure_factory as ff\n",
    "import joblib\n",
    "from datetime import datetime\n",
    "from sklearn.cluster import MiniBatchKMeans, KMeans\n",
    "from sklearn.linear_model import LinearRegression\n",
    "from sklearn import tree\n",
    "from sklearn.model_selection import learning_curve\n",
    "from xgboost import XGBRegressor\n",
    "from sklearn.ensemble import RandomForestRegressor\n",
    "from sklearn.metrics import r2_score\n",
    "from sklearn.metrics import mean_squared_error\n",
    "from sklearn.model_selection import train_test_split\n",
    "from sklearn.metrics import mean_absolute_error, mean_squared_error"
   ]
  },
  {
   "cell_type": "markdown",
   "metadata": {},
   "source": [
    "### **Cargamos nuestro dataset**"
   ]
  },
  {
   "cell_type": "code",
   "execution_count": 2,
   "metadata": {},
   "outputs": [],
   "source": [
    "df = pd.read_parquet(\"Datasets/3-Normalizados/taxis_2023.parquet\")"
   ]
  },
  {
   "cell_type": "code",
   "execution_count": 3,
   "metadata": {},
   "outputs": [
    {
     "data": {
      "text/plain": [
       "Index(['pickup_datetime', 'dropoff_datetime', 'passenger_count',\n",
       "       'trip_distance', 'PULocationID', 'DOLocationID', 'total_amount',\n",
       "       'service_type', 'pickup_borough', 'dropoff_borough'],\n",
       "      dtype='object')"
      ]
     },
     "execution_count": 3,
     "metadata": {},
     "output_type": "execute_result"
    }
   ],
   "source": [
    "df.columns"
   ]
  },
  {
   "cell_type": "markdown",
   "metadata": {},
   "source": [
    "### **Tratamos los datos que se utilizarán en el modelo**"
   ]
  },
  {
   "cell_type": "code",
   "execution_count": 4,
   "metadata": {},
   "outputs": [],
   "source": [
    "# Creamos una funcion que agregue una nueva columna llamada pBoroughID que contenga el ID del borough usando la columna pickup_borough de la\n",
    "# siguiente manera: 1 si es Manhattan, 2 si es Brooklyn, 3 si es Queens, 4 si es Bronx, 5 si es Staten Island y 6 si EWR\n",
    "def addBoroughID(df):\n",
    "    df['pBoroughID'] = df['pickup_borough'].apply(lambda x: 1 if x == 'Manhattan' else (2 if x == 'Brooklyn'\n",
    "    else (3 if x == 'Queens' else (4 if x == 'Bronx' else (5 if x == 'Staten Island' else 6)))))\n",
    "    return df"
   ]
  },
  {
   "cell_type": "code",
   "execution_count": 5,
   "metadata": {},
   "outputs": [
    {
     "data": {
      "text/html": [
       "<div>\n",
       "<style scoped>\n",
       "    .dataframe tbody tr th:only-of-type {\n",
       "        vertical-align: middle;\n",
       "    }\n",
       "\n",
       "    .dataframe tbody tr th {\n",
       "        vertical-align: top;\n",
       "    }\n",
       "\n",
       "    .dataframe thead th {\n",
       "        text-align: right;\n",
       "    }\n",
       "</style>\n",
       "<table border=\"1\" class=\"dataframe\">\n",
       "  <thead>\n",
       "    <tr style=\"text-align: right;\">\n",
       "      <th></th>\n",
       "      <th>pickup_datetime</th>\n",
       "      <th>dropoff_datetime</th>\n",
       "      <th>passenger_count</th>\n",
       "      <th>trip_distance</th>\n",
       "      <th>PULocationID</th>\n",
       "      <th>DOLocationID</th>\n",
       "      <th>total_amount</th>\n",
       "      <th>service_type</th>\n",
       "      <th>pickup_borough</th>\n",
       "      <th>dropoff_borough</th>\n",
       "      <th>pBoroughID</th>\n",
       "    </tr>\n",
       "  </thead>\n",
       "  <tbody>\n",
       "    <tr>\n",
       "      <th>0</th>\n",
       "      <td>2023-01-01 00:32:10</td>\n",
       "      <td>2023-01-01 00:40:36</td>\n",
       "      <td>1.0</td>\n",
       "      <td>0.97</td>\n",
       "      <td>161</td>\n",
       "      <td>141</td>\n",
       "      <td>14.30</td>\n",
       "      <td>yellow</td>\n",
       "      <td>Manhattan</td>\n",
       "      <td>Manhattan</td>\n",
       "      <td>1</td>\n",
       "    </tr>\n",
       "    <tr>\n",
       "      <th>1</th>\n",
       "      <td>2023-01-01 00:55:08</td>\n",
       "      <td>2023-01-01 01:01:27</td>\n",
       "      <td>1.0</td>\n",
       "      <td>1.10</td>\n",
       "      <td>43</td>\n",
       "      <td>237</td>\n",
       "      <td>20.90</td>\n",
       "      <td>yellow</td>\n",
       "      <td>Manhattan</td>\n",
       "      <td>Manhattan</td>\n",
       "      <td>1</td>\n",
       "    </tr>\n",
       "    <tr>\n",
       "      <th>2</th>\n",
       "      <td>2023-01-01 00:25:04</td>\n",
       "      <td>2023-01-01 00:37:49</td>\n",
       "      <td>1.0</td>\n",
       "      <td>2.51</td>\n",
       "      <td>48</td>\n",
       "      <td>238</td>\n",
       "      <td>49.90</td>\n",
       "      <td>yellow</td>\n",
       "      <td>Manhattan</td>\n",
       "      <td>Manhattan</td>\n",
       "      <td>1</td>\n",
       "    </tr>\n",
       "    <tr>\n",
       "      <th>3</th>\n",
       "      <td>2023-01-01 00:10:29</td>\n",
       "      <td>2023-01-01 00:21:19</td>\n",
       "      <td>1.0</td>\n",
       "      <td>1.43</td>\n",
       "      <td>107</td>\n",
       "      <td>79</td>\n",
       "      <td>22.96</td>\n",
       "      <td>yellow</td>\n",
       "      <td>Manhattan</td>\n",
       "      <td>Manhattan</td>\n",
       "      <td>1</td>\n",
       "    </tr>\n",
       "    <tr>\n",
       "      <th>4</th>\n",
       "      <td>2023-01-01 00:50:34</td>\n",
       "      <td>2023-01-01 01:02:52</td>\n",
       "      <td>1.0</td>\n",
       "      <td>1.84</td>\n",
       "      <td>161</td>\n",
       "      <td>137</td>\n",
       "      <td>37.80</td>\n",
       "      <td>yellow</td>\n",
       "      <td>Manhattan</td>\n",
       "      <td>Manhattan</td>\n",
       "      <td>1</td>\n",
       "    </tr>\n",
       "  </tbody>\n",
       "</table>\n",
       "</div>"
      ],
      "text/plain": [
       "      pickup_datetime    dropoff_datetime  passenger_count  trip_distance  \\\n",
       "0 2023-01-01 00:32:10 2023-01-01 00:40:36              1.0           0.97   \n",
       "1 2023-01-01 00:55:08 2023-01-01 01:01:27              1.0           1.10   \n",
       "2 2023-01-01 00:25:04 2023-01-01 00:37:49              1.0           2.51   \n",
       "3 2023-01-01 00:10:29 2023-01-01 00:21:19              1.0           1.43   \n",
       "4 2023-01-01 00:50:34 2023-01-01 01:02:52              1.0           1.84   \n",
       "\n",
       "   PULocationID  DOLocationID  total_amount service_type pickup_borough  \\\n",
       "0           161           141         14.30       yellow      Manhattan   \n",
       "1            43           237         20.90       yellow      Manhattan   \n",
       "2            48           238         49.90       yellow      Manhattan   \n",
       "3           107            79         22.96       yellow      Manhattan   \n",
       "4           161           137         37.80       yellow      Manhattan   \n",
       "\n",
       "  dropoff_borough  pBoroughID  \n",
       "0       Manhattan           1  \n",
       "1       Manhattan           1  \n",
       "2       Manhattan           1  \n",
       "3       Manhattan           1  \n",
       "4       Manhattan           1  "
      ]
     },
     "execution_count": 5,
     "metadata": {},
     "output_type": "execute_result"
    }
   ],
   "source": [
    "# Aplicamos la funcion\n",
    "df = addBoroughID(df)\n",
    "df.head()"
   ]
  },
  {
   "cell_type": "code",
   "execution_count": 6,
   "metadata": {},
   "outputs": [
    {
     "data": {
      "text/html": [
       "<div>\n",
       "<style scoped>\n",
       "    .dataframe tbody tr th:only-of-type {\n",
       "        vertical-align: middle;\n",
       "    }\n",
       "\n",
       "    .dataframe tbody tr th {\n",
       "        vertical-align: top;\n",
       "    }\n",
       "\n",
       "    .dataframe thead th {\n",
       "        text-align: right;\n",
       "    }\n",
       "</style>\n",
       "<table border=\"1\" class=\"dataframe\">\n",
       "  <thead>\n",
       "    <tr style=\"text-align: right;\">\n",
       "      <th></th>\n",
       "      <th>pickup_datetime</th>\n",
       "      <th>dropoff_datetime</th>\n",
       "      <th>passenger_count</th>\n",
       "      <th>trip_distance</th>\n",
       "      <th>total_amount</th>\n",
       "      <th>service_type</th>\n",
       "      <th>pickup_borough</th>\n",
       "      <th>dropoff_borough</th>\n",
       "      <th>pBoroughID</th>\n",
       "    </tr>\n",
       "  </thead>\n",
       "  <tbody>\n",
       "    <tr>\n",
       "      <th>0</th>\n",
       "      <td>2023-01-01 00:32:10</td>\n",
       "      <td>2023-01-01 00:40:36</td>\n",
       "      <td>1.0</td>\n",
       "      <td>0.97</td>\n",
       "      <td>14.30</td>\n",
       "      <td>yellow</td>\n",
       "      <td>Manhattan</td>\n",
       "      <td>Manhattan</td>\n",
       "      <td>1</td>\n",
       "    </tr>\n",
       "    <tr>\n",
       "      <th>1</th>\n",
       "      <td>2023-01-01 00:55:08</td>\n",
       "      <td>2023-01-01 01:01:27</td>\n",
       "      <td>1.0</td>\n",
       "      <td>1.10</td>\n",
       "      <td>20.90</td>\n",
       "      <td>yellow</td>\n",
       "      <td>Manhattan</td>\n",
       "      <td>Manhattan</td>\n",
       "      <td>1</td>\n",
       "    </tr>\n",
       "    <tr>\n",
       "      <th>2</th>\n",
       "      <td>2023-01-01 00:25:04</td>\n",
       "      <td>2023-01-01 00:37:49</td>\n",
       "      <td>1.0</td>\n",
       "      <td>2.51</td>\n",
       "      <td>49.90</td>\n",
       "      <td>yellow</td>\n",
       "      <td>Manhattan</td>\n",
       "      <td>Manhattan</td>\n",
       "      <td>1</td>\n",
       "    </tr>\n",
       "    <tr>\n",
       "      <th>3</th>\n",
       "      <td>2023-01-01 00:10:29</td>\n",
       "      <td>2023-01-01 00:21:19</td>\n",
       "      <td>1.0</td>\n",
       "      <td>1.43</td>\n",
       "      <td>22.96</td>\n",
       "      <td>yellow</td>\n",
       "      <td>Manhattan</td>\n",
       "      <td>Manhattan</td>\n",
       "      <td>1</td>\n",
       "    </tr>\n",
       "    <tr>\n",
       "      <th>4</th>\n",
       "      <td>2023-01-01 00:50:34</td>\n",
       "      <td>2023-01-01 01:02:52</td>\n",
       "      <td>1.0</td>\n",
       "      <td>1.84</td>\n",
       "      <td>37.80</td>\n",
       "      <td>yellow</td>\n",
       "      <td>Manhattan</td>\n",
       "      <td>Manhattan</td>\n",
       "      <td>1</td>\n",
       "    </tr>\n",
       "  </tbody>\n",
       "</table>\n",
       "</div>"
      ],
      "text/plain": [
       "      pickup_datetime    dropoff_datetime  passenger_count  trip_distance  \\\n",
       "0 2023-01-01 00:32:10 2023-01-01 00:40:36              1.0           0.97   \n",
       "1 2023-01-01 00:55:08 2023-01-01 01:01:27              1.0           1.10   \n",
       "2 2023-01-01 00:25:04 2023-01-01 00:37:49              1.0           2.51   \n",
       "3 2023-01-01 00:10:29 2023-01-01 00:21:19              1.0           1.43   \n",
       "4 2023-01-01 00:50:34 2023-01-01 01:02:52              1.0           1.84   \n",
       "\n",
       "   total_amount service_type pickup_borough dropoff_borough  pBoroughID  \n",
       "0         14.30       yellow      Manhattan       Manhattan           1  \n",
       "1         20.90       yellow      Manhattan       Manhattan           1  \n",
       "2         49.90       yellow      Manhattan       Manhattan           1  \n",
       "3         22.96       yellow      Manhattan       Manhattan           1  \n",
       "4         37.80       yellow      Manhattan       Manhattan           1  "
      ]
     },
     "execution_count": 6,
     "metadata": {},
     "output_type": "execute_result"
    }
   ],
   "source": [
    "# Eliminamos las columnas que no será necesarias para el modelo\n",
    "df = df.drop(['PULocationID', 'DOLocationID'], axis=1)\n",
    "df.head()"
   ]
  },
  {
   "cell_type": "markdown",
   "metadata": {},
   "source": [
    "#### **Para un calculo adecuado de la demanda por hora, procedemos a hacer unas conversiones**"
   ]
  },
  {
   "cell_type": "code",
   "execution_count": 7,
   "metadata": {},
   "outputs": [],
   "source": [
    "# Obtenemos mes, día de la semana, hora y día de la semana\n",
    "df['month'] = df['pickup_datetime'].dt.month\n",
    "df['dayofweek'] = df['pickup_datetime'].dt.dayofweek\n",
    "df['hour'] = df['pickup_datetime'].dt.hour"
   ]
  },
  {
   "cell_type": "code",
   "execution_count": 8,
   "metadata": {},
   "outputs": [],
   "source": [
    "# Convertimos la columna 'pickup_datetime' a formato datetime\n",
    "df['pickup_datetime'] = pd.to_datetime(df['pickup_datetime'])\n",
    "\n",
    "# Creamos una nueva columna para la fecha y hora completa\n",
    "df['datetime_pickup'] = df['pickup_datetime'] + pd.to_timedelta(df['pickup_datetime'].dt.hour, unit='H')\n",
    "\n",
    "# Agrupamos los datos por hora y contamos la cantidad de viajes\n",
    "demand_by_hour = df.groupby(df['pickup_datetime'].dt.hour)['passenger_count'].count()"
   ]
  },
  {
   "cell_type": "code",
   "execution_count": 9,
   "metadata": {},
   "outputs": [
    {
     "data": {
      "application/vnd.plotly.v1+json": {
       "config": {
        "plotlyServerURL": "https://plot.ly"
       },
       "data": [
        {
         "coloraxis": "coloraxis",
         "hovertemplate": "Variables: %{x}<br>Variables: %{y}<br>Correlación: %{z}<extra></extra>",
         "name": "0",
         "type": "heatmap",
         "x": [
          "hour",
          "pBoroughID",
          "dayofweek",
          "month",
          "trip_distance"
         ],
         "xaxis": "x",
         "y": [
          "hour",
          "pBoroughID",
          "dayofweek",
          "month",
          "trip_distance"
         ],
         "yaxis": "y",
         "z": [
          [
           1,
           0.018448418993265953,
           -0.07690367047596675,
           -0.0010503351287375507,
           -0.0017502836882245828
          ],
          [
           0.018448418993265953,
           1,
           -0.013689738393430344,
           0.01669816859477132,
           0.011525856963227409
          ],
          [
           -0.07690367047596675,
           -0.013689738393430344,
           1,
           -0.017504698448152858,
           -0.00011062839250060859
          ],
          [
           -0.0010503351287375507,
           0.01669816859477132,
           -0.017504698448152858,
           1,
           0.0008906945662106476
          ],
          [
           -0.0017502836882245828,
           0.011525856963227409,
           -0.00011062839250060859,
           0.0008906945662106476,
           1
          ]
         ]
        }
       ],
       "layout": {
        "coloraxis": {
         "colorbar": {
          "title": {
           "text": "Correlación"
          }
         },
         "colorscale": [
          [
           0,
           "#440154"
          ],
          [
           0.1111111111111111,
           "#482878"
          ],
          [
           0.2222222222222222,
           "#3e4989"
          ],
          [
           0.3333333333333333,
           "#31688e"
          ],
          [
           0.4444444444444444,
           "#26828e"
          ],
          [
           0.5555555555555556,
           "#1f9e89"
          ],
          [
           0.6666666666666666,
           "#35b779"
          ],
          [
           0.7777777777777778,
           "#6ece58"
          ],
          [
           0.8888888888888888,
           "#b5de2b"
          ],
          [
           1,
           "#fde725"
          ]
         ]
        },
        "height": 800,
        "margin": {
         "t": 60
        },
        "template": {
         "data": {
          "bar": [
           {
            "error_x": {
             "color": "#2a3f5f"
            },
            "error_y": {
             "color": "#2a3f5f"
            },
            "marker": {
             "line": {
              "color": "#E5ECF6",
              "width": 0.5
             },
             "pattern": {
              "fillmode": "overlay",
              "size": 10,
              "solidity": 0.2
             }
            },
            "type": "bar"
           }
          ],
          "barpolar": [
           {
            "marker": {
             "line": {
              "color": "#E5ECF6",
              "width": 0.5
             },
             "pattern": {
              "fillmode": "overlay",
              "size": 10,
              "solidity": 0.2
             }
            },
            "type": "barpolar"
           }
          ],
          "carpet": [
           {
            "aaxis": {
             "endlinecolor": "#2a3f5f",
             "gridcolor": "white",
             "linecolor": "white",
             "minorgridcolor": "white",
             "startlinecolor": "#2a3f5f"
            },
            "baxis": {
             "endlinecolor": "#2a3f5f",
             "gridcolor": "white",
             "linecolor": "white",
             "minorgridcolor": "white",
             "startlinecolor": "#2a3f5f"
            },
            "type": "carpet"
           }
          ],
          "choropleth": [
           {
            "colorbar": {
             "outlinewidth": 0,
             "ticks": ""
            },
            "type": "choropleth"
           }
          ],
          "contour": [
           {
            "colorbar": {
             "outlinewidth": 0,
             "ticks": ""
            },
            "colorscale": [
             [
              0,
              "#0d0887"
             ],
             [
              0.1111111111111111,
              "#46039f"
             ],
             [
              0.2222222222222222,
              "#7201a8"
             ],
             [
              0.3333333333333333,
              "#9c179e"
             ],
             [
              0.4444444444444444,
              "#bd3786"
             ],
             [
              0.5555555555555556,
              "#d8576b"
             ],
             [
              0.6666666666666666,
              "#ed7953"
             ],
             [
              0.7777777777777778,
              "#fb9f3a"
             ],
             [
              0.8888888888888888,
              "#fdca26"
             ],
             [
              1,
              "#f0f921"
             ]
            ],
            "type": "contour"
           }
          ],
          "contourcarpet": [
           {
            "colorbar": {
             "outlinewidth": 0,
             "ticks": ""
            },
            "type": "contourcarpet"
           }
          ],
          "heatmap": [
           {
            "colorbar": {
             "outlinewidth": 0,
             "ticks": ""
            },
            "colorscale": [
             [
              0,
              "#0d0887"
             ],
             [
              0.1111111111111111,
              "#46039f"
             ],
             [
              0.2222222222222222,
              "#7201a8"
             ],
             [
              0.3333333333333333,
              "#9c179e"
             ],
             [
              0.4444444444444444,
              "#bd3786"
             ],
             [
              0.5555555555555556,
              "#d8576b"
             ],
             [
              0.6666666666666666,
              "#ed7953"
             ],
             [
              0.7777777777777778,
              "#fb9f3a"
             ],
             [
              0.8888888888888888,
              "#fdca26"
             ],
             [
              1,
              "#f0f921"
             ]
            ],
            "type": "heatmap"
           }
          ],
          "heatmapgl": [
           {
            "colorbar": {
             "outlinewidth": 0,
             "ticks": ""
            },
            "colorscale": [
             [
              0,
              "#0d0887"
             ],
             [
              0.1111111111111111,
              "#46039f"
             ],
             [
              0.2222222222222222,
              "#7201a8"
             ],
             [
              0.3333333333333333,
              "#9c179e"
             ],
             [
              0.4444444444444444,
              "#bd3786"
             ],
             [
              0.5555555555555556,
              "#d8576b"
             ],
             [
              0.6666666666666666,
              "#ed7953"
             ],
             [
              0.7777777777777778,
              "#fb9f3a"
             ],
             [
              0.8888888888888888,
              "#fdca26"
             ],
             [
              1,
              "#f0f921"
             ]
            ],
            "type": "heatmapgl"
           }
          ],
          "histogram": [
           {
            "marker": {
             "pattern": {
              "fillmode": "overlay",
              "size": 10,
              "solidity": 0.2
             }
            },
            "type": "histogram"
           }
          ],
          "histogram2d": [
           {
            "colorbar": {
             "outlinewidth": 0,
             "ticks": ""
            },
            "colorscale": [
             [
              0,
              "#0d0887"
             ],
             [
              0.1111111111111111,
              "#46039f"
             ],
             [
              0.2222222222222222,
              "#7201a8"
             ],
             [
              0.3333333333333333,
              "#9c179e"
             ],
             [
              0.4444444444444444,
              "#bd3786"
             ],
             [
              0.5555555555555556,
              "#d8576b"
             ],
             [
              0.6666666666666666,
              "#ed7953"
             ],
             [
              0.7777777777777778,
              "#fb9f3a"
             ],
             [
              0.8888888888888888,
              "#fdca26"
             ],
             [
              1,
              "#f0f921"
             ]
            ],
            "type": "histogram2d"
           }
          ],
          "histogram2dcontour": [
           {
            "colorbar": {
             "outlinewidth": 0,
             "ticks": ""
            },
            "colorscale": [
             [
              0,
              "#0d0887"
             ],
             [
              0.1111111111111111,
              "#46039f"
             ],
             [
              0.2222222222222222,
              "#7201a8"
             ],
             [
              0.3333333333333333,
              "#9c179e"
             ],
             [
              0.4444444444444444,
              "#bd3786"
             ],
             [
              0.5555555555555556,
              "#d8576b"
             ],
             [
              0.6666666666666666,
              "#ed7953"
             ],
             [
              0.7777777777777778,
              "#fb9f3a"
             ],
             [
              0.8888888888888888,
              "#fdca26"
             ],
             [
              1,
              "#f0f921"
             ]
            ],
            "type": "histogram2dcontour"
           }
          ],
          "mesh3d": [
           {
            "colorbar": {
             "outlinewidth": 0,
             "ticks": ""
            },
            "type": "mesh3d"
           }
          ],
          "parcoords": [
           {
            "line": {
             "colorbar": {
              "outlinewidth": 0,
              "ticks": ""
             }
            },
            "type": "parcoords"
           }
          ],
          "pie": [
           {
            "automargin": true,
            "type": "pie"
           }
          ],
          "scatter": [
           {
            "fillpattern": {
             "fillmode": "overlay",
             "size": 10,
             "solidity": 0.2
            },
            "type": "scatter"
           }
          ],
          "scatter3d": [
           {
            "line": {
             "colorbar": {
              "outlinewidth": 0,
              "ticks": ""
             }
            },
            "marker": {
             "colorbar": {
              "outlinewidth": 0,
              "ticks": ""
             }
            },
            "type": "scatter3d"
           }
          ],
          "scattercarpet": [
           {
            "marker": {
             "colorbar": {
              "outlinewidth": 0,
              "ticks": ""
             }
            },
            "type": "scattercarpet"
           }
          ],
          "scattergeo": [
           {
            "marker": {
             "colorbar": {
              "outlinewidth": 0,
              "ticks": ""
             }
            },
            "type": "scattergeo"
           }
          ],
          "scattergl": [
           {
            "marker": {
             "colorbar": {
              "outlinewidth": 0,
              "ticks": ""
             }
            },
            "type": "scattergl"
           }
          ],
          "scattermapbox": [
           {
            "marker": {
             "colorbar": {
              "outlinewidth": 0,
              "ticks": ""
             }
            },
            "type": "scattermapbox"
           }
          ],
          "scatterpolar": [
           {
            "marker": {
             "colorbar": {
              "outlinewidth": 0,
              "ticks": ""
             }
            },
            "type": "scatterpolar"
           }
          ],
          "scatterpolargl": [
           {
            "marker": {
             "colorbar": {
              "outlinewidth": 0,
              "ticks": ""
             }
            },
            "type": "scatterpolargl"
           }
          ],
          "scatterternary": [
           {
            "marker": {
             "colorbar": {
              "outlinewidth": 0,
              "ticks": ""
             }
            },
            "type": "scatterternary"
           }
          ],
          "surface": [
           {
            "colorbar": {
             "outlinewidth": 0,
             "ticks": ""
            },
            "colorscale": [
             [
              0,
              "#0d0887"
             ],
             [
              0.1111111111111111,
              "#46039f"
             ],
             [
              0.2222222222222222,
              "#7201a8"
             ],
             [
              0.3333333333333333,
              "#9c179e"
             ],
             [
              0.4444444444444444,
              "#bd3786"
             ],
             [
              0.5555555555555556,
              "#d8576b"
             ],
             [
              0.6666666666666666,
              "#ed7953"
             ],
             [
              0.7777777777777778,
              "#fb9f3a"
             ],
             [
              0.8888888888888888,
              "#fdca26"
             ],
             [
              1,
              "#f0f921"
             ]
            ],
            "type": "surface"
           }
          ],
          "table": [
           {
            "cells": {
             "fill": {
              "color": "#EBF0F8"
             },
             "line": {
              "color": "white"
             }
            },
            "header": {
             "fill": {
              "color": "#C8D4E3"
             },
             "line": {
              "color": "white"
             }
            },
            "type": "table"
           }
          ]
         },
         "layout": {
          "annotationdefaults": {
           "arrowcolor": "#2a3f5f",
           "arrowhead": 0,
           "arrowwidth": 1
          },
          "autotypenumbers": "strict",
          "coloraxis": {
           "colorbar": {
            "outlinewidth": 0,
            "ticks": ""
           }
          },
          "colorscale": {
           "diverging": [
            [
             0,
             "#8e0152"
            ],
            [
             0.1,
             "#c51b7d"
            ],
            [
             0.2,
             "#de77ae"
            ],
            [
             0.3,
             "#f1b6da"
            ],
            [
             0.4,
             "#fde0ef"
            ],
            [
             0.5,
             "#f7f7f7"
            ],
            [
             0.6,
             "#e6f5d0"
            ],
            [
             0.7,
             "#b8e186"
            ],
            [
             0.8,
             "#7fbc41"
            ],
            [
             0.9,
             "#4d9221"
            ],
            [
             1,
             "#276419"
            ]
           ],
           "sequential": [
            [
             0,
             "#0d0887"
            ],
            [
             0.1111111111111111,
             "#46039f"
            ],
            [
             0.2222222222222222,
             "#7201a8"
            ],
            [
             0.3333333333333333,
             "#9c179e"
            ],
            [
             0.4444444444444444,
             "#bd3786"
            ],
            [
             0.5555555555555556,
             "#d8576b"
            ],
            [
             0.6666666666666666,
             "#ed7953"
            ],
            [
             0.7777777777777778,
             "#fb9f3a"
            ],
            [
             0.8888888888888888,
             "#fdca26"
            ],
            [
             1,
             "#f0f921"
            ]
           ],
           "sequentialminus": [
            [
             0,
             "#0d0887"
            ],
            [
             0.1111111111111111,
             "#46039f"
            ],
            [
             0.2222222222222222,
             "#7201a8"
            ],
            [
             0.3333333333333333,
             "#9c179e"
            ],
            [
             0.4444444444444444,
             "#bd3786"
            ],
            [
             0.5555555555555556,
             "#d8576b"
            ],
            [
             0.6666666666666666,
             "#ed7953"
            ],
            [
             0.7777777777777778,
             "#fb9f3a"
            ],
            [
             0.8888888888888888,
             "#fdca26"
            ],
            [
             1,
             "#f0f921"
            ]
           ]
          },
          "colorway": [
           "#636efa",
           "#EF553B",
           "#00cc96",
           "#ab63fa",
           "#FFA15A",
           "#19d3f3",
           "#FF6692",
           "#B6E880",
           "#FF97FF",
           "#FECB52"
          ],
          "font": {
           "color": "#2a3f5f"
          },
          "geo": {
           "bgcolor": "white",
           "lakecolor": "white",
           "landcolor": "#E5ECF6",
           "showlakes": true,
           "showland": true,
           "subunitcolor": "white"
          },
          "hoverlabel": {
           "align": "left"
          },
          "hovermode": "closest",
          "mapbox": {
           "style": "light"
          },
          "paper_bgcolor": "white",
          "plot_bgcolor": "#E5ECF6",
          "polar": {
           "angularaxis": {
            "gridcolor": "white",
            "linecolor": "white",
            "ticks": ""
           },
           "bgcolor": "#E5ECF6",
           "radialaxis": {
            "gridcolor": "white",
            "linecolor": "white",
            "ticks": ""
           }
          },
          "scene": {
           "xaxis": {
            "backgroundcolor": "#E5ECF6",
            "gridcolor": "white",
            "gridwidth": 2,
            "linecolor": "white",
            "showbackground": true,
            "ticks": "",
            "zerolinecolor": "white"
           },
           "yaxis": {
            "backgroundcolor": "#E5ECF6",
            "gridcolor": "white",
            "gridwidth": 2,
            "linecolor": "white",
            "showbackground": true,
            "ticks": "",
            "zerolinecolor": "white"
           },
           "zaxis": {
            "backgroundcolor": "#E5ECF6",
            "gridcolor": "white",
            "gridwidth": 2,
            "linecolor": "white",
            "showbackground": true,
            "ticks": "",
            "zerolinecolor": "white"
           }
          },
          "shapedefaults": {
           "line": {
            "color": "#2a3f5f"
           }
          },
          "ternary": {
           "aaxis": {
            "gridcolor": "white",
            "linecolor": "white",
            "ticks": ""
           },
           "baxis": {
            "gridcolor": "white",
            "linecolor": "white",
            "ticks": ""
           },
           "bgcolor": "#E5ECF6",
           "caxis": {
            "gridcolor": "white",
            "linecolor": "white",
            "ticks": ""
           }
          },
          "title": {
           "x": 0.05
          },
          "xaxis": {
           "automargin": true,
           "gridcolor": "white",
           "linecolor": "white",
           "ticks": "",
           "title": {
            "standoff": 15
           },
           "zerolinecolor": "white",
           "zerolinewidth": 2
          },
          "yaxis": {
           "automargin": true,
           "gridcolor": "white",
           "linecolor": "white",
           "ticks": "",
           "title": {
            "standoff": 15
           },
           "zerolinecolor": "white",
           "zerolinewidth": 2
          }
         }
        },
        "title": {
         "text": "Matriz de Correlación"
        },
        "width": 800,
        "xaxis": {
         "anchor": "y",
         "constrain": "domain",
         "domain": [
          0,
          1
         ],
         "scaleanchor": "y",
         "title": {
          "text": "Variables"
         }
        },
        "yaxis": {
         "anchor": "x",
         "autorange": "reversed",
         "constrain": "domain",
         "domain": [
          0,
          1
         ],
         "title": {
          "text": "Variables"
         }
        }
       }
      }
     },
     "metadata": {},
     "output_type": "display_data"
    }
   ],
   "source": [
    "# Subconjunto de las columnas que queremos analizar\n",
    "columnas = [\n",
    "    'hour',\n",
    "    'pBoroughID',\n",
    "    'dayofweek',\n",
    "    'month',\n",
    "    'trip_distance'\n",
    "]\n",
    "\n",
    "# Creamos un DataFrame que contenga solo estas columnas\n",
    "subset = df[columnas]\n",
    "\n",
    "# Calculamos la matriz de correlación\n",
    "correlation_matrix = subset.corr()\n",
    "\n",
    "# Crear el mapa de calor con Plotly Express\n",
    "fig = px.imshow(\n",
    "    correlation_matrix,\n",
    "    color_continuous_scale='Viridis',\n",
    "    labels=dict(x=\"Variables\", y=\"Variables\", color=\"Correlación\"),\n",
    "    x=correlation_matrix.columns,\n",
    "    y=correlation_matrix.index,\n",
    "    width=800,\n",
    "    height=800\n",
    ")\n",
    "\n",
    "# Configuramos el diseño del gráfico\n",
    "fig.update_layout(\n",
    "    title='Matriz de Correlación',\n",
    ")\n",
    "\n",
    "# Mostramos el gráfico\n",
    "fig.show()"
   ]
  },
  {
   "cell_type": "code",
   "execution_count": 10,
   "metadata": {},
   "outputs": [],
   "source": [
    "# Agrupamos por localización, hora y día de la semana\n",
    "df_ml = df.groupby(['hour', 'pBoroughID', 'dayofweek']).size().reset_index(name='demand')"
   ]
  },
  {
   "cell_type": "code",
   "execution_count": 11,
   "metadata": {},
   "outputs": [],
   "source": [
    "#Creamos el porcentaje de Demanda\n",
    "df_ml['demand'] = df_ml['demand'].apply(lambda x :  (x / df_ml['demand'].max()))\n",
    "df_ml['demand'] = round(df_ml['demand']*100,2)"
   ]
  },
  {
   "cell_type": "markdown",
   "metadata": {},
   "source": [
    "## **Iniciamos la búsqueda del modelo** "
   ]
  },
  {
   "cell_type": "markdown",
   "metadata": {},
   "source": [
    "#### **Planteamos el modelo de predicción de demanda, en base a la hora, locación y día de la semana**"
   ]
  },
  {
   "cell_type": "code",
   "execution_count": 12,
   "metadata": {},
   "outputs": [],
   "source": [
    "# Seleccionamos las características (X) y la variable objetivo (y)\n",
    "features = ['pBoroughID', 'dayofweek', 'hour']\n",
    "target = 'demand'"
   ]
  },
  {
   "cell_type": "markdown",
   "metadata": {},
   "source": [
    "#### **Planteamos las variables dependientes e independientes**"
   ]
  },
  {
   "cell_type": "code",
   "execution_count": 13,
   "metadata": {},
   "outputs": [],
   "source": [
    "X = df_ml[features]\n",
    "y = df_ml[target]"
   ]
  },
  {
   "cell_type": "markdown",
   "metadata": {},
   "source": [
    "## **Random Forest**"
   ]
  },
  {
   "cell_type": "code",
   "execution_count": 14,
   "metadata": {},
   "outputs": [
    {
     "name": "stdout",
     "output_type": "stream",
     "text": [
      "Mean Squared Error (MSE): 12.316446694545183\n",
      "R-squared (R2): 0.9712029998130731\n",
      "Mean Absolute Error (MAE): 1.070304946032503\n",
      "Root Mean Squared Error (RMSE): 3.5094795475319676\n"
     ]
    }
   ],
   "source": [
    "# Dividimos los datos en conjuntos de entrenamiento y prueba\n",
    "X_train, X_test, y_train, y_test = train_test_split(X, y, test_size=0.2, random_state=42)\n",
    "\n",
    "# Inicializamos y entrenamos el modelo RandomForestRegressor con parámetros ajustados\n",
    "rf_model = RandomForestRegressor(\n",
    "    n_estimators=200,   # Número de árboles en el bosque\n",
    "    max_depth=15,       # Profundidad máxima de los árboles\n",
    "    min_samples_split=5,  # Número mínimo de muestras requeridas para dividir un nodo interno\n",
    "    min_samples_leaf=2,   # Número mínimo de muestras requeridas para ser un nodo hoja\n",
    "    random_state=42      # Semilla para reproducibilidad\n",
    ")\n",
    "\n",
    "rf_model.fit(X_train, y_train)\n",
    "\n",
    "# Realizamos predicciones en el conjunto de prueba\n",
    "y_pred = rf_model.predict(X_test)\n",
    "\n",
    "# Evaluamos el rendimiento del modelo\n",
    "mse = mean_squared_error(y_test, y_pred)\n",
    "r2 = r2_score(y_test, y_pred)\n",
    "mae = mean_absolute_error(y_test, y_pred)\n",
    "rmse = np.sqrt(mean_squared_error(y_test, y_pred))\n",
    "\n",
    "\n",
    "print(f'Mean Squared Error (MSE): {mse}')\n",
    "print(f'R-squared (R2): {r2}')\n",
    "print(f'Mean Absolute Error (MAE): {mae}')\n",
    "print(f'Root Mean Squared Error (RMSE): {rmse}')"
   ]
  },
  {
   "cell_type": "code",
   "execution_count": 15,
   "metadata": {},
   "outputs": [
    {
     "data": {
      "application/vnd.plotly.v1+json": {
       "config": {
        "plotlyServerURL": "https://plot.ly"
       },
       "data": [
        {
         "mode": "lines",
         "name": "Training Score",
         "type": "scatter",
         "x": [
          63,
          205,
          347,
          489,
          632
         ],
         "y": [
          0.9107160557938435,
          0.9725432340224973,
          0.978130736272514,
          0.9834068512579979,
          0.9878289542325518
         ]
        },
        {
         "mode": "lines",
         "name": "Cross-validation Score",
         "type": "scatter",
         "x": [
          63,
          205,
          347,
          489,
          632
         ],
         "y": [
          0.8507918554733911,
          0.9314165631444299,
          0.9565882248198095,
          0.9624554841957934,
          0.9698818763269438
         ]
        }
       ],
       "layout": {
        "legend": {
         "orientation": "h",
         "traceorder": "normal",
         "x": 0,
         "y": 1
        },
        "template": {
         "data": {
          "bar": [
           {
            "error_x": {
             "color": "#2a3f5f"
            },
            "error_y": {
             "color": "#2a3f5f"
            },
            "marker": {
             "line": {
              "color": "#E5ECF6",
              "width": 0.5
             },
             "pattern": {
              "fillmode": "overlay",
              "size": 10,
              "solidity": 0.2
             }
            },
            "type": "bar"
           }
          ],
          "barpolar": [
           {
            "marker": {
             "line": {
              "color": "#E5ECF6",
              "width": 0.5
             },
             "pattern": {
              "fillmode": "overlay",
              "size": 10,
              "solidity": 0.2
             }
            },
            "type": "barpolar"
           }
          ],
          "carpet": [
           {
            "aaxis": {
             "endlinecolor": "#2a3f5f",
             "gridcolor": "white",
             "linecolor": "white",
             "minorgridcolor": "white",
             "startlinecolor": "#2a3f5f"
            },
            "baxis": {
             "endlinecolor": "#2a3f5f",
             "gridcolor": "white",
             "linecolor": "white",
             "minorgridcolor": "white",
             "startlinecolor": "#2a3f5f"
            },
            "type": "carpet"
           }
          ],
          "choropleth": [
           {
            "colorbar": {
             "outlinewidth": 0,
             "ticks": ""
            },
            "type": "choropleth"
           }
          ],
          "contour": [
           {
            "colorbar": {
             "outlinewidth": 0,
             "ticks": ""
            },
            "colorscale": [
             [
              0,
              "#0d0887"
             ],
             [
              0.1111111111111111,
              "#46039f"
             ],
             [
              0.2222222222222222,
              "#7201a8"
             ],
             [
              0.3333333333333333,
              "#9c179e"
             ],
             [
              0.4444444444444444,
              "#bd3786"
             ],
             [
              0.5555555555555556,
              "#d8576b"
             ],
             [
              0.6666666666666666,
              "#ed7953"
             ],
             [
              0.7777777777777778,
              "#fb9f3a"
             ],
             [
              0.8888888888888888,
              "#fdca26"
             ],
             [
              1,
              "#f0f921"
             ]
            ],
            "type": "contour"
           }
          ],
          "contourcarpet": [
           {
            "colorbar": {
             "outlinewidth": 0,
             "ticks": ""
            },
            "type": "contourcarpet"
           }
          ],
          "heatmap": [
           {
            "colorbar": {
             "outlinewidth": 0,
             "ticks": ""
            },
            "colorscale": [
             [
              0,
              "#0d0887"
             ],
             [
              0.1111111111111111,
              "#46039f"
             ],
             [
              0.2222222222222222,
              "#7201a8"
             ],
             [
              0.3333333333333333,
              "#9c179e"
             ],
             [
              0.4444444444444444,
              "#bd3786"
             ],
             [
              0.5555555555555556,
              "#d8576b"
             ],
             [
              0.6666666666666666,
              "#ed7953"
             ],
             [
              0.7777777777777778,
              "#fb9f3a"
             ],
             [
              0.8888888888888888,
              "#fdca26"
             ],
             [
              1,
              "#f0f921"
             ]
            ],
            "type": "heatmap"
           }
          ],
          "heatmapgl": [
           {
            "colorbar": {
             "outlinewidth": 0,
             "ticks": ""
            },
            "colorscale": [
             [
              0,
              "#0d0887"
             ],
             [
              0.1111111111111111,
              "#46039f"
             ],
             [
              0.2222222222222222,
              "#7201a8"
             ],
             [
              0.3333333333333333,
              "#9c179e"
             ],
             [
              0.4444444444444444,
              "#bd3786"
             ],
             [
              0.5555555555555556,
              "#d8576b"
             ],
             [
              0.6666666666666666,
              "#ed7953"
             ],
             [
              0.7777777777777778,
              "#fb9f3a"
             ],
             [
              0.8888888888888888,
              "#fdca26"
             ],
             [
              1,
              "#f0f921"
             ]
            ],
            "type": "heatmapgl"
           }
          ],
          "histogram": [
           {
            "marker": {
             "pattern": {
              "fillmode": "overlay",
              "size": 10,
              "solidity": 0.2
             }
            },
            "type": "histogram"
           }
          ],
          "histogram2d": [
           {
            "colorbar": {
             "outlinewidth": 0,
             "ticks": ""
            },
            "colorscale": [
             [
              0,
              "#0d0887"
             ],
             [
              0.1111111111111111,
              "#46039f"
             ],
             [
              0.2222222222222222,
              "#7201a8"
             ],
             [
              0.3333333333333333,
              "#9c179e"
             ],
             [
              0.4444444444444444,
              "#bd3786"
             ],
             [
              0.5555555555555556,
              "#d8576b"
             ],
             [
              0.6666666666666666,
              "#ed7953"
             ],
             [
              0.7777777777777778,
              "#fb9f3a"
             ],
             [
              0.8888888888888888,
              "#fdca26"
             ],
             [
              1,
              "#f0f921"
             ]
            ],
            "type": "histogram2d"
           }
          ],
          "histogram2dcontour": [
           {
            "colorbar": {
             "outlinewidth": 0,
             "ticks": ""
            },
            "colorscale": [
             [
              0,
              "#0d0887"
             ],
             [
              0.1111111111111111,
              "#46039f"
             ],
             [
              0.2222222222222222,
              "#7201a8"
             ],
             [
              0.3333333333333333,
              "#9c179e"
             ],
             [
              0.4444444444444444,
              "#bd3786"
             ],
             [
              0.5555555555555556,
              "#d8576b"
             ],
             [
              0.6666666666666666,
              "#ed7953"
             ],
             [
              0.7777777777777778,
              "#fb9f3a"
             ],
             [
              0.8888888888888888,
              "#fdca26"
             ],
             [
              1,
              "#f0f921"
             ]
            ],
            "type": "histogram2dcontour"
           }
          ],
          "mesh3d": [
           {
            "colorbar": {
             "outlinewidth": 0,
             "ticks": ""
            },
            "type": "mesh3d"
           }
          ],
          "parcoords": [
           {
            "line": {
             "colorbar": {
              "outlinewidth": 0,
              "ticks": ""
             }
            },
            "type": "parcoords"
           }
          ],
          "pie": [
           {
            "automargin": true,
            "type": "pie"
           }
          ],
          "scatter": [
           {
            "fillpattern": {
             "fillmode": "overlay",
             "size": 10,
             "solidity": 0.2
            },
            "type": "scatter"
           }
          ],
          "scatter3d": [
           {
            "line": {
             "colorbar": {
              "outlinewidth": 0,
              "ticks": ""
             }
            },
            "marker": {
             "colorbar": {
              "outlinewidth": 0,
              "ticks": ""
             }
            },
            "type": "scatter3d"
           }
          ],
          "scattercarpet": [
           {
            "marker": {
             "colorbar": {
              "outlinewidth": 0,
              "ticks": ""
             }
            },
            "type": "scattercarpet"
           }
          ],
          "scattergeo": [
           {
            "marker": {
             "colorbar": {
              "outlinewidth": 0,
              "ticks": ""
             }
            },
            "type": "scattergeo"
           }
          ],
          "scattergl": [
           {
            "marker": {
             "colorbar": {
              "outlinewidth": 0,
              "ticks": ""
             }
            },
            "type": "scattergl"
           }
          ],
          "scattermapbox": [
           {
            "marker": {
             "colorbar": {
              "outlinewidth": 0,
              "ticks": ""
             }
            },
            "type": "scattermapbox"
           }
          ],
          "scatterpolar": [
           {
            "marker": {
             "colorbar": {
              "outlinewidth": 0,
              "ticks": ""
             }
            },
            "type": "scatterpolar"
           }
          ],
          "scatterpolargl": [
           {
            "marker": {
             "colorbar": {
              "outlinewidth": 0,
              "ticks": ""
             }
            },
            "type": "scatterpolargl"
           }
          ],
          "scatterternary": [
           {
            "marker": {
             "colorbar": {
              "outlinewidth": 0,
              "ticks": ""
             }
            },
            "type": "scatterternary"
           }
          ],
          "surface": [
           {
            "colorbar": {
             "outlinewidth": 0,
             "ticks": ""
            },
            "colorscale": [
             [
              0,
              "#0d0887"
             ],
             [
              0.1111111111111111,
              "#46039f"
             ],
             [
              0.2222222222222222,
              "#7201a8"
             ],
             [
              0.3333333333333333,
              "#9c179e"
             ],
             [
              0.4444444444444444,
              "#bd3786"
             ],
             [
              0.5555555555555556,
              "#d8576b"
             ],
             [
              0.6666666666666666,
              "#ed7953"
             ],
             [
              0.7777777777777778,
              "#fb9f3a"
             ],
             [
              0.8888888888888888,
              "#fdca26"
             ],
             [
              1,
              "#f0f921"
             ]
            ],
            "type": "surface"
           }
          ],
          "table": [
           {
            "cells": {
             "fill": {
              "color": "#EBF0F8"
             },
             "line": {
              "color": "white"
             }
            },
            "header": {
             "fill": {
              "color": "#C8D4E3"
             },
             "line": {
              "color": "white"
             }
            },
            "type": "table"
           }
          ]
         },
         "layout": {
          "annotationdefaults": {
           "arrowcolor": "#2a3f5f",
           "arrowhead": 0,
           "arrowwidth": 1
          },
          "autotypenumbers": "strict",
          "coloraxis": {
           "colorbar": {
            "outlinewidth": 0,
            "ticks": ""
           }
          },
          "colorscale": {
           "diverging": [
            [
             0,
             "#8e0152"
            ],
            [
             0.1,
             "#c51b7d"
            ],
            [
             0.2,
             "#de77ae"
            ],
            [
             0.3,
             "#f1b6da"
            ],
            [
             0.4,
             "#fde0ef"
            ],
            [
             0.5,
             "#f7f7f7"
            ],
            [
             0.6,
             "#e6f5d0"
            ],
            [
             0.7,
             "#b8e186"
            ],
            [
             0.8,
             "#7fbc41"
            ],
            [
             0.9,
             "#4d9221"
            ],
            [
             1,
             "#276419"
            ]
           ],
           "sequential": [
            [
             0,
             "#0d0887"
            ],
            [
             0.1111111111111111,
             "#46039f"
            ],
            [
             0.2222222222222222,
             "#7201a8"
            ],
            [
             0.3333333333333333,
             "#9c179e"
            ],
            [
             0.4444444444444444,
             "#bd3786"
            ],
            [
             0.5555555555555556,
             "#d8576b"
            ],
            [
             0.6666666666666666,
             "#ed7953"
            ],
            [
             0.7777777777777778,
             "#fb9f3a"
            ],
            [
             0.8888888888888888,
             "#fdca26"
            ],
            [
             1,
             "#f0f921"
            ]
           ],
           "sequentialminus": [
            [
             0,
             "#0d0887"
            ],
            [
             0.1111111111111111,
             "#46039f"
            ],
            [
             0.2222222222222222,
             "#7201a8"
            ],
            [
             0.3333333333333333,
             "#9c179e"
            ],
            [
             0.4444444444444444,
             "#bd3786"
            ],
            [
             0.5555555555555556,
             "#d8576b"
            ],
            [
             0.6666666666666666,
             "#ed7953"
            ],
            [
             0.7777777777777778,
             "#fb9f3a"
            ],
            [
             0.8888888888888888,
             "#fdca26"
            ],
            [
             1,
             "#f0f921"
            ]
           ]
          },
          "colorway": [
           "#636efa",
           "#EF553B",
           "#00cc96",
           "#ab63fa",
           "#FFA15A",
           "#19d3f3",
           "#FF6692",
           "#B6E880",
           "#FF97FF",
           "#FECB52"
          ],
          "font": {
           "color": "#2a3f5f"
          },
          "geo": {
           "bgcolor": "white",
           "lakecolor": "white",
           "landcolor": "#E5ECF6",
           "showlakes": true,
           "showland": true,
           "subunitcolor": "white"
          },
          "hoverlabel": {
           "align": "left"
          },
          "hovermode": "closest",
          "mapbox": {
           "style": "light"
          },
          "paper_bgcolor": "white",
          "plot_bgcolor": "#E5ECF6",
          "polar": {
           "angularaxis": {
            "gridcolor": "white",
            "linecolor": "white",
            "ticks": ""
           },
           "bgcolor": "#E5ECF6",
           "radialaxis": {
            "gridcolor": "white",
            "linecolor": "white",
            "ticks": ""
           }
          },
          "scene": {
           "xaxis": {
            "backgroundcolor": "#E5ECF6",
            "gridcolor": "white",
            "gridwidth": 2,
            "linecolor": "white",
            "showbackground": true,
            "ticks": "",
            "zerolinecolor": "white"
           },
           "yaxis": {
            "backgroundcolor": "#E5ECF6",
            "gridcolor": "white",
            "gridwidth": 2,
            "linecolor": "white",
            "showbackground": true,
            "ticks": "",
            "zerolinecolor": "white"
           },
           "zaxis": {
            "backgroundcolor": "#E5ECF6",
            "gridcolor": "white",
            "gridwidth": 2,
            "linecolor": "white",
            "showbackground": true,
            "ticks": "",
            "zerolinecolor": "white"
           }
          },
          "shapedefaults": {
           "line": {
            "color": "#2a3f5f"
           }
          },
          "ternary": {
           "aaxis": {
            "gridcolor": "white",
            "linecolor": "white",
            "ticks": ""
           },
           "baxis": {
            "gridcolor": "white",
            "linecolor": "white",
            "ticks": ""
           },
           "bgcolor": "#E5ECF6",
           "caxis": {
            "gridcolor": "white",
            "linecolor": "white",
            "ticks": ""
           }
          },
          "title": {
           "x": 0.05
          },
          "xaxis": {
           "automargin": true,
           "gridcolor": "white",
           "linecolor": "white",
           "ticks": "",
           "title": {
            "standoff": 15
           },
           "zerolinecolor": "white",
           "zerolinewidth": 2
          },
          "yaxis": {
           "automargin": true,
           "gridcolor": "white",
           "linecolor": "white",
           "ticks": "",
           "title": {
            "standoff": 15
           },
           "zerolinecolor": "white",
           "zerolinewidth": 2
          }
         }
        },
        "title": {
         "text": "Curva de Aprendizaje"
        },
        "xaxis": {
         "title": {
          "text": "Training examples"
         }
        },
        "yaxis": {
         "title": {
          "text": "Score"
         }
        }
       }
      }
     },
     "metadata": {},
     "output_type": "display_data"
    }
   ],
   "source": [
    "# Calculamos la curva de aprendizaje\n",
    "train_sizes, train_scores, test_scores = learning_curve(rf_model, X_train, y_train, cv=5)\n",
    "train_scores_mean = np.mean(train_scores, axis=1)\n",
    "test_scores_mean = np.mean(test_scores, axis=1)\n",
    "\n",
    "# Creamos el gráfico con Plotly\n",
    "fig = go.Figure()\n",
    "\n",
    "# Agregamos la curva de Training score\n",
    "fig.add_trace(go.Scatter(x=train_sizes, y=train_scores_mean, mode='lines', name='Training Score'))\n",
    "\n",
    "# Agregamos la curva de Cross-validation score\n",
    "fig.add_trace(go.Scatter(x=train_sizes, y=test_scores_mean, mode='lines', name='Cross-validation Score'))\n",
    "\n",
    "# Configuramos el diseño del gráfico\n",
    "fig.update_layout(\n",
    "    title='Curva de Aprendizaje',\n",
    "    xaxis_title='Training examples',\n",
    "    yaxis_title='Score',\n",
    "    legend=dict(x=0, y=1, traceorder='normal', orientation='h'),\n",
    ")\n",
    "\n",
    "# Mostramos el gráfico\n",
    "fig.show()"
   ]
  },
  {
   "cell_type": "code",
   "execution_count": 16,
   "metadata": {},
   "outputs": [
    {
     "data": {
      "application/vnd.plotly.v1+json": {
       "config": {
        "plotlyServerURL": "https://plot.ly"
       },
       "data": [
        {
         "alignmentgroup": "True",
         "bingroup": "x",
         "hovertemplate": "variable=Valor Real<br>Valor=%{x}<br>count=%{y}<extra></extra>",
         "legendgroup": "Valor Real",
         "marker": {
          "color": "blue",
          "opacity": 0.5,
          "pattern": {
           "shape": ""
          }
         },
         "name": "Valor Real",
         "nbinsx": 30,
         "offsetgroup": "Valor Real",
         "orientation": "v",
         "showlegend": true,
         "type": "histogram",
         "x": [
          1.11,
          0.76,
          0.6,
          0,
          0.8,
          65.83,
          44.05,
          0,
          2.03,
          64.07,
          0,
          0,
          0,
          1.03,
          0,
          7.34,
          0,
          52.29,
          4.72,
          0,
          6.96,
          0,
          47.08,
          0.57,
          69.67,
          0.01,
          43.23,
          0,
          0.58,
          0,
          0.5,
          0.09,
          0.01,
          0.13,
          9.14,
          0.01,
          3.5,
          0,
          77.85,
          6.26,
          9.61,
          0.03,
          0,
          0,
          0.31,
          0.43,
          0,
          0.11,
          0.08,
          0,
          0.01,
          0.61,
          7.55,
          0,
          67.65,
          9.52,
          0,
          51.92,
          1.36,
          9,
          0,
          0.01,
          69.92,
          44.56,
          5.06,
          7.88,
          80.01,
          0.59,
          0.63,
          0.04,
          0,
          0,
          0.54,
          4.24,
          0,
          0.19,
          0.43,
          0,
          0.43,
          0.05,
          0.31,
          4.77,
          0.02,
          0.05,
          0,
          0.14,
          9.04,
          0,
          63.57,
          0.55,
          2.77,
          0.52,
          0.09,
          0.58,
          0.06,
          8.18,
          0.09,
          0,
          3.02,
          7.61,
          0,
          0,
          5.46,
          0.63,
          9.16,
          0.42,
          0.15,
          0,
          0,
          0,
          80.47,
          0.69,
          0,
          0,
          0,
          0,
          1.67,
          0,
          0.05,
          0,
          7.33,
          0.03,
          0,
          0,
          50.19,
          7.57,
          0.06,
          61.81,
          0,
          6.64,
          6.95,
          0.18,
          8.03,
          0.02,
          0.18,
          0,
          2.52,
          38.45,
          0,
          0.05,
          0.01,
          0.66,
          0.02,
          0.06,
          0.01,
          0,
          0.65,
          8.97,
          0.42,
          0.6,
          7.91,
          0.11,
          1.3,
          49.39,
          7.25,
          0,
          34.18,
          0.06,
          0.7,
          0,
          0.05,
          0,
          0.05,
          0.75,
          75.12,
          0,
          60.06,
          0.02,
          0.23,
          5.76,
          8.59,
          79.22,
          8.6,
          0,
          0.65,
          0.61,
          0.04,
          0.1,
          0,
          4.74,
          0,
          0.05,
          77.57,
          0.2,
          0.1,
          0.14,
          0.54,
          0,
          66.58,
          0.03,
          0.01,
          8.96,
          0,
          59.74,
          9.53,
          0.05,
          0,
          17.21
         ],
         "xaxis": "x",
         "yaxis": "y"
        },
        {
         "alignmentgroup": "True",
         "boxpoints": "all",
         "fillcolor": "rgba(255,255,255,0)",
         "hoveron": "points",
         "hovertemplate": "variable=Valor Real<br>Valor=%{x}<extra></extra>",
         "jitter": 0,
         "legendgroup": "Valor Real",
         "line": {
          "color": "rgba(255,255,255,0)"
         },
         "marker": {
          "color": "blue",
          "symbol": "line-ns-open"
         },
         "name": "Valor Real",
         "offsetgroup": "Valor Real",
         "showlegend": false,
         "type": "box",
         "x": [
          1.11,
          0.76,
          0.6,
          0,
          0.8,
          65.83,
          44.05,
          0,
          2.03,
          64.07,
          0,
          0,
          0,
          1.03,
          0,
          7.34,
          0,
          52.29,
          4.72,
          0,
          6.96,
          0,
          47.08,
          0.57,
          69.67,
          0.01,
          43.23,
          0,
          0.58,
          0,
          0.5,
          0.09,
          0.01,
          0.13,
          9.14,
          0.01,
          3.5,
          0,
          77.85,
          6.26,
          9.61,
          0.03,
          0,
          0,
          0.31,
          0.43,
          0,
          0.11,
          0.08,
          0,
          0.01,
          0.61,
          7.55,
          0,
          67.65,
          9.52,
          0,
          51.92,
          1.36,
          9,
          0,
          0.01,
          69.92,
          44.56,
          5.06,
          7.88,
          80.01,
          0.59,
          0.63,
          0.04,
          0,
          0,
          0.54,
          4.24,
          0,
          0.19,
          0.43,
          0,
          0.43,
          0.05,
          0.31,
          4.77,
          0.02,
          0.05,
          0,
          0.14,
          9.04,
          0,
          63.57,
          0.55,
          2.77,
          0.52,
          0.09,
          0.58,
          0.06,
          8.18,
          0.09,
          0,
          3.02,
          7.61,
          0,
          0,
          5.46,
          0.63,
          9.16,
          0.42,
          0.15,
          0,
          0,
          0,
          80.47,
          0.69,
          0,
          0,
          0,
          0,
          1.67,
          0,
          0.05,
          0,
          7.33,
          0.03,
          0,
          0,
          50.19,
          7.57,
          0.06,
          61.81,
          0,
          6.64,
          6.95,
          0.18,
          8.03,
          0.02,
          0.18,
          0,
          2.52,
          38.45,
          0,
          0.05,
          0.01,
          0.66,
          0.02,
          0.06,
          0.01,
          0,
          0.65,
          8.97,
          0.42,
          0.6,
          7.91,
          0.11,
          1.3,
          49.39,
          7.25,
          0,
          34.18,
          0.06,
          0.7,
          0,
          0.05,
          0,
          0.05,
          0.75,
          75.12,
          0,
          60.06,
          0.02,
          0.23,
          5.76,
          8.59,
          79.22,
          8.6,
          0,
          0.65,
          0.61,
          0.04,
          0.1,
          0,
          4.74,
          0,
          0.05,
          77.57,
          0.2,
          0.1,
          0.14,
          0.54,
          0,
          66.58,
          0.03,
          0.01,
          8.96,
          0,
          59.74,
          9.53,
          0.05,
          0,
          17.21
         ],
         "xaxis": "x2",
         "yaxis": "y2"
        },
        {
         "alignmentgroup": "True",
         "bingroup": "x",
         "hovertemplate": "variable=Predicciones<br>Valor=%{x}<br>count=%{y}<extra></extra>",
         "legendgroup": "Predicciones",
         "marker": {
          "color": "orange",
          "opacity": 0.5,
          "pattern": {
           "shape": ""
          }
         },
         "name": "Predicciones",
         "nbinsx": 30,
         "offsetgroup": "Predicciones",
         "orientation": "v",
         "showlegend": true,
         "type": "histogram",
         "x": [
          1.0004879852092357,
          0.6309375306637809,
          0.5958255122655123,
          0.0015607738095238103,
          0.7608120743145748,
          68.94794984126983,
          31.397122599206355,
          0,
          2.105216944444444,
          63.271650178571456,
          0,
          0.00009166666666666667,
          0.000016666666666666667,
          0.7808259126984128,
          0,
          7.044754372294368,
          0.003325238095238097,
          64.11978819444438,
          6.116458829365075,
          0,
          7.346922610028862,
          0.000008333333333333334,
          61.98654470238093,
          0.600092444083694,
          67.9941469047619,
          0.0011455357142857144,
          61.69229783730159,
          0,
          0.5919545670995668,
          0.000025,
          0.5382670238095234,
          0.0870060028860029,
          0.0005130952380952382,
          0.1378034126984127,
          9.018542674963923,
          0.007981944444444451,
          3.9622597420634933,
          0,
          75.87545674783549,
          6.649447341269837,
          9.433737524142526,
          0.028527956349206338,
          0.000007142857142857143,
          0.00000625,
          0.3143321031746033,
          0.44519599206349203,
          0.0029687103174603196,
          0.11763171398046395,
          0.08436474206349204,
          0,
          0.01295672619047616,
          0.537770048701299,
          7.796477514430015,
          0,
          63.46634223470972,
          9.452921690809195,
          0,
          57.993347103174614,
          1.0041314574314582,
          8.809174114357864,
          0,
          0.006165416666666666,
          65.50470458333331,
          31.472684900793652,
          4.783191289682538,
          9.486739067460318,
          74.44358990079363,
          0.5721779365079365,
          0.6193922258297256,
          0.033332460317460316,
          0,
          0,
          0.5736753445165946,
          5.04138853174603,
          0.001621309523809524,
          0.16167954365079373,
          0.46442563492063516,
          0,
          0.3741302507215009,
          0.05297168650793647,
          0.43316633658008635,
          5.0562009126984115,
          0.015080654761904755,
          0.03998561507936509,
          0.00007083333333333334,
          0.13809317460317463,
          9.595999365079367,
          0.004034879148629149,
          60.849383829365046,
          0.5487733730158734,
          2.84768553030303,
          0.5836831024531021,
          0.09077906746031741,
          0.6342981746031745,
          0.05635173160173156,
          8.792316805555558,
          0.10127001082251087,
          0.0007032738095238096,
          4.471194801587304,
          7.5866593452380995,
          0,
          0.00012000000000000002,
          6.829618769841265,
          0.624648210678211,
          9.698478218586969,
          0.3686984650072151,
          0.13668686507936514,
          0,
          0.0032541666666666687,
          0.0033721428571428574,
          77.05992125180373,
          0.5674296428571431,
          0,
          0.0027303553391053404,
          0,
          0.000033333333333333335,
          2.151357182539682,
          0,
          0.05244807539682534,
          0,
          13.732822222222207,
          0.03030283730158729,
          0,
          0.00004666666666666667,
          35.82803867063494,
          7.835552876984126,
          0.05847646825396824,
          63.47679017857145,
          0.0000630952380952381,
          6.564633769841264,
          7.027734729437224,
          0.16195537698412704,
          7.996101448412697,
          0.04833037698412698,
          0.19904111111111125,
          0.00013000000000000002,
          2.8309408369408366,
          49.944140912698394,
          0,
          0.03747232683982686,
          0.006165416666666666,
          0.535883690476191,
          0.018314920634920635,
          0.05384444680319677,
          0.003245833333333335,
          0,
          0.6276384343434347,
          8.755435016233767,
          0.46882958152958126,
          0.5050420833333338,
          8.14109482142857,
          0.09667549783549788,
          0.998966457431458,
          54.22544964285716,
          9.016106388888893,
          0,
          61.22583517857141,
          0.048303888888888834,
          0.6271552380952385,
          0,
          0.05070768398268392,
          0.0023688095238095248,
          0.0465148863636363,
          0.7366654761904761,
          74.04517702561328,
          0.001478551587301588,
          51.683757258297234,
          0.01669498015873013,
          0.22735956349206338,
          6.007785515873012,
          8.773551089466086,
          75.02914175865804,
          8.200807281746034,
          0,
          0.6193930772005777,
          0.6003445472582974,
          0.05012317460317456,
          0.0716043650793651,
          0.000033333333333333335,
          6.890829953102451,
          0,
          0.03545240079365079,
          76.91768922799417,
          0.2020856547619049,
          0.11538830128205127,
          0.14410530844155847,
          0.5646935497835495,
          0,
          63.72337896090019,
          0.029029841269841258,
          0.019181130952380943,
          8.930350551948049,
          0,
          56.79826156565654,
          9.06871827020202,
          0.07050337301587302,
          0.00042567099567099564,
          17.180784534632025
         ],
         "xaxis": "x",
         "yaxis": "y"
        },
        {
         "alignmentgroup": "True",
         "boxpoints": "all",
         "fillcolor": "rgba(255,255,255,0)",
         "hoveron": "points",
         "hovertemplate": "variable=Predicciones<br>Valor=%{x}<extra></extra>",
         "jitter": 0,
         "legendgroup": "Predicciones",
         "line": {
          "color": "rgba(255,255,255,0)"
         },
         "marker": {
          "color": "orange",
          "symbol": "line-ns-open"
         },
         "name": "Predicciones",
         "offsetgroup": "Predicciones",
         "showlegend": false,
         "type": "box",
         "x": [
          1.0004879852092357,
          0.6309375306637809,
          0.5958255122655123,
          0.0015607738095238103,
          0.7608120743145748,
          68.94794984126983,
          31.397122599206355,
          0,
          2.105216944444444,
          63.271650178571456,
          0,
          0.00009166666666666667,
          0.000016666666666666667,
          0.7808259126984128,
          0,
          7.044754372294368,
          0.003325238095238097,
          64.11978819444438,
          6.116458829365075,
          0,
          7.346922610028862,
          0.000008333333333333334,
          61.98654470238093,
          0.600092444083694,
          67.9941469047619,
          0.0011455357142857144,
          61.69229783730159,
          0,
          0.5919545670995668,
          0.000025,
          0.5382670238095234,
          0.0870060028860029,
          0.0005130952380952382,
          0.1378034126984127,
          9.018542674963923,
          0.007981944444444451,
          3.9622597420634933,
          0,
          75.87545674783549,
          6.649447341269837,
          9.433737524142526,
          0.028527956349206338,
          0.000007142857142857143,
          0.00000625,
          0.3143321031746033,
          0.44519599206349203,
          0.0029687103174603196,
          0.11763171398046395,
          0.08436474206349204,
          0,
          0.01295672619047616,
          0.537770048701299,
          7.796477514430015,
          0,
          63.46634223470972,
          9.452921690809195,
          0,
          57.993347103174614,
          1.0041314574314582,
          8.809174114357864,
          0,
          0.006165416666666666,
          65.50470458333331,
          31.472684900793652,
          4.783191289682538,
          9.486739067460318,
          74.44358990079363,
          0.5721779365079365,
          0.6193922258297256,
          0.033332460317460316,
          0,
          0,
          0.5736753445165946,
          5.04138853174603,
          0.001621309523809524,
          0.16167954365079373,
          0.46442563492063516,
          0,
          0.3741302507215009,
          0.05297168650793647,
          0.43316633658008635,
          5.0562009126984115,
          0.015080654761904755,
          0.03998561507936509,
          0.00007083333333333334,
          0.13809317460317463,
          9.595999365079367,
          0.004034879148629149,
          60.849383829365046,
          0.5487733730158734,
          2.84768553030303,
          0.5836831024531021,
          0.09077906746031741,
          0.6342981746031745,
          0.05635173160173156,
          8.792316805555558,
          0.10127001082251087,
          0.0007032738095238096,
          4.471194801587304,
          7.5866593452380995,
          0,
          0.00012000000000000002,
          6.829618769841265,
          0.624648210678211,
          9.698478218586969,
          0.3686984650072151,
          0.13668686507936514,
          0,
          0.0032541666666666687,
          0.0033721428571428574,
          77.05992125180373,
          0.5674296428571431,
          0,
          0.0027303553391053404,
          0,
          0.000033333333333333335,
          2.151357182539682,
          0,
          0.05244807539682534,
          0,
          13.732822222222207,
          0.03030283730158729,
          0,
          0.00004666666666666667,
          35.82803867063494,
          7.835552876984126,
          0.05847646825396824,
          63.47679017857145,
          0.0000630952380952381,
          6.564633769841264,
          7.027734729437224,
          0.16195537698412704,
          7.996101448412697,
          0.04833037698412698,
          0.19904111111111125,
          0.00013000000000000002,
          2.8309408369408366,
          49.944140912698394,
          0,
          0.03747232683982686,
          0.006165416666666666,
          0.535883690476191,
          0.018314920634920635,
          0.05384444680319677,
          0.003245833333333335,
          0,
          0.6276384343434347,
          8.755435016233767,
          0.46882958152958126,
          0.5050420833333338,
          8.14109482142857,
          0.09667549783549788,
          0.998966457431458,
          54.22544964285716,
          9.016106388888893,
          0,
          61.22583517857141,
          0.048303888888888834,
          0.6271552380952385,
          0,
          0.05070768398268392,
          0.0023688095238095248,
          0.0465148863636363,
          0.7366654761904761,
          74.04517702561328,
          0.001478551587301588,
          51.683757258297234,
          0.01669498015873013,
          0.22735956349206338,
          6.007785515873012,
          8.773551089466086,
          75.02914175865804,
          8.200807281746034,
          0,
          0.6193930772005777,
          0.6003445472582974,
          0.05012317460317456,
          0.0716043650793651,
          0.000033333333333333335,
          6.890829953102451,
          0,
          0.03545240079365079,
          76.91768922799417,
          0.2020856547619049,
          0.11538830128205127,
          0.14410530844155847,
          0.5646935497835495,
          0,
          63.72337896090019,
          0.029029841269841258,
          0.019181130952380943,
          8.930350551948049,
          0,
          56.79826156565654,
          9.06871827020202,
          0.07050337301587302,
          0.00042567099567099564,
          17.180784534632025
         ],
         "xaxis": "x2",
         "yaxis": "y2"
        }
       ],
       "layout": {
        "barmode": "overlay",
        "legend": {
         "title": {
          "text": "variable"
         },
         "tracegroupgap": 0
        },
        "template": {
         "data": {
          "bar": [
           {
            "error_x": {
             "color": "#2a3f5f"
            },
            "error_y": {
             "color": "#2a3f5f"
            },
            "marker": {
             "line": {
              "color": "#E5ECF6",
              "width": 0.5
             },
             "pattern": {
              "fillmode": "overlay",
              "size": 10,
              "solidity": 0.2
             }
            },
            "type": "bar"
           }
          ],
          "barpolar": [
           {
            "marker": {
             "line": {
              "color": "#E5ECF6",
              "width": 0.5
             },
             "pattern": {
              "fillmode": "overlay",
              "size": 10,
              "solidity": 0.2
             }
            },
            "type": "barpolar"
           }
          ],
          "carpet": [
           {
            "aaxis": {
             "endlinecolor": "#2a3f5f",
             "gridcolor": "white",
             "linecolor": "white",
             "minorgridcolor": "white",
             "startlinecolor": "#2a3f5f"
            },
            "baxis": {
             "endlinecolor": "#2a3f5f",
             "gridcolor": "white",
             "linecolor": "white",
             "minorgridcolor": "white",
             "startlinecolor": "#2a3f5f"
            },
            "type": "carpet"
           }
          ],
          "choropleth": [
           {
            "colorbar": {
             "outlinewidth": 0,
             "ticks": ""
            },
            "type": "choropleth"
           }
          ],
          "contour": [
           {
            "colorbar": {
             "outlinewidth": 0,
             "ticks": ""
            },
            "colorscale": [
             [
              0,
              "#0d0887"
             ],
             [
              0.1111111111111111,
              "#46039f"
             ],
             [
              0.2222222222222222,
              "#7201a8"
             ],
             [
              0.3333333333333333,
              "#9c179e"
             ],
             [
              0.4444444444444444,
              "#bd3786"
             ],
             [
              0.5555555555555556,
              "#d8576b"
             ],
             [
              0.6666666666666666,
              "#ed7953"
             ],
             [
              0.7777777777777778,
              "#fb9f3a"
             ],
             [
              0.8888888888888888,
              "#fdca26"
             ],
             [
              1,
              "#f0f921"
             ]
            ],
            "type": "contour"
           }
          ],
          "contourcarpet": [
           {
            "colorbar": {
             "outlinewidth": 0,
             "ticks": ""
            },
            "type": "contourcarpet"
           }
          ],
          "heatmap": [
           {
            "colorbar": {
             "outlinewidth": 0,
             "ticks": ""
            },
            "colorscale": [
             [
              0,
              "#0d0887"
             ],
             [
              0.1111111111111111,
              "#46039f"
             ],
             [
              0.2222222222222222,
              "#7201a8"
             ],
             [
              0.3333333333333333,
              "#9c179e"
             ],
             [
              0.4444444444444444,
              "#bd3786"
             ],
             [
              0.5555555555555556,
              "#d8576b"
             ],
             [
              0.6666666666666666,
              "#ed7953"
             ],
             [
              0.7777777777777778,
              "#fb9f3a"
             ],
             [
              0.8888888888888888,
              "#fdca26"
             ],
             [
              1,
              "#f0f921"
             ]
            ],
            "type": "heatmap"
           }
          ],
          "heatmapgl": [
           {
            "colorbar": {
             "outlinewidth": 0,
             "ticks": ""
            },
            "colorscale": [
             [
              0,
              "#0d0887"
             ],
             [
              0.1111111111111111,
              "#46039f"
             ],
             [
              0.2222222222222222,
              "#7201a8"
             ],
             [
              0.3333333333333333,
              "#9c179e"
             ],
             [
              0.4444444444444444,
              "#bd3786"
             ],
             [
              0.5555555555555556,
              "#d8576b"
             ],
             [
              0.6666666666666666,
              "#ed7953"
             ],
             [
              0.7777777777777778,
              "#fb9f3a"
             ],
             [
              0.8888888888888888,
              "#fdca26"
             ],
             [
              1,
              "#f0f921"
             ]
            ],
            "type": "heatmapgl"
           }
          ],
          "histogram": [
           {
            "marker": {
             "pattern": {
              "fillmode": "overlay",
              "size": 10,
              "solidity": 0.2
             }
            },
            "type": "histogram"
           }
          ],
          "histogram2d": [
           {
            "colorbar": {
             "outlinewidth": 0,
             "ticks": ""
            },
            "colorscale": [
             [
              0,
              "#0d0887"
             ],
             [
              0.1111111111111111,
              "#46039f"
             ],
             [
              0.2222222222222222,
              "#7201a8"
             ],
             [
              0.3333333333333333,
              "#9c179e"
             ],
             [
              0.4444444444444444,
              "#bd3786"
             ],
             [
              0.5555555555555556,
              "#d8576b"
             ],
             [
              0.6666666666666666,
              "#ed7953"
             ],
             [
              0.7777777777777778,
              "#fb9f3a"
             ],
             [
              0.8888888888888888,
              "#fdca26"
             ],
             [
              1,
              "#f0f921"
             ]
            ],
            "type": "histogram2d"
           }
          ],
          "histogram2dcontour": [
           {
            "colorbar": {
             "outlinewidth": 0,
             "ticks": ""
            },
            "colorscale": [
             [
              0,
              "#0d0887"
             ],
             [
              0.1111111111111111,
              "#46039f"
             ],
             [
              0.2222222222222222,
              "#7201a8"
             ],
             [
              0.3333333333333333,
              "#9c179e"
             ],
             [
              0.4444444444444444,
              "#bd3786"
             ],
             [
              0.5555555555555556,
              "#d8576b"
             ],
             [
              0.6666666666666666,
              "#ed7953"
             ],
             [
              0.7777777777777778,
              "#fb9f3a"
             ],
             [
              0.8888888888888888,
              "#fdca26"
             ],
             [
              1,
              "#f0f921"
             ]
            ],
            "type": "histogram2dcontour"
           }
          ],
          "mesh3d": [
           {
            "colorbar": {
             "outlinewidth": 0,
             "ticks": ""
            },
            "type": "mesh3d"
           }
          ],
          "parcoords": [
           {
            "line": {
             "colorbar": {
              "outlinewidth": 0,
              "ticks": ""
             }
            },
            "type": "parcoords"
           }
          ],
          "pie": [
           {
            "automargin": true,
            "type": "pie"
           }
          ],
          "scatter": [
           {
            "fillpattern": {
             "fillmode": "overlay",
             "size": 10,
             "solidity": 0.2
            },
            "type": "scatter"
           }
          ],
          "scatter3d": [
           {
            "line": {
             "colorbar": {
              "outlinewidth": 0,
              "ticks": ""
             }
            },
            "marker": {
             "colorbar": {
              "outlinewidth": 0,
              "ticks": ""
             }
            },
            "type": "scatter3d"
           }
          ],
          "scattercarpet": [
           {
            "marker": {
             "colorbar": {
              "outlinewidth": 0,
              "ticks": ""
             }
            },
            "type": "scattercarpet"
           }
          ],
          "scattergeo": [
           {
            "marker": {
             "colorbar": {
              "outlinewidth": 0,
              "ticks": ""
             }
            },
            "type": "scattergeo"
           }
          ],
          "scattergl": [
           {
            "marker": {
             "colorbar": {
              "outlinewidth": 0,
              "ticks": ""
             }
            },
            "type": "scattergl"
           }
          ],
          "scattermapbox": [
           {
            "marker": {
             "colorbar": {
              "outlinewidth": 0,
              "ticks": ""
             }
            },
            "type": "scattermapbox"
           }
          ],
          "scatterpolar": [
           {
            "marker": {
             "colorbar": {
              "outlinewidth": 0,
              "ticks": ""
             }
            },
            "type": "scatterpolar"
           }
          ],
          "scatterpolargl": [
           {
            "marker": {
             "colorbar": {
              "outlinewidth": 0,
              "ticks": ""
             }
            },
            "type": "scatterpolargl"
           }
          ],
          "scatterternary": [
           {
            "marker": {
             "colorbar": {
              "outlinewidth": 0,
              "ticks": ""
             }
            },
            "type": "scatterternary"
           }
          ],
          "surface": [
           {
            "colorbar": {
             "outlinewidth": 0,
             "ticks": ""
            },
            "colorscale": [
             [
              0,
              "#0d0887"
             ],
             [
              0.1111111111111111,
              "#46039f"
             ],
             [
              0.2222222222222222,
              "#7201a8"
             ],
             [
              0.3333333333333333,
              "#9c179e"
             ],
             [
              0.4444444444444444,
              "#bd3786"
             ],
             [
              0.5555555555555556,
              "#d8576b"
             ],
             [
              0.6666666666666666,
              "#ed7953"
             ],
             [
              0.7777777777777778,
              "#fb9f3a"
             ],
             [
              0.8888888888888888,
              "#fdca26"
             ],
             [
              1,
              "#f0f921"
             ]
            ],
            "type": "surface"
           }
          ],
          "table": [
           {
            "cells": {
             "fill": {
              "color": "#EBF0F8"
             },
             "line": {
              "color": "white"
             }
            },
            "header": {
             "fill": {
              "color": "#C8D4E3"
             },
             "line": {
              "color": "white"
             }
            },
            "type": "table"
           }
          ]
         },
         "layout": {
          "annotationdefaults": {
           "arrowcolor": "#2a3f5f",
           "arrowhead": 0,
           "arrowwidth": 1
          },
          "autotypenumbers": "strict",
          "coloraxis": {
           "colorbar": {
            "outlinewidth": 0,
            "ticks": ""
           }
          },
          "colorscale": {
           "diverging": [
            [
             0,
             "#8e0152"
            ],
            [
             0.1,
             "#c51b7d"
            ],
            [
             0.2,
             "#de77ae"
            ],
            [
             0.3,
             "#f1b6da"
            ],
            [
             0.4,
             "#fde0ef"
            ],
            [
             0.5,
             "#f7f7f7"
            ],
            [
             0.6,
             "#e6f5d0"
            ],
            [
             0.7,
             "#b8e186"
            ],
            [
             0.8,
             "#7fbc41"
            ],
            [
             0.9,
             "#4d9221"
            ],
            [
             1,
             "#276419"
            ]
           ],
           "sequential": [
            [
             0,
             "#0d0887"
            ],
            [
             0.1111111111111111,
             "#46039f"
            ],
            [
             0.2222222222222222,
             "#7201a8"
            ],
            [
             0.3333333333333333,
             "#9c179e"
            ],
            [
             0.4444444444444444,
             "#bd3786"
            ],
            [
             0.5555555555555556,
             "#d8576b"
            ],
            [
             0.6666666666666666,
             "#ed7953"
            ],
            [
             0.7777777777777778,
             "#fb9f3a"
            ],
            [
             0.8888888888888888,
             "#fdca26"
            ],
            [
             1,
             "#f0f921"
            ]
           ],
           "sequentialminus": [
            [
             0,
             "#0d0887"
            ],
            [
             0.1111111111111111,
             "#46039f"
            ],
            [
             0.2222222222222222,
             "#7201a8"
            ],
            [
             0.3333333333333333,
             "#9c179e"
            ],
            [
             0.4444444444444444,
             "#bd3786"
            ],
            [
             0.5555555555555556,
             "#d8576b"
            ],
            [
             0.6666666666666666,
             "#ed7953"
            ],
            [
             0.7777777777777778,
             "#fb9f3a"
            ],
            [
             0.8888888888888888,
             "#fdca26"
            ],
            [
             1,
             "#f0f921"
            ]
           ]
          },
          "colorway": [
           "#636efa",
           "#EF553B",
           "#00cc96",
           "#ab63fa",
           "#FFA15A",
           "#19d3f3",
           "#FF6692",
           "#B6E880",
           "#FF97FF",
           "#FECB52"
          ],
          "font": {
           "color": "#2a3f5f"
          },
          "geo": {
           "bgcolor": "white",
           "lakecolor": "white",
           "landcolor": "#E5ECF6",
           "showlakes": true,
           "showland": true,
           "subunitcolor": "white"
          },
          "hoverlabel": {
           "align": "left"
          },
          "hovermode": "closest",
          "mapbox": {
           "style": "light"
          },
          "paper_bgcolor": "white",
          "plot_bgcolor": "#E5ECF6",
          "polar": {
           "angularaxis": {
            "gridcolor": "white",
            "linecolor": "white",
            "ticks": ""
           },
           "bgcolor": "#E5ECF6",
           "radialaxis": {
            "gridcolor": "white",
            "linecolor": "white",
            "ticks": ""
           }
          },
          "scene": {
           "xaxis": {
            "backgroundcolor": "#E5ECF6",
            "gridcolor": "white",
            "gridwidth": 2,
            "linecolor": "white",
            "showbackground": true,
            "ticks": "",
            "zerolinecolor": "white"
           },
           "yaxis": {
            "backgroundcolor": "#E5ECF6",
            "gridcolor": "white",
            "gridwidth": 2,
            "linecolor": "white",
            "showbackground": true,
            "ticks": "",
            "zerolinecolor": "white"
           },
           "zaxis": {
            "backgroundcolor": "#E5ECF6",
            "gridcolor": "white",
            "gridwidth": 2,
            "linecolor": "white",
            "showbackground": true,
            "ticks": "",
            "zerolinecolor": "white"
           }
          },
          "shapedefaults": {
           "line": {
            "color": "#2a3f5f"
           }
          },
          "ternary": {
           "aaxis": {
            "gridcolor": "white",
            "linecolor": "white",
            "ticks": ""
           },
           "baxis": {
            "gridcolor": "white",
            "linecolor": "white",
            "ticks": ""
           },
           "bgcolor": "#E5ECF6",
           "caxis": {
            "gridcolor": "white",
            "linecolor": "white",
            "ticks": ""
           }
          },
          "title": {
           "x": 0.05
          },
          "xaxis": {
           "automargin": true,
           "gridcolor": "white",
           "linecolor": "white",
           "ticks": "",
           "title": {
            "standoff": 15
           },
           "zerolinecolor": "white",
           "zerolinewidth": 2
          },
          "yaxis": {
           "automargin": true,
           "gridcolor": "white",
           "linecolor": "white",
           "ticks": "",
           "title": {
            "standoff": 15
           },
           "zerolinecolor": "white",
           "zerolinewidth": 2
          }
         }
        },
        "title": {
         "text": "Distribución de Predicciones y Valores Reales"
        },
        "xaxis": {
         "anchor": "y",
         "domain": [
          0,
          1
         ],
         "title": {
          "text": "Valor"
         }
        },
        "xaxis2": {
         "anchor": "y2",
         "domain": [
          0,
          1
         ],
         "matches": "x",
         "showgrid": true,
         "showticklabels": false
        },
        "yaxis": {
         "anchor": "x",
         "domain": [
          0,
          0.7326
         ],
         "title": {
          "text": "Frecuencia"
         }
        },
        "yaxis2": {
         "anchor": "x2",
         "domain": [
          0.7426,
          1
         ],
         "matches": "y2",
         "showgrid": false,
         "showline": false,
         "showticklabels": false,
         "ticks": ""
        }
       }
      }
     },
     "metadata": {},
     "output_type": "display_data"
    }
   ],
   "source": [
    "# Creamos un DataFrame para Plotly Express\n",
    "df = pd.DataFrame({'Valor Real': y_test, 'Predicciones': y_pred})\n",
    "\n",
    "# Creamos gráfico de histograma apilado con Plotly Express\n",
    "fig = px.histogram(df, nbins=30, marginal='rug', labels={'value': 'Valor'},\n",
    "                   title='Distribución de Predicciones y Valores Reales',\n",
    "                   category_orders={'variable': ['Valor Real', 'Predicciones']},\n",
    "                   color_discrete_sequence=['blue', 'orange'],\n",
    "                   barmode='overlay')\n",
    "\n",
    "# Configuramos el diseño del gráfico\n",
    "fig.update_layout(\n",
    "    xaxis_title='Valor',\n",
    "    yaxis_title='Frecuencia',\n",
    ")\n",
    "\n",
    "# Mostramos el gráfico\n",
    "fig.show()"
   ]
  },
  {
   "cell_type": "code",
   "execution_count": 17,
   "metadata": {},
   "outputs": [
    {
     "data": {
      "application/vnd.plotly.v1+json": {
       "config": {
        "plotlyServerURL": "https://plot.ly"
       },
       "data": [
        {
         "alignmentgroup": "True",
         "box": {
          "visible": true
         },
         "hovertemplate": "Tipo=%{x}<br>Valor=%{y}<extra></extra>",
         "legendgroup": "Valores Reales",
         "marker": {
          "color": "#636efa"
         },
         "name": "Valores Reales",
         "offsetgroup": "Valores Reales",
         "orientation": "v",
         "points": "all",
         "scalegroup": "True",
         "showlegend": true,
         "type": "violin",
         "x": [
          "Valores Reales",
          "Valores Reales",
          "Valores Reales",
          "Valores Reales",
          "Valores Reales",
          "Valores Reales",
          "Valores Reales",
          "Valores Reales",
          "Valores Reales",
          "Valores Reales",
          "Valores Reales",
          "Valores Reales",
          "Valores Reales",
          "Valores Reales",
          "Valores Reales",
          "Valores Reales",
          "Valores Reales",
          "Valores Reales",
          "Valores Reales",
          "Valores Reales",
          "Valores Reales",
          "Valores Reales",
          "Valores Reales",
          "Valores Reales",
          "Valores Reales",
          "Valores Reales",
          "Valores Reales",
          "Valores Reales",
          "Valores Reales",
          "Valores Reales",
          "Valores Reales",
          "Valores Reales",
          "Valores Reales",
          "Valores Reales",
          "Valores Reales",
          "Valores Reales",
          "Valores Reales",
          "Valores Reales",
          "Valores Reales",
          "Valores Reales",
          "Valores Reales",
          "Valores Reales",
          "Valores Reales",
          "Valores Reales",
          "Valores Reales",
          "Valores Reales",
          "Valores Reales",
          "Valores Reales",
          "Valores Reales",
          "Valores Reales",
          "Valores Reales",
          "Valores Reales",
          "Valores Reales",
          "Valores Reales",
          "Valores Reales",
          "Valores Reales",
          "Valores Reales",
          "Valores Reales",
          "Valores Reales",
          "Valores Reales",
          "Valores Reales",
          "Valores Reales",
          "Valores Reales",
          "Valores Reales",
          "Valores Reales",
          "Valores Reales",
          "Valores Reales",
          "Valores Reales",
          "Valores Reales",
          "Valores Reales",
          "Valores Reales",
          "Valores Reales",
          "Valores Reales",
          "Valores Reales",
          "Valores Reales",
          "Valores Reales",
          "Valores Reales",
          "Valores Reales",
          "Valores Reales",
          "Valores Reales",
          "Valores Reales",
          "Valores Reales",
          "Valores Reales",
          "Valores Reales",
          "Valores Reales",
          "Valores Reales",
          "Valores Reales",
          "Valores Reales",
          "Valores Reales",
          "Valores Reales",
          "Valores Reales",
          "Valores Reales",
          "Valores Reales",
          "Valores Reales",
          "Valores Reales",
          "Valores Reales",
          "Valores Reales",
          "Valores Reales",
          "Valores Reales",
          "Valores Reales",
          "Valores Reales",
          "Valores Reales",
          "Valores Reales",
          "Valores Reales",
          "Valores Reales",
          "Valores Reales",
          "Valores Reales",
          "Valores Reales",
          "Valores Reales",
          "Valores Reales",
          "Valores Reales",
          "Valores Reales",
          "Valores Reales",
          "Valores Reales",
          "Valores Reales",
          "Valores Reales",
          "Valores Reales",
          "Valores Reales",
          "Valores Reales",
          "Valores Reales",
          "Valores Reales",
          "Valores Reales",
          "Valores Reales",
          "Valores Reales",
          "Valores Reales",
          "Valores Reales",
          "Valores Reales",
          "Valores Reales",
          "Valores Reales",
          "Valores Reales",
          "Valores Reales",
          "Valores Reales",
          "Valores Reales",
          "Valores Reales",
          "Valores Reales",
          "Valores Reales",
          "Valores Reales",
          "Valores Reales",
          "Valores Reales",
          "Valores Reales",
          "Valores Reales",
          "Valores Reales",
          "Valores Reales",
          "Valores Reales",
          "Valores Reales",
          "Valores Reales",
          "Valores Reales",
          "Valores Reales",
          "Valores Reales",
          "Valores Reales",
          "Valores Reales",
          "Valores Reales",
          "Valores Reales",
          "Valores Reales",
          "Valores Reales",
          "Valores Reales",
          "Valores Reales",
          "Valores Reales",
          "Valores Reales",
          "Valores Reales",
          "Valores Reales",
          "Valores Reales",
          "Valores Reales",
          "Valores Reales",
          "Valores Reales",
          "Valores Reales",
          "Valores Reales",
          "Valores Reales",
          "Valores Reales",
          "Valores Reales",
          "Valores Reales",
          "Valores Reales",
          "Valores Reales",
          "Valores Reales",
          "Valores Reales",
          "Valores Reales",
          "Valores Reales",
          "Valores Reales",
          "Valores Reales",
          "Valores Reales",
          "Valores Reales",
          "Valores Reales",
          "Valores Reales",
          "Valores Reales",
          "Valores Reales",
          "Valores Reales",
          "Valores Reales",
          "Valores Reales",
          "Valores Reales",
          "Valores Reales",
          "Valores Reales",
          "Valores Reales",
          "Valores Reales",
          "Valores Reales",
          "Valores Reales",
          "Valores Reales",
          "Valores Reales",
          "Valores Reales"
         ],
         "x0": " ",
         "xaxis": "x",
         "y": [
          1.11,
          0.76,
          0.6,
          0,
          0.8,
          65.83,
          44.05,
          0,
          2.03,
          64.07,
          0,
          0,
          0,
          1.03,
          0,
          7.34,
          0,
          52.29,
          4.72,
          0,
          6.96,
          0,
          47.08,
          0.57,
          69.67,
          0.01,
          43.23,
          0,
          0.58,
          0,
          0.5,
          0.09,
          0.01,
          0.13,
          9.14,
          0.01,
          3.5,
          0,
          77.85,
          6.26,
          9.61,
          0.03,
          0,
          0,
          0.31,
          0.43,
          0,
          0.11,
          0.08,
          0,
          0.01,
          0.61,
          7.55,
          0,
          67.65,
          9.52,
          0,
          51.92,
          1.36,
          9,
          0,
          0.01,
          69.92,
          44.56,
          5.06,
          7.88,
          80.01,
          0.59,
          0.63,
          0.04,
          0,
          0,
          0.54,
          4.24,
          0,
          0.19,
          0.43,
          0,
          0.43,
          0.05,
          0.31,
          4.77,
          0.02,
          0.05,
          0,
          0.14,
          9.04,
          0,
          63.57,
          0.55,
          2.77,
          0.52,
          0.09,
          0.58,
          0.06,
          8.18,
          0.09,
          0,
          3.02,
          7.61,
          0,
          0,
          5.46,
          0.63,
          9.16,
          0.42,
          0.15,
          0,
          0,
          0,
          80.47,
          0.69,
          0,
          0,
          0,
          0,
          1.67,
          0,
          0.05,
          0,
          7.33,
          0.03,
          0,
          0,
          50.19,
          7.57,
          0.06,
          61.81,
          0,
          6.64,
          6.95,
          0.18,
          8.03,
          0.02,
          0.18,
          0,
          2.52,
          38.45,
          0,
          0.05,
          0.01,
          0.66,
          0.02,
          0.06,
          0.01,
          0,
          0.65,
          8.97,
          0.42,
          0.6,
          7.91,
          0.11,
          1.3,
          49.39,
          7.25,
          0,
          34.18,
          0.06,
          0.7,
          0,
          0.05,
          0,
          0.05,
          0.75,
          75.12,
          0,
          60.06,
          0.02,
          0.23,
          5.76,
          8.59,
          79.22,
          8.6,
          0,
          0.65,
          0.61,
          0.04,
          0.1,
          0,
          4.74,
          0,
          0.05,
          77.57,
          0.2,
          0.1,
          0.14,
          0.54,
          0,
          66.58,
          0.03,
          0.01,
          8.96,
          0,
          59.74,
          9.53,
          0.05,
          0,
          17.21
         ],
         "y0": " ",
         "yaxis": "y"
        },
        {
         "alignmentgroup": "True",
         "box": {
          "visible": true
         },
         "hovertemplate": "Tipo=%{x}<br>Valor=%{y}<extra></extra>",
         "legendgroup": "Predicciones",
         "marker": {
          "color": "#EF553B"
         },
         "name": "Predicciones",
         "offsetgroup": "Predicciones",
         "orientation": "v",
         "points": "all",
         "scalegroup": "True",
         "showlegend": true,
         "type": "violin",
         "x": [
          "Predicciones",
          "Predicciones",
          "Predicciones",
          "Predicciones",
          "Predicciones",
          "Predicciones",
          "Predicciones",
          "Predicciones",
          "Predicciones",
          "Predicciones",
          "Predicciones",
          "Predicciones",
          "Predicciones",
          "Predicciones",
          "Predicciones",
          "Predicciones",
          "Predicciones",
          "Predicciones",
          "Predicciones",
          "Predicciones",
          "Predicciones",
          "Predicciones",
          "Predicciones",
          "Predicciones",
          "Predicciones",
          "Predicciones",
          "Predicciones",
          "Predicciones",
          "Predicciones",
          "Predicciones",
          "Predicciones",
          "Predicciones",
          "Predicciones",
          "Predicciones",
          "Predicciones",
          "Predicciones",
          "Predicciones",
          "Predicciones",
          "Predicciones",
          "Predicciones",
          "Predicciones",
          "Predicciones",
          "Predicciones",
          "Predicciones",
          "Predicciones",
          "Predicciones",
          "Predicciones",
          "Predicciones",
          "Predicciones",
          "Predicciones",
          "Predicciones",
          "Predicciones",
          "Predicciones",
          "Predicciones",
          "Predicciones",
          "Predicciones",
          "Predicciones",
          "Predicciones",
          "Predicciones",
          "Predicciones",
          "Predicciones",
          "Predicciones",
          "Predicciones",
          "Predicciones",
          "Predicciones",
          "Predicciones",
          "Predicciones",
          "Predicciones",
          "Predicciones",
          "Predicciones",
          "Predicciones",
          "Predicciones",
          "Predicciones",
          "Predicciones",
          "Predicciones",
          "Predicciones",
          "Predicciones",
          "Predicciones",
          "Predicciones",
          "Predicciones",
          "Predicciones",
          "Predicciones",
          "Predicciones",
          "Predicciones",
          "Predicciones",
          "Predicciones",
          "Predicciones",
          "Predicciones",
          "Predicciones",
          "Predicciones",
          "Predicciones",
          "Predicciones",
          "Predicciones",
          "Predicciones",
          "Predicciones",
          "Predicciones",
          "Predicciones",
          "Predicciones",
          "Predicciones",
          "Predicciones",
          "Predicciones",
          "Predicciones",
          "Predicciones",
          "Predicciones",
          "Predicciones",
          "Predicciones",
          "Predicciones",
          "Predicciones",
          "Predicciones",
          "Predicciones",
          "Predicciones",
          "Predicciones",
          "Predicciones",
          "Predicciones",
          "Predicciones",
          "Predicciones",
          "Predicciones",
          "Predicciones",
          "Predicciones",
          "Predicciones",
          "Predicciones",
          "Predicciones",
          "Predicciones",
          "Predicciones",
          "Predicciones",
          "Predicciones",
          "Predicciones",
          "Predicciones",
          "Predicciones",
          "Predicciones",
          "Predicciones",
          "Predicciones",
          "Predicciones",
          "Predicciones",
          "Predicciones",
          "Predicciones",
          "Predicciones",
          "Predicciones",
          "Predicciones",
          "Predicciones",
          "Predicciones",
          "Predicciones",
          "Predicciones",
          "Predicciones",
          "Predicciones",
          "Predicciones",
          "Predicciones",
          "Predicciones",
          "Predicciones",
          "Predicciones",
          "Predicciones",
          "Predicciones",
          "Predicciones",
          "Predicciones",
          "Predicciones",
          "Predicciones",
          "Predicciones",
          "Predicciones",
          "Predicciones",
          "Predicciones",
          "Predicciones",
          "Predicciones",
          "Predicciones",
          "Predicciones",
          "Predicciones",
          "Predicciones",
          "Predicciones",
          "Predicciones",
          "Predicciones",
          "Predicciones",
          "Predicciones",
          "Predicciones",
          "Predicciones",
          "Predicciones",
          "Predicciones",
          "Predicciones",
          "Predicciones",
          "Predicciones",
          "Predicciones",
          "Predicciones",
          "Predicciones",
          "Predicciones",
          "Predicciones",
          "Predicciones",
          "Predicciones",
          "Predicciones",
          "Predicciones",
          "Predicciones",
          "Predicciones",
          "Predicciones",
          "Predicciones",
          "Predicciones",
          "Predicciones",
          "Predicciones",
          "Predicciones",
          "Predicciones",
          "Predicciones",
          "Predicciones"
         ],
         "x0": " ",
         "xaxis": "x",
         "y": [
          1.0004879852092357,
          0.6309375306637809,
          0.5958255122655123,
          0.0015607738095238103,
          0.7608120743145748,
          68.94794984126983,
          31.397122599206355,
          0,
          2.105216944444444,
          63.271650178571456,
          0,
          0.00009166666666666667,
          0.000016666666666666667,
          0.7808259126984128,
          0,
          7.044754372294368,
          0.003325238095238097,
          64.11978819444438,
          6.116458829365075,
          0,
          7.346922610028862,
          0.000008333333333333334,
          61.98654470238093,
          0.600092444083694,
          67.9941469047619,
          0.0011455357142857144,
          61.69229783730159,
          0,
          0.5919545670995668,
          0.000025,
          0.5382670238095234,
          0.0870060028860029,
          0.0005130952380952382,
          0.1378034126984127,
          9.018542674963923,
          0.007981944444444451,
          3.9622597420634933,
          0,
          75.87545674783549,
          6.649447341269837,
          9.433737524142526,
          0.028527956349206338,
          0.000007142857142857143,
          0.00000625,
          0.3143321031746033,
          0.44519599206349203,
          0.0029687103174603196,
          0.11763171398046395,
          0.08436474206349204,
          0,
          0.01295672619047616,
          0.537770048701299,
          7.796477514430015,
          0,
          63.46634223470972,
          9.452921690809195,
          0,
          57.993347103174614,
          1.0041314574314582,
          8.809174114357864,
          0,
          0.006165416666666666,
          65.50470458333331,
          31.472684900793652,
          4.783191289682538,
          9.486739067460318,
          74.44358990079363,
          0.5721779365079365,
          0.6193922258297256,
          0.033332460317460316,
          0,
          0,
          0.5736753445165946,
          5.04138853174603,
          0.001621309523809524,
          0.16167954365079373,
          0.46442563492063516,
          0,
          0.3741302507215009,
          0.05297168650793647,
          0.43316633658008635,
          5.0562009126984115,
          0.015080654761904755,
          0.03998561507936509,
          0.00007083333333333334,
          0.13809317460317463,
          9.595999365079367,
          0.004034879148629149,
          60.849383829365046,
          0.5487733730158734,
          2.84768553030303,
          0.5836831024531021,
          0.09077906746031741,
          0.6342981746031745,
          0.05635173160173156,
          8.792316805555558,
          0.10127001082251087,
          0.0007032738095238096,
          4.471194801587304,
          7.5866593452380995,
          0,
          0.00012000000000000002,
          6.829618769841265,
          0.624648210678211,
          9.698478218586969,
          0.3686984650072151,
          0.13668686507936514,
          0,
          0.0032541666666666687,
          0.0033721428571428574,
          77.05992125180373,
          0.5674296428571431,
          0,
          0.0027303553391053404,
          0,
          0.000033333333333333335,
          2.151357182539682,
          0,
          0.05244807539682534,
          0,
          13.732822222222207,
          0.03030283730158729,
          0,
          0.00004666666666666667,
          35.82803867063494,
          7.835552876984126,
          0.05847646825396824,
          63.47679017857145,
          0.0000630952380952381,
          6.564633769841264,
          7.027734729437224,
          0.16195537698412704,
          7.996101448412697,
          0.04833037698412698,
          0.19904111111111125,
          0.00013000000000000002,
          2.8309408369408366,
          49.944140912698394,
          0,
          0.03747232683982686,
          0.006165416666666666,
          0.535883690476191,
          0.018314920634920635,
          0.05384444680319677,
          0.003245833333333335,
          0,
          0.6276384343434347,
          8.755435016233767,
          0.46882958152958126,
          0.5050420833333338,
          8.14109482142857,
          0.09667549783549788,
          0.998966457431458,
          54.22544964285716,
          9.016106388888893,
          0,
          61.22583517857141,
          0.048303888888888834,
          0.6271552380952385,
          0,
          0.05070768398268392,
          0.0023688095238095248,
          0.0465148863636363,
          0.7366654761904761,
          74.04517702561328,
          0.001478551587301588,
          51.683757258297234,
          0.01669498015873013,
          0.22735956349206338,
          6.007785515873012,
          8.773551089466086,
          75.02914175865804,
          8.200807281746034,
          0,
          0.6193930772005777,
          0.6003445472582974,
          0.05012317460317456,
          0.0716043650793651,
          0.000033333333333333335,
          6.890829953102451,
          0,
          0.03545240079365079,
          76.91768922799417,
          0.2020856547619049,
          0.11538830128205127,
          0.14410530844155847,
          0.5646935497835495,
          0,
          63.72337896090019,
          0.029029841269841258,
          0.019181130952380943,
          8.930350551948049,
          0,
          56.79826156565654,
          9.06871827020202,
          0.07050337301587302,
          0.00042567099567099564,
          17.180784534632025
         ],
         "y0": " ",
         "yaxis": "y"
        }
       ],
       "layout": {
        "legend": {
         "title": {
          "text": "Tipo"
         },
         "tracegroupgap": 0,
         "x": 0.8,
         "y": 0.95
        },
        "margin": {
         "t": 60
        },
        "template": {
         "data": {
          "bar": [
           {
            "error_x": {
             "color": "#2a3f5f"
            },
            "error_y": {
             "color": "#2a3f5f"
            },
            "marker": {
             "line": {
              "color": "#E5ECF6",
              "width": 0.5
             },
             "pattern": {
              "fillmode": "overlay",
              "size": 10,
              "solidity": 0.2
             }
            },
            "type": "bar"
           }
          ],
          "barpolar": [
           {
            "marker": {
             "line": {
              "color": "#E5ECF6",
              "width": 0.5
             },
             "pattern": {
              "fillmode": "overlay",
              "size": 10,
              "solidity": 0.2
             }
            },
            "type": "barpolar"
           }
          ],
          "carpet": [
           {
            "aaxis": {
             "endlinecolor": "#2a3f5f",
             "gridcolor": "white",
             "linecolor": "white",
             "minorgridcolor": "white",
             "startlinecolor": "#2a3f5f"
            },
            "baxis": {
             "endlinecolor": "#2a3f5f",
             "gridcolor": "white",
             "linecolor": "white",
             "minorgridcolor": "white",
             "startlinecolor": "#2a3f5f"
            },
            "type": "carpet"
           }
          ],
          "choropleth": [
           {
            "colorbar": {
             "outlinewidth": 0,
             "ticks": ""
            },
            "type": "choropleth"
           }
          ],
          "contour": [
           {
            "colorbar": {
             "outlinewidth": 0,
             "ticks": ""
            },
            "colorscale": [
             [
              0,
              "#0d0887"
             ],
             [
              0.1111111111111111,
              "#46039f"
             ],
             [
              0.2222222222222222,
              "#7201a8"
             ],
             [
              0.3333333333333333,
              "#9c179e"
             ],
             [
              0.4444444444444444,
              "#bd3786"
             ],
             [
              0.5555555555555556,
              "#d8576b"
             ],
             [
              0.6666666666666666,
              "#ed7953"
             ],
             [
              0.7777777777777778,
              "#fb9f3a"
             ],
             [
              0.8888888888888888,
              "#fdca26"
             ],
             [
              1,
              "#f0f921"
             ]
            ],
            "type": "contour"
           }
          ],
          "contourcarpet": [
           {
            "colorbar": {
             "outlinewidth": 0,
             "ticks": ""
            },
            "type": "contourcarpet"
           }
          ],
          "heatmap": [
           {
            "colorbar": {
             "outlinewidth": 0,
             "ticks": ""
            },
            "colorscale": [
             [
              0,
              "#0d0887"
             ],
             [
              0.1111111111111111,
              "#46039f"
             ],
             [
              0.2222222222222222,
              "#7201a8"
             ],
             [
              0.3333333333333333,
              "#9c179e"
             ],
             [
              0.4444444444444444,
              "#bd3786"
             ],
             [
              0.5555555555555556,
              "#d8576b"
             ],
             [
              0.6666666666666666,
              "#ed7953"
             ],
             [
              0.7777777777777778,
              "#fb9f3a"
             ],
             [
              0.8888888888888888,
              "#fdca26"
             ],
             [
              1,
              "#f0f921"
             ]
            ],
            "type": "heatmap"
           }
          ],
          "heatmapgl": [
           {
            "colorbar": {
             "outlinewidth": 0,
             "ticks": ""
            },
            "colorscale": [
             [
              0,
              "#0d0887"
             ],
             [
              0.1111111111111111,
              "#46039f"
             ],
             [
              0.2222222222222222,
              "#7201a8"
             ],
             [
              0.3333333333333333,
              "#9c179e"
             ],
             [
              0.4444444444444444,
              "#bd3786"
             ],
             [
              0.5555555555555556,
              "#d8576b"
             ],
             [
              0.6666666666666666,
              "#ed7953"
             ],
             [
              0.7777777777777778,
              "#fb9f3a"
             ],
             [
              0.8888888888888888,
              "#fdca26"
             ],
             [
              1,
              "#f0f921"
             ]
            ],
            "type": "heatmapgl"
           }
          ],
          "histogram": [
           {
            "marker": {
             "pattern": {
              "fillmode": "overlay",
              "size": 10,
              "solidity": 0.2
             }
            },
            "type": "histogram"
           }
          ],
          "histogram2d": [
           {
            "colorbar": {
             "outlinewidth": 0,
             "ticks": ""
            },
            "colorscale": [
             [
              0,
              "#0d0887"
             ],
             [
              0.1111111111111111,
              "#46039f"
             ],
             [
              0.2222222222222222,
              "#7201a8"
             ],
             [
              0.3333333333333333,
              "#9c179e"
             ],
             [
              0.4444444444444444,
              "#bd3786"
             ],
             [
              0.5555555555555556,
              "#d8576b"
             ],
             [
              0.6666666666666666,
              "#ed7953"
             ],
             [
              0.7777777777777778,
              "#fb9f3a"
             ],
             [
              0.8888888888888888,
              "#fdca26"
             ],
             [
              1,
              "#f0f921"
             ]
            ],
            "type": "histogram2d"
           }
          ],
          "histogram2dcontour": [
           {
            "colorbar": {
             "outlinewidth": 0,
             "ticks": ""
            },
            "colorscale": [
             [
              0,
              "#0d0887"
             ],
             [
              0.1111111111111111,
              "#46039f"
             ],
             [
              0.2222222222222222,
              "#7201a8"
             ],
             [
              0.3333333333333333,
              "#9c179e"
             ],
             [
              0.4444444444444444,
              "#bd3786"
             ],
             [
              0.5555555555555556,
              "#d8576b"
             ],
             [
              0.6666666666666666,
              "#ed7953"
             ],
             [
              0.7777777777777778,
              "#fb9f3a"
             ],
             [
              0.8888888888888888,
              "#fdca26"
             ],
             [
              1,
              "#f0f921"
             ]
            ],
            "type": "histogram2dcontour"
           }
          ],
          "mesh3d": [
           {
            "colorbar": {
             "outlinewidth": 0,
             "ticks": ""
            },
            "type": "mesh3d"
           }
          ],
          "parcoords": [
           {
            "line": {
             "colorbar": {
              "outlinewidth": 0,
              "ticks": ""
             }
            },
            "type": "parcoords"
           }
          ],
          "pie": [
           {
            "automargin": true,
            "type": "pie"
           }
          ],
          "scatter": [
           {
            "fillpattern": {
             "fillmode": "overlay",
             "size": 10,
             "solidity": 0.2
            },
            "type": "scatter"
           }
          ],
          "scatter3d": [
           {
            "line": {
             "colorbar": {
              "outlinewidth": 0,
              "ticks": ""
             }
            },
            "marker": {
             "colorbar": {
              "outlinewidth": 0,
              "ticks": ""
             }
            },
            "type": "scatter3d"
           }
          ],
          "scattercarpet": [
           {
            "marker": {
             "colorbar": {
              "outlinewidth": 0,
              "ticks": ""
             }
            },
            "type": "scattercarpet"
           }
          ],
          "scattergeo": [
           {
            "marker": {
             "colorbar": {
              "outlinewidth": 0,
              "ticks": ""
             }
            },
            "type": "scattergeo"
           }
          ],
          "scattergl": [
           {
            "marker": {
             "colorbar": {
              "outlinewidth": 0,
              "ticks": ""
             }
            },
            "type": "scattergl"
           }
          ],
          "scattermapbox": [
           {
            "marker": {
             "colorbar": {
              "outlinewidth": 0,
              "ticks": ""
             }
            },
            "type": "scattermapbox"
           }
          ],
          "scatterpolar": [
           {
            "marker": {
             "colorbar": {
              "outlinewidth": 0,
              "ticks": ""
             }
            },
            "type": "scatterpolar"
           }
          ],
          "scatterpolargl": [
           {
            "marker": {
             "colorbar": {
              "outlinewidth": 0,
              "ticks": ""
             }
            },
            "type": "scatterpolargl"
           }
          ],
          "scatterternary": [
           {
            "marker": {
             "colorbar": {
              "outlinewidth": 0,
              "ticks": ""
             }
            },
            "type": "scatterternary"
           }
          ],
          "surface": [
           {
            "colorbar": {
             "outlinewidth": 0,
             "ticks": ""
            },
            "colorscale": [
             [
              0,
              "#0d0887"
             ],
             [
              0.1111111111111111,
              "#46039f"
             ],
             [
              0.2222222222222222,
              "#7201a8"
             ],
             [
              0.3333333333333333,
              "#9c179e"
             ],
             [
              0.4444444444444444,
              "#bd3786"
             ],
             [
              0.5555555555555556,
              "#d8576b"
             ],
             [
              0.6666666666666666,
              "#ed7953"
             ],
             [
              0.7777777777777778,
              "#fb9f3a"
             ],
             [
              0.8888888888888888,
              "#fdca26"
             ],
             [
              1,
              "#f0f921"
             ]
            ],
            "type": "surface"
           }
          ],
          "table": [
           {
            "cells": {
             "fill": {
              "color": "#EBF0F8"
             },
             "line": {
              "color": "white"
             }
            },
            "header": {
             "fill": {
              "color": "#C8D4E3"
             },
             "line": {
              "color": "white"
             }
            },
            "type": "table"
           }
          ]
         },
         "layout": {
          "annotationdefaults": {
           "arrowcolor": "#2a3f5f",
           "arrowhead": 0,
           "arrowwidth": 1
          },
          "autotypenumbers": "strict",
          "coloraxis": {
           "colorbar": {
            "outlinewidth": 0,
            "ticks": ""
           }
          },
          "colorscale": {
           "diverging": [
            [
             0,
             "#8e0152"
            ],
            [
             0.1,
             "#c51b7d"
            ],
            [
             0.2,
             "#de77ae"
            ],
            [
             0.3,
             "#f1b6da"
            ],
            [
             0.4,
             "#fde0ef"
            ],
            [
             0.5,
             "#f7f7f7"
            ],
            [
             0.6,
             "#e6f5d0"
            ],
            [
             0.7,
             "#b8e186"
            ],
            [
             0.8,
             "#7fbc41"
            ],
            [
             0.9,
             "#4d9221"
            ],
            [
             1,
             "#276419"
            ]
           ],
           "sequential": [
            [
             0,
             "#0d0887"
            ],
            [
             0.1111111111111111,
             "#46039f"
            ],
            [
             0.2222222222222222,
             "#7201a8"
            ],
            [
             0.3333333333333333,
             "#9c179e"
            ],
            [
             0.4444444444444444,
             "#bd3786"
            ],
            [
             0.5555555555555556,
             "#d8576b"
            ],
            [
             0.6666666666666666,
             "#ed7953"
            ],
            [
             0.7777777777777778,
             "#fb9f3a"
            ],
            [
             0.8888888888888888,
             "#fdca26"
            ],
            [
             1,
             "#f0f921"
            ]
           ],
           "sequentialminus": [
            [
             0,
             "#0d0887"
            ],
            [
             0.1111111111111111,
             "#46039f"
            ],
            [
             0.2222222222222222,
             "#7201a8"
            ],
            [
             0.3333333333333333,
             "#9c179e"
            ],
            [
             0.4444444444444444,
             "#bd3786"
            ],
            [
             0.5555555555555556,
             "#d8576b"
            ],
            [
             0.6666666666666666,
             "#ed7953"
            ],
            [
             0.7777777777777778,
             "#fb9f3a"
            ],
            [
             0.8888888888888888,
             "#fdca26"
            ],
            [
             1,
             "#f0f921"
            ]
           ]
          },
          "colorway": [
           "#636efa",
           "#EF553B",
           "#00cc96",
           "#ab63fa",
           "#FFA15A",
           "#19d3f3",
           "#FF6692",
           "#B6E880",
           "#FF97FF",
           "#FECB52"
          ],
          "font": {
           "color": "#2a3f5f"
          },
          "geo": {
           "bgcolor": "white",
           "lakecolor": "white",
           "landcolor": "#E5ECF6",
           "showlakes": true,
           "showland": true,
           "subunitcolor": "white"
          },
          "hoverlabel": {
           "align": "left"
          },
          "hovermode": "closest",
          "mapbox": {
           "style": "light"
          },
          "paper_bgcolor": "white",
          "plot_bgcolor": "#E5ECF6",
          "polar": {
           "angularaxis": {
            "gridcolor": "white",
            "linecolor": "white",
            "ticks": ""
           },
           "bgcolor": "#E5ECF6",
           "radialaxis": {
            "gridcolor": "white",
            "linecolor": "white",
            "ticks": ""
           }
          },
          "scene": {
           "xaxis": {
            "backgroundcolor": "#E5ECF6",
            "gridcolor": "white",
            "gridwidth": 2,
            "linecolor": "white",
            "showbackground": true,
            "ticks": "",
            "zerolinecolor": "white"
           },
           "yaxis": {
            "backgroundcolor": "#E5ECF6",
            "gridcolor": "white",
            "gridwidth": 2,
            "linecolor": "white",
            "showbackground": true,
            "ticks": "",
            "zerolinecolor": "white"
           },
           "zaxis": {
            "backgroundcolor": "#E5ECF6",
            "gridcolor": "white",
            "gridwidth": 2,
            "linecolor": "white",
            "showbackground": true,
            "ticks": "",
            "zerolinecolor": "white"
           }
          },
          "shapedefaults": {
           "line": {
            "color": "#2a3f5f"
           }
          },
          "ternary": {
           "aaxis": {
            "gridcolor": "white",
            "linecolor": "white",
            "ticks": ""
           },
           "baxis": {
            "gridcolor": "white",
            "linecolor": "white",
            "ticks": ""
           },
           "bgcolor": "#E5ECF6",
           "caxis": {
            "gridcolor": "white",
            "linecolor": "white",
            "ticks": ""
           }
          },
          "title": {
           "x": 0.05
          },
          "xaxis": {
           "automargin": true,
           "gridcolor": "white",
           "linecolor": "white",
           "ticks": "",
           "title": {
            "standoff": 15
           },
           "zerolinecolor": "white",
           "zerolinewidth": 2
          },
          "yaxis": {
           "automargin": true,
           "gridcolor": "white",
           "linecolor": "white",
           "ticks": "",
           "title": {
            "standoff": 15
           },
           "zerolinecolor": "white",
           "zerolinewidth": 2
          }
         }
        },
        "title": {
         "text": "Distribución de Predicciones y Valores Reales"
        },
        "violinmode": "overlay",
        "xaxis": {
         "anchor": "y",
         "categoryarray": [
          "Valores Reales",
          "Predicciones"
         ],
         "categoryorder": "array",
         "domain": [
          0,
          1
         ],
         "title": {
          "text": "Tipo"
         }
        },
        "yaxis": {
         "anchor": "x",
         "domain": [
          0,
          1
         ],
         "title": {
          "text": "Valor"
         }
        }
       }
      }
     },
     "metadata": {},
     "output_type": "display_data"
    }
   ],
   "source": [
    "# Creamos un DataFrame para Plotly Express\n",
    "df = pd.DataFrame({'Tipo': ['Valores Reales'] * len(y_test) + ['Predicciones'] * len(y_pred),\n",
    "                   'Valor': list(y_test) + list(y_pred)})\n",
    "\n",
    "# Creamos gráfico de violín con Plotly Express\n",
    "fig = px.violin(df, x='Tipo', y='Valor', box=True, points=\"all\", color='Tipo',\n",
    "                labels={'Tipo': 'Tipo', 'Valor': 'Valor'},\n",
    "                category_orders={'Tipo': ['Valores Reales', 'Predicciones']},\n",
    "                violinmode='overlay')\n",
    "\n",
    "# Configuramos el diseño del gráfico\n",
    "fig.update_layout(\n",
    "    title='Distribución de Predicciones y Valores Reales',\n",
    "    xaxis_title='Tipo',\n",
    "    yaxis_title='Valor',\n",
    "    legend=dict(x=0.8, y=0.95),\n",
    ")\n",
    "\n",
    "# Mostramos el gráfico\n",
    "fig.show()"
   ]
  },
  {
   "cell_type": "markdown",
   "metadata": {},
   "source": [
    "## **XGBRegressor** "
   ]
  },
  {
   "cell_type": "markdown",
   "metadata": {},
   "source": [
    "#### **Aunque los resultados obtenidos con el método de Random Forest fueron alentadores, en el contexto de este proyecto se requiere una aproximación aún más cercana a la realidad. En este sentido, proponemos la implementación de un modelo XGBRegressor. Este enfoque busca no solo consolidar la calidad de las predicciones, sino también maximizar la precisión y la fidelidad del modelo en relación con los datos del mundo real.**"
   ]
  },
  {
   "cell_type": "code",
   "execution_count": 18,
   "metadata": {},
   "outputs": [
    {
     "name": "stdout",
     "output_type": "stream",
     "text": [
      "Mean Squared Error (MSE): 1.820455824220891\n",
      "Mean Absolute Error (MAE): 0.48914036629665664\n",
      "Root Mean Squared Error (RMSE): 1.3492426854427972\n",
      "R-squared (R2): 0.995743604627981\n"
     ]
    }
   ],
   "source": [
    "# Dividimos los datos en conjuntos de entrenamiento y prueba\n",
    "X_train, X_test, y_train, y_test = train_test_split(X, y, test_size=0.2, random_state=42)\n",
    "\n",
    "# Inicializamos y entrenamos el modelo XGBRegressor\n",
    "xgb_model = XGBRegressor(objective='reg:squarederror', random_state=42)\n",
    "xgb_model.fit(X_train, y_train)\n",
    "\n",
    "# Realizamos predicciones en el conjunto de prueba\n",
    "y_pred = xgb_model.predict(X_test)\n",
    "\n",
    "# Evaluamos el rendimiento del modelo\n",
    "mse = mean_squared_error(y_test, y_pred)\n",
    "mae = mean_absolute_error(y_test, y_pred)\n",
    "rmse = np.sqrt(mse)\n",
    "r2 = r2_score(y_test, y_pred)\n",
    "\n",
    "print(f'Mean Squared Error (MSE): {mse}')\n",
    "print(f'Mean Absolute Error (MAE): {mae}')\n",
    "print(f'Root Mean Squared Error (RMSE): {rmse}')\n",
    "print(f'R-squared (R2): {r2}')"
   ]
  },
  {
   "cell_type": "markdown",
   "metadata": {},
   "source": [
    "#### **Guardamos nuestro modelo**"
   ]
  },
  {
   "cell_type": "code",
   "execution_count": 19,
   "metadata": {},
   "outputs": [
    {
     "data": {
      "text/plain": [
       "['xgb_model.pkl']"
      ]
     },
     "execution_count": 19,
     "metadata": {},
     "output_type": "execute_result"
    }
   ],
   "source": [
    "# Guardamos el modelo en un archivo pickle\n",
    "joblib.dump(xgb_model, 'xgb_model.pkl')"
   ]
  },
  {
   "cell_type": "markdown",
   "metadata": {},
   "source": [
    "#### **Visualizamos los resultados**"
   ]
  },
  {
   "cell_type": "code",
   "execution_count": 20,
   "metadata": {},
   "outputs": [
    {
     "data": {
      "application/vnd.plotly.v1+json": {
       "config": {
        "plotlyServerURL": "https://plot.ly"
       },
       "data": [
        {
         "hovertemplate": "variable=Actual<br>index=%{x}<br>Valor=%{y}<extra></extra>",
         "legendgroup": "Actual",
         "marker": {
          "color": "red",
          "symbol": "circle"
         },
         "mode": "markers",
         "name": "Actual",
         "orientation": "v",
         "showlegend": true,
         "type": "scatter",
         "x": [
          310,
          780,
          643,
          895,
          522,
          110,
          29,
          184,
          653,
          936,
          778,
          352,
          67,
          481,
          30,
          894,
          730,
          231,
          521,
          816,
          318,
          442,
          394,
          937,
          732,
          485,
          611,
          350,
          516,
          72,
          309,
          439,
          770,
          107,
          861,
          650,
          359,
          445,
          694,
          70,
          864,
          606,
          519,
          482,
          863,
          820,
          902,
          855,
          478,
          433,
          319,
          983,
          696,
          265,
          432,
          266,
          602,
          688,
          141,
          139,
          644,
          221,
          60,
          137,
          63,
          65,
          25,
          23,
          66,
          851,
          305,
          887,
          888,
          809,
          929,
          890,
          930,
          931,
          806,
          974,
          889,
          973,
          720,
          388,
          86,
          682,
          765,
          636,
          638,
          218,
          596,
          165,
          595,
          594,
          342,
          260,
          261,
          467,
          344,
          10,
          292,
          247,
          168,
          873,
          244,
          174,
          789,
          833,
          790,
          582,
          581,
          499,
          457,
          834,
          497,
          500,
          290,
          541,
          286,
          625,
          584,
          585,
          543,
          289,
          136,
          328,
          752,
          331,
          88,
          96,
          213,
          210,
          209,
          55,
          59,
          299,
          254,
          158,
          382,
          423,
          76,
          78,
          424,
          380,
          549,
          420,
          801,
          926,
          591,
          198,
          199,
          120,
          633,
          923,
          884,
          547,
          39,
          881,
          800,
          544,
          714,
          757,
          629,
          587,
          590,
          760,
          672,
          754,
          880,
          673,
          962,
          237,
          913,
          949,
          872,
          280,
          281,
          830,
          321,
          44,
          362,
          788,
          450,
          451,
          620,
          363,
          578,
          534,
          448,
          449,
          535,
          912,
          618,
          657,
          615,
          740,
          868,
          617
         ],
         "xaxis": "x",
         "y": [
          0,
          0,
          0,
          0,
          0,
          0,
          0,
          0,
          0,
          0,
          0,
          0,
          0,
          0,
          0,
          0,
          0,
          0,
          0,
          0,
          0,
          0,
          0,
          0,
          0,
          0,
          0,
          0,
          0,
          0,
          0,
          0,
          0,
          0,
          0,
          0,
          0,
          0,
          0,
          0,
          0,
          0,
          0,
          0,
          0,
          0,
          0,
          0,
          0,
          0,
          0,
          0,
          0,
          0.01,
          0.01,
          0.01,
          0.01,
          0.01,
          0.01,
          0.01,
          0.01,
          0.02,
          0.02,
          0.02,
          0.02,
          0.03,
          0.03,
          0.03,
          0.04,
          0.04,
          0.05,
          0.05,
          0.05,
          0.05,
          0.05,
          0.05,
          0.05,
          0.05,
          0.06,
          0.06,
          0.06,
          0.06,
          0.08,
          0.09,
          0.09,
          0.09,
          0.1,
          0.1,
          0.11,
          0.11,
          0.13,
          0.14,
          0.14,
          0.15,
          0.18,
          0.18,
          0.19,
          0.2,
          0.23,
          0.31,
          0.31,
          0.42,
          0.42,
          0.43,
          0.43,
          0.43,
          0.5,
          0.52,
          0.54,
          0.54,
          0.55,
          0.57,
          0.58,
          0.58,
          0.59,
          0.6,
          0.6,
          0.61,
          0.61,
          0.63,
          0.63,
          0.65,
          0.65,
          0.66,
          0.69,
          0.7,
          0.75,
          0.76,
          0.8,
          1.03,
          1.11,
          1.3,
          1.36,
          1.67,
          2.03,
          2.52,
          2.77,
          3.02,
          3.5,
          4.24,
          4.72,
          4.74,
          4.77,
          5.06,
          5.46,
          5.76,
          6.26,
          6.64,
          6.95,
          6.96,
          7.25,
          7.33,
          7.34,
          7.55,
          7.57,
          7.61,
          7.88,
          7.91,
          8.03,
          8.18,
          8.59,
          8.6,
          8.96,
          8.97,
          9,
          9.04,
          9.14,
          9.16,
          9.52,
          9.53,
          9.61,
          17.21,
          34.18,
          38.45,
          43.23,
          44.05,
          44.56,
          47.08,
          49.39,
          50.19,
          51.92,
          52.29,
          59.74,
          60.06,
          61.81,
          63.57,
          64.07,
          65.83,
          66.58,
          67.65,
          69.67,
          69.92,
          75.12,
          77.57,
          77.85,
          79.22,
          80.01,
          80.47
         ],
         "yaxis": "y"
        },
        {
         "hovertemplate": "variable=Predicted<br>index=%{x}<br>Valor=%{y}<extra></extra>",
         "legendgroup": "Predicted",
         "marker": {
          "color": "blue",
          "symbol": "circle"
         },
         "mode": "markers",
         "name": "Predicted",
         "orientation": "v",
         "showlegend": true,
         "type": "scatter",
         "x": [
          310,
          780,
          643,
          895,
          522,
          110,
          29,
          184,
          653,
          936,
          778,
          352,
          67,
          481,
          30,
          894,
          730,
          231,
          521,
          816,
          318,
          442,
          394,
          937,
          732,
          485,
          611,
          350,
          516,
          72,
          309,
          439,
          770,
          107,
          861,
          650,
          359,
          445,
          694,
          70,
          864,
          606,
          519,
          482,
          863,
          820,
          902,
          855,
          478,
          433,
          319,
          983,
          696,
          265,
          432,
          266,
          602,
          688,
          141,
          139,
          644,
          221,
          60,
          137,
          63,
          65,
          25,
          23,
          66,
          851,
          305,
          887,
          888,
          809,
          929,
          890,
          930,
          931,
          806,
          974,
          889,
          973,
          720,
          388,
          86,
          682,
          765,
          636,
          638,
          218,
          596,
          165,
          595,
          594,
          342,
          260,
          261,
          467,
          344,
          10,
          292,
          247,
          168,
          873,
          244,
          174,
          789,
          833,
          790,
          582,
          581,
          499,
          457,
          834,
          497,
          500,
          290,
          541,
          286,
          625,
          584,
          585,
          543,
          289,
          136,
          328,
          752,
          331,
          88,
          96,
          213,
          210,
          209,
          55,
          59,
          299,
          254,
          158,
          382,
          423,
          76,
          78,
          424,
          380,
          549,
          420,
          801,
          926,
          591,
          198,
          199,
          120,
          633,
          923,
          884,
          547,
          39,
          881,
          800,
          544,
          714,
          757,
          629,
          587,
          590,
          760,
          672,
          754,
          880,
          673,
          962,
          237,
          913,
          949,
          872,
          280,
          281,
          830,
          321,
          44,
          362,
          788,
          450,
          451,
          620,
          363,
          578,
          534,
          448,
          449,
          535,
          912,
          618,
          657,
          615,
          740,
          868,
          617
         ],
         "xaxis": "x",
         "y": [
          0.002234417712315917,
          -0.012810834683477879,
          0.05173811689019203,
          0.10566531121730804,
          0.004134784452617168,
          0.004825261887162924,
          -0.001777216442860663,
          -0.004182251635938883,
          0.02042861096560955,
          -0.0020920061506330967,
          -0.009263424202799797,
          0.0776800885796547,
          0.0165921188890934,
          0.014014502987265587,
          0.010953547433018684,
          -0.024357860907912254,
          0.013027516193687916,
          0.012293625622987747,
          -0.010864496231079102,
          -0.033521197736263275,
          -0.026140781119465828,
          -0.004940221086144447,
          0.07032500952482224,
          -0.0007208387251012027,
          0.009649134241044521,
          -0.0031626406125724316,
          0.009693576954305172,
          0.020024318248033524,
          -0.001209062640555203,
          -0.012993205338716507,
          -0.00411248067393899,
          0.0033200299367308617,
          0.0026966561563313007,
          0.002895478392019868,
          -0.019529428333044052,
          0.0474155955016613,
          0.07532010227441788,
          0.006109932903200388,
          0.0032280762679874897,
          -0.05095197632908821,
          -0.0066217090934515,
          -0.03936687484383583,
          0.03856424614787102,
          -0.006285231094807386,
          -0.01858343370258808,
          -0.024642860516905785,
          0.1066998541355133,
          0.01530346181243658,
          0.0008833573665469885,
          0.032207414507865906,
          -0.00739786634221673,
          0.0033952980302274227,
          0.018616123124957085,
          0.009668543934822083,
          0.005262152291834354,
          0.01263764314353466,
          0.029359418898820877,
          0.013122621923685074,
          0.022793373093008995,
          -0.0012033976381644607,
          0.0001567865547258407,
          0.03934371843934059,
          0.04903922975063324,
          0.0067854686640203,
          -0.02725151926279068,
          0.022251984104514122,
          0.046340156346559525,
          0.04971054568886757,
          0.05079101026058197,
          0.05441771820187569,
          0.06493618339300156,
          -0.025646522641181946,
          0.16478615999221802,
          -0.023455362766981125,
          0.03216137737035751,
          0.07355878502130508,
          0.04080880060791969,
          0.027671746909618378,
          -0.019231168553233147,
          0.038147181272506714,
          0.07010646164417267,
          0.05895561724901199,
          0.0763530284166336,
          0.09294361621141434,
          0.12431705743074417,
          0.11087514460086823,
          0.07869718223810196,
          0.15995299816131592,
          0.1316925436258316,
          0.11205381155014038,
          0.18978126347064972,
          0.07883095741271973,
          0.17197561264038086,
          0.15494994819164276,
          0.16120263934135437,
          0.1357043832540512,
          0.11395243555307388,
          0.2276822328567505,
          0.2162398099899292,
          0.3903868496417999,
          0.23692719638347626,
          0.33436790108680725,
          0.4630637466907501,
          0.1372310221195221,
          0.3802308738231659,
          0.4226960837841034,
          0.44687822461128235,
          0.5667547583580017,
          0.32487061619758606,
          0.535926103591919,
          0.4896119236946106,
          0.6461352109909058,
          0.6063846349716187,
          0.7217161655426025,
          0.5739489793777466,
          0.5345672369003296,
          0.49418047070503235,
          0.6257862448692322,
          0.8029070496559143,
          0.7225401997566223,
          0.21396219730377197,
          0.11841253191232681,
          0.8181424736976624,
          0.6247312426567078,
          0.6168656945228577,
          0.6699563264846802,
          0.7822018265724182,
          0.734558641910553,
          0.9256073236465454,
          0.758038341999054,
          1.0441964864730835,
          1.3407090902328491,
          1.4968085289001465,
          1.9474796056747437,
          1.9622037410736084,
          2.517656087875366,
          2.69020676612854,
          3.6898434162139893,
          3.8438003063201904,
          4.319951057434082,
          3.8109185695648193,
          6.383310794830322,
          4.836772918701172,
          5.106289386749268,
          6.0050950050354,
          5.969376087188721,
          6.296969890594482,
          6.394883155822754,
          6.618314743041992,
          5.887975692749023,
          6.420936584472656,
          10.73521614074707,
          7.069816589355469,
          7.736629962921143,
          7.5582594871521,
          7.510861396789551,
          7.035408973693848,
          8.300024032592773,
          7.876836776733398,
          8.256152153015137,
          8.699003219604492,
          8.10283374786377,
          8.944354057312012,
          8.695538520812988,
          8.885237693786621,
          9.738480567932129,
          9.258015632629395,
          9.31686782836914,
          9.412718772888184,
          9.325203895568848,
          9.210901260375977,
          19.16336441040039,
          39.430660247802734,
          47.10732650756836,
          38.114601135253906,
          40.40732955932617,
          42.70891571044922,
          37.83177185058594,
          52.143218994140625,
          50.21958541870117,
          54.15254211425781,
          54.0559196472168,
          62.70436096191406,
          59.335575103759766,
          65.47844696044922,
          62.22736740112305,
          64.93824768066406,
          66.4104232788086,
          69.02665710449219,
          69.78471374511719,
          65.58238220214844,
          73.37589263916016,
          72.78963470458984,
          76.85935974121094,
          76.31765747070312,
          82.09343719482422,
          79.71003723144531,
          77.76213836669922
         ],
         "yaxis": "y"
        }
       ],
       "layout": {
        "legend": {
         "title": {
          "text": "variable"
         },
         "tracegroupgap": 0
        },
        "template": {
         "data": {
          "bar": [
           {
            "error_x": {
             "color": "#2a3f5f"
            },
            "error_y": {
             "color": "#2a3f5f"
            },
            "marker": {
             "line": {
              "color": "#E5ECF6",
              "width": 0.5
             },
             "pattern": {
              "fillmode": "overlay",
              "size": 10,
              "solidity": 0.2
             }
            },
            "type": "bar"
           }
          ],
          "barpolar": [
           {
            "marker": {
             "line": {
              "color": "#E5ECF6",
              "width": 0.5
             },
             "pattern": {
              "fillmode": "overlay",
              "size": 10,
              "solidity": 0.2
             }
            },
            "type": "barpolar"
           }
          ],
          "carpet": [
           {
            "aaxis": {
             "endlinecolor": "#2a3f5f",
             "gridcolor": "white",
             "linecolor": "white",
             "minorgridcolor": "white",
             "startlinecolor": "#2a3f5f"
            },
            "baxis": {
             "endlinecolor": "#2a3f5f",
             "gridcolor": "white",
             "linecolor": "white",
             "minorgridcolor": "white",
             "startlinecolor": "#2a3f5f"
            },
            "type": "carpet"
           }
          ],
          "choropleth": [
           {
            "colorbar": {
             "outlinewidth": 0,
             "ticks": ""
            },
            "type": "choropleth"
           }
          ],
          "contour": [
           {
            "colorbar": {
             "outlinewidth": 0,
             "ticks": ""
            },
            "colorscale": [
             [
              0,
              "#0d0887"
             ],
             [
              0.1111111111111111,
              "#46039f"
             ],
             [
              0.2222222222222222,
              "#7201a8"
             ],
             [
              0.3333333333333333,
              "#9c179e"
             ],
             [
              0.4444444444444444,
              "#bd3786"
             ],
             [
              0.5555555555555556,
              "#d8576b"
             ],
             [
              0.6666666666666666,
              "#ed7953"
             ],
             [
              0.7777777777777778,
              "#fb9f3a"
             ],
             [
              0.8888888888888888,
              "#fdca26"
             ],
             [
              1,
              "#f0f921"
             ]
            ],
            "type": "contour"
           }
          ],
          "contourcarpet": [
           {
            "colorbar": {
             "outlinewidth": 0,
             "ticks": ""
            },
            "type": "contourcarpet"
           }
          ],
          "heatmap": [
           {
            "colorbar": {
             "outlinewidth": 0,
             "ticks": ""
            },
            "colorscale": [
             [
              0,
              "#0d0887"
             ],
             [
              0.1111111111111111,
              "#46039f"
             ],
             [
              0.2222222222222222,
              "#7201a8"
             ],
             [
              0.3333333333333333,
              "#9c179e"
             ],
             [
              0.4444444444444444,
              "#bd3786"
             ],
             [
              0.5555555555555556,
              "#d8576b"
             ],
             [
              0.6666666666666666,
              "#ed7953"
             ],
             [
              0.7777777777777778,
              "#fb9f3a"
             ],
             [
              0.8888888888888888,
              "#fdca26"
             ],
             [
              1,
              "#f0f921"
             ]
            ],
            "type": "heatmap"
           }
          ],
          "heatmapgl": [
           {
            "colorbar": {
             "outlinewidth": 0,
             "ticks": ""
            },
            "colorscale": [
             [
              0,
              "#0d0887"
             ],
             [
              0.1111111111111111,
              "#46039f"
             ],
             [
              0.2222222222222222,
              "#7201a8"
             ],
             [
              0.3333333333333333,
              "#9c179e"
             ],
             [
              0.4444444444444444,
              "#bd3786"
             ],
             [
              0.5555555555555556,
              "#d8576b"
             ],
             [
              0.6666666666666666,
              "#ed7953"
             ],
             [
              0.7777777777777778,
              "#fb9f3a"
             ],
             [
              0.8888888888888888,
              "#fdca26"
             ],
             [
              1,
              "#f0f921"
             ]
            ],
            "type": "heatmapgl"
           }
          ],
          "histogram": [
           {
            "marker": {
             "pattern": {
              "fillmode": "overlay",
              "size": 10,
              "solidity": 0.2
             }
            },
            "type": "histogram"
           }
          ],
          "histogram2d": [
           {
            "colorbar": {
             "outlinewidth": 0,
             "ticks": ""
            },
            "colorscale": [
             [
              0,
              "#0d0887"
             ],
             [
              0.1111111111111111,
              "#46039f"
             ],
             [
              0.2222222222222222,
              "#7201a8"
             ],
             [
              0.3333333333333333,
              "#9c179e"
             ],
             [
              0.4444444444444444,
              "#bd3786"
             ],
             [
              0.5555555555555556,
              "#d8576b"
             ],
             [
              0.6666666666666666,
              "#ed7953"
             ],
             [
              0.7777777777777778,
              "#fb9f3a"
             ],
             [
              0.8888888888888888,
              "#fdca26"
             ],
             [
              1,
              "#f0f921"
             ]
            ],
            "type": "histogram2d"
           }
          ],
          "histogram2dcontour": [
           {
            "colorbar": {
             "outlinewidth": 0,
             "ticks": ""
            },
            "colorscale": [
             [
              0,
              "#0d0887"
             ],
             [
              0.1111111111111111,
              "#46039f"
             ],
             [
              0.2222222222222222,
              "#7201a8"
             ],
             [
              0.3333333333333333,
              "#9c179e"
             ],
             [
              0.4444444444444444,
              "#bd3786"
             ],
             [
              0.5555555555555556,
              "#d8576b"
             ],
             [
              0.6666666666666666,
              "#ed7953"
             ],
             [
              0.7777777777777778,
              "#fb9f3a"
             ],
             [
              0.8888888888888888,
              "#fdca26"
             ],
             [
              1,
              "#f0f921"
             ]
            ],
            "type": "histogram2dcontour"
           }
          ],
          "mesh3d": [
           {
            "colorbar": {
             "outlinewidth": 0,
             "ticks": ""
            },
            "type": "mesh3d"
           }
          ],
          "parcoords": [
           {
            "line": {
             "colorbar": {
              "outlinewidth": 0,
              "ticks": ""
             }
            },
            "type": "parcoords"
           }
          ],
          "pie": [
           {
            "automargin": true,
            "type": "pie"
           }
          ],
          "scatter": [
           {
            "fillpattern": {
             "fillmode": "overlay",
             "size": 10,
             "solidity": 0.2
            },
            "type": "scatter"
           }
          ],
          "scatter3d": [
           {
            "line": {
             "colorbar": {
              "outlinewidth": 0,
              "ticks": ""
             }
            },
            "marker": {
             "colorbar": {
              "outlinewidth": 0,
              "ticks": ""
             }
            },
            "type": "scatter3d"
           }
          ],
          "scattercarpet": [
           {
            "marker": {
             "colorbar": {
              "outlinewidth": 0,
              "ticks": ""
             }
            },
            "type": "scattercarpet"
           }
          ],
          "scattergeo": [
           {
            "marker": {
             "colorbar": {
              "outlinewidth": 0,
              "ticks": ""
             }
            },
            "type": "scattergeo"
           }
          ],
          "scattergl": [
           {
            "marker": {
             "colorbar": {
              "outlinewidth": 0,
              "ticks": ""
             }
            },
            "type": "scattergl"
           }
          ],
          "scattermapbox": [
           {
            "marker": {
             "colorbar": {
              "outlinewidth": 0,
              "ticks": ""
             }
            },
            "type": "scattermapbox"
           }
          ],
          "scatterpolar": [
           {
            "marker": {
             "colorbar": {
              "outlinewidth": 0,
              "ticks": ""
             }
            },
            "type": "scatterpolar"
           }
          ],
          "scatterpolargl": [
           {
            "marker": {
             "colorbar": {
              "outlinewidth": 0,
              "ticks": ""
             }
            },
            "type": "scatterpolargl"
           }
          ],
          "scatterternary": [
           {
            "marker": {
             "colorbar": {
              "outlinewidth": 0,
              "ticks": ""
             }
            },
            "type": "scatterternary"
           }
          ],
          "surface": [
           {
            "colorbar": {
             "outlinewidth": 0,
             "ticks": ""
            },
            "colorscale": [
             [
              0,
              "#0d0887"
             ],
             [
              0.1111111111111111,
              "#46039f"
             ],
             [
              0.2222222222222222,
              "#7201a8"
             ],
             [
              0.3333333333333333,
              "#9c179e"
             ],
             [
              0.4444444444444444,
              "#bd3786"
             ],
             [
              0.5555555555555556,
              "#d8576b"
             ],
             [
              0.6666666666666666,
              "#ed7953"
             ],
             [
              0.7777777777777778,
              "#fb9f3a"
             ],
             [
              0.8888888888888888,
              "#fdca26"
             ],
             [
              1,
              "#f0f921"
             ]
            ],
            "type": "surface"
           }
          ],
          "table": [
           {
            "cells": {
             "fill": {
              "color": "#EBF0F8"
             },
             "line": {
              "color": "white"
             }
            },
            "header": {
             "fill": {
              "color": "#C8D4E3"
             },
             "line": {
              "color": "white"
             }
            },
            "type": "table"
           }
          ]
         },
         "layout": {
          "annotationdefaults": {
           "arrowcolor": "#2a3f5f",
           "arrowhead": 0,
           "arrowwidth": 1
          },
          "autotypenumbers": "strict",
          "coloraxis": {
           "colorbar": {
            "outlinewidth": 0,
            "ticks": ""
           }
          },
          "colorscale": {
           "diverging": [
            [
             0,
             "#8e0152"
            ],
            [
             0.1,
             "#c51b7d"
            ],
            [
             0.2,
             "#de77ae"
            ],
            [
             0.3,
             "#f1b6da"
            ],
            [
             0.4,
             "#fde0ef"
            ],
            [
             0.5,
             "#f7f7f7"
            ],
            [
             0.6,
             "#e6f5d0"
            ],
            [
             0.7,
             "#b8e186"
            ],
            [
             0.8,
             "#7fbc41"
            ],
            [
             0.9,
             "#4d9221"
            ],
            [
             1,
             "#276419"
            ]
           ],
           "sequential": [
            [
             0,
             "#0d0887"
            ],
            [
             0.1111111111111111,
             "#46039f"
            ],
            [
             0.2222222222222222,
             "#7201a8"
            ],
            [
             0.3333333333333333,
             "#9c179e"
            ],
            [
             0.4444444444444444,
             "#bd3786"
            ],
            [
             0.5555555555555556,
             "#d8576b"
            ],
            [
             0.6666666666666666,
             "#ed7953"
            ],
            [
             0.7777777777777778,
             "#fb9f3a"
            ],
            [
             0.8888888888888888,
             "#fdca26"
            ],
            [
             1,
             "#f0f921"
            ]
           ],
           "sequentialminus": [
            [
             0,
             "#0d0887"
            ],
            [
             0.1111111111111111,
             "#46039f"
            ],
            [
             0.2222222222222222,
             "#7201a8"
            ],
            [
             0.3333333333333333,
             "#9c179e"
            ],
            [
             0.4444444444444444,
             "#bd3786"
            ],
            [
             0.5555555555555556,
             "#d8576b"
            ],
            [
             0.6666666666666666,
             "#ed7953"
            ],
            [
             0.7777777777777778,
             "#fb9f3a"
            ],
            [
             0.8888888888888888,
             "#fdca26"
            ],
            [
             1,
             "#f0f921"
            ]
           ]
          },
          "colorway": [
           "#636efa",
           "#EF553B",
           "#00cc96",
           "#ab63fa",
           "#FFA15A",
           "#19d3f3",
           "#FF6692",
           "#B6E880",
           "#FF97FF",
           "#FECB52"
          ],
          "font": {
           "color": "#2a3f5f"
          },
          "geo": {
           "bgcolor": "white",
           "lakecolor": "white",
           "landcolor": "#E5ECF6",
           "showlakes": true,
           "showland": true,
           "subunitcolor": "white"
          },
          "hoverlabel": {
           "align": "left"
          },
          "hovermode": "closest",
          "mapbox": {
           "style": "light"
          },
          "paper_bgcolor": "white",
          "plot_bgcolor": "#E5ECF6",
          "polar": {
           "angularaxis": {
            "gridcolor": "white",
            "linecolor": "white",
            "ticks": ""
           },
           "bgcolor": "#E5ECF6",
           "radialaxis": {
            "gridcolor": "white",
            "linecolor": "white",
            "ticks": ""
           }
          },
          "scene": {
           "xaxis": {
            "backgroundcolor": "#E5ECF6",
            "gridcolor": "white",
            "gridwidth": 2,
            "linecolor": "white",
            "showbackground": true,
            "ticks": "",
            "zerolinecolor": "white"
           },
           "yaxis": {
            "backgroundcolor": "#E5ECF6",
            "gridcolor": "white",
            "gridwidth": 2,
            "linecolor": "white",
            "showbackground": true,
            "ticks": "",
            "zerolinecolor": "white"
           },
           "zaxis": {
            "backgroundcolor": "#E5ECF6",
            "gridcolor": "white",
            "gridwidth": 2,
            "linecolor": "white",
            "showbackground": true,
            "ticks": "",
            "zerolinecolor": "white"
           }
          },
          "shapedefaults": {
           "line": {
            "color": "#2a3f5f"
           }
          },
          "ternary": {
           "aaxis": {
            "gridcolor": "white",
            "linecolor": "white",
            "ticks": ""
           },
           "baxis": {
            "gridcolor": "white",
            "linecolor": "white",
            "ticks": ""
           },
           "bgcolor": "#E5ECF6",
           "caxis": {
            "gridcolor": "white",
            "linecolor": "white",
            "ticks": ""
           }
          },
          "title": {
           "x": 0.05
          },
          "xaxis": {
           "automargin": true,
           "gridcolor": "white",
           "linecolor": "white",
           "ticks": "",
           "title": {
            "standoff": 15
           },
           "zerolinecolor": "white",
           "zerolinewidth": 2
          },
          "yaxis": {
           "automargin": true,
           "gridcolor": "white",
           "linecolor": "white",
           "ticks": "",
           "title": {
            "standoff": 15
           },
           "zerolinecolor": "white",
           "zerolinewidth": 2
          }
         }
        },
        "title": {
         "text": "Predicciones vs. Valores Reales"
        },
        "xaxis": {
         "anchor": "y",
         "domain": [
          0,
          1
         ],
         "title": {
          "text": "Índice"
         }
        },
        "yaxis": {
         "anchor": "x",
         "domain": [
          0,
          1
         ],
         "title": {
          "text": "Valor"
         }
        }
       }
      }
     },
     "metadata": {},
     "output_type": "display_data"
    }
   ],
   "source": [
    "# Creamos un DataFrame con las predicciones y valores reales\n",
    "results_df = pd.DataFrame({'Actual': y_test, 'Predicted': y_pred})\n",
    "\n",
    "# Ordenamos el DataFrame por los valores reales para una mejor visualización\n",
    "results_df = results_df.sort_values(by='Actual')\n",
    "\n",
    "# Creamos gráfico de dispersión con Plotly Express\n",
    "fig = px.scatter(results_df, x=results_df.index, y=['Actual', 'Predicted'],\n",
    "                 labels={'value': 'Valor'},\n",
    "                 title='Predicciones vs. Valores Reales',\n",
    "                 color_discrete_sequence=['red', 'blue'])\n",
    "\n",
    "# Configuramos el diseño del gráfico\n",
    "fig.update_layout(\n",
    "    xaxis_title='Índice',\n",
    "    yaxis_title='Valor',\n",
    ")\n",
    "\n",
    "# Mostramos el gráfico\n",
    "fig.show()"
   ]
  },
  {
   "cell_type": "code",
   "execution_count": 21,
   "metadata": {},
   "outputs": [
    {
     "data": {
      "application/vnd.plotly.v1+json": {
       "config": {
        "plotlyServerURL": "https://plot.ly"
       },
       "data": [
        {
         "alignmentgroup": "True",
         "hovertemplate": "Feature=%{x}<br>Importancia=%{marker.color}<extra></extra>",
         "legendgroup": "",
         "marker": {
          "color": [
           0.8150011301040649,
           0.16849525272846222,
           0.016503583639860153
          ],
          "coloraxis": "coloraxis",
          "line": {
           "color": "black",
           "width": 1
          },
          "pattern": {
           "shape": ""
          }
         },
         "name": "",
         "offsetgroup": "",
         "opacity": 0.7,
         "orientation": "v",
         "showlegend": false,
         "textposition": "auto",
         "type": "bar",
         "x": [
          "pBoroughID",
          "hour",
          "dayofweek"
         ],
         "xaxis": "x",
         "y": [
          0.8150011301040649,
          0.16849525272846222,
          0.016503583639860153
         ],
         "yaxis": "y"
        }
       ],
       "layout": {
        "barmode": "relative",
        "coloraxis": {
         "colorbar": {
          "title": {
           "text": "Importancia"
          }
         },
         "colorscale": [
          [
           0,
           "#440154"
          ],
          [
           0.1111111111111111,
           "#482878"
          ],
          [
           0.2222222222222222,
           "#3e4989"
          ],
          [
           0.3333333333333333,
           "#31688e"
          ],
          [
           0.4444444444444444,
           "#26828e"
          ],
          [
           0.5555555555555556,
           "#1f9e89"
          ],
          [
           0.6666666666666666,
           "#35b779"
          ],
          [
           0.7777777777777778,
           "#6ece58"
          ],
          [
           0.8888888888888888,
           "#b5de2b"
          ],
          [
           1,
           "#fde725"
          ]
         ]
        },
        "legend": {
         "tracegroupgap": 0
        },
        "template": {
         "data": {
          "bar": [
           {
            "error_x": {
             "color": "#2a3f5f"
            },
            "error_y": {
             "color": "#2a3f5f"
            },
            "marker": {
             "line": {
              "color": "#E5ECF6",
              "width": 0.5
             },
             "pattern": {
              "fillmode": "overlay",
              "size": 10,
              "solidity": 0.2
             }
            },
            "type": "bar"
           }
          ],
          "barpolar": [
           {
            "marker": {
             "line": {
              "color": "#E5ECF6",
              "width": 0.5
             },
             "pattern": {
              "fillmode": "overlay",
              "size": 10,
              "solidity": 0.2
             }
            },
            "type": "barpolar"
           }
          ],
          "carpet": [
           {
            "aaxis": {
             "endlinecolor": "#2a3f5f",
             "gridcolor": "white",
             "linecolor": "white",
             "minorgridcolor": "white",
             "startlinecolor": "#2a3f5f"
            },
            "baxis": {
             "endlinecolor": "#2a3f5f",
             "gridcolor": "white",
             "linecolor": "white",
             "minorgridcolor": "white",
             "startlinecolor": "#2a3f5f"
            },
            "type": "carpet"
           }
          ],
          "choropleth": [
           {
            "colorbar": {
             "outlinewidth": 0,
             "ticks": ""
            },
            "type": "choropleth"
           }
          ],
          "contour": [
           {
            "colorbar": {
             "outlinewidth": 0,
             "ticks": ""
            },
            "colorscale": [
             [
              0,
              "#0d0887"
             ],
             [
              0.1111111111111111,
              "#46039f"
             ],
             [
              0.2222222222222222,
              "#7201a8"
             ],
             [
              0.3333333333333333,
              "#9c179e"
             ],
             [
              0.4444444444444444,
              "#bd3786"
             ],
             [
              0.5555555555555556,
              "#d8576b"
             ],
             [
              0.6666666666666666,
              "#ed7953"
             ],
             [
              0.7777777777777778,
              "#fb9f3a"
             ],
             [
              0.8888888888888888,
              "#fdca26"
             ],
             [
              1,
              "#f0f921"
             ]
            ],
            "type": "contour"
           }
          ],
          "contourcarpet": [
           {
            "colorbar": {
             "outlinewidth": 0,
             "ticks": ""
            },
            "type": "contourcarpet"
           }
          ],
          "heatmap": [
           {
            "colorbar": {
             "outlinewidth": 0,
             "ticks": ""
            },
            "colorscale": [
             [
              0,
              "#0d0887"
             ],
             [
              0.1111111111111111,
              "#46039f"
             ],
             [
              0.2222222222222222,
              "#7201a8"
             ],
             [
              0.3333333333333333,
              "#9c179e"
             ],
             [
              0.4444444444444444,
              "#bd3786"
             ],
             [
              0.5555555555555556,
              "#d8576b"
             ],
             [
              0.6666666666666666,
              "#ed7953"
             ],
             [
              0.7777777777777778,
              "#fb9f3a"
             ],
             [
              0.8888888888888888,
              "#fdca26"
             ],
             [
              1,
              "#f0f921"
             ]
            ],
            "type": "heatmap"
           }
          ],
          "heatmapgl": [
           {
            "colorbar": {
             "outlinewidth": 0,
             "ticks": ""
            },
            "colorscale": [
             [
              0,
              "#0d0887"
             ],
             [
              0.1111111111111111,
              "#46039f"
             ],
             [
              0.2222222222222222,
              "#7201a8"
             ],
             [
              0.3333333333333333,
              "#9c179e"
             ],
             [
              0.4444444444444444,
              "#bd3786"
             ],
             [
              0.5555555555555556,
              "#d8576b"
             ],
             [
              0.6666666666666666,
              "#ed7953"
             ],
             [
              0.7777777777777778,
              "#fb9f3a"
             ],
             [
              0.8888888888888888,
              "#fdca26"
             ],
             [
              1,
              "#f0f921"
             ]
            ],
            "type": "heatmapgl"
           }
          ],
          "histogram": [
           {
            "marker": {
             "pattern": {
              "fillmode": "overlay",
              "size": 10,
              "solidity": 0.2
             }
            },
            "type": "histogram"
           }
          ],
          "histogram2d": [
           {
            "colorbar": {
             "outlinewidth": 0,
             "ticks": ""
            },
            "colorscale": [
             [
              0,
              "#0d0887"
             ],
             [
              0.1111111111111111,
              "#46039f"
             ],
             [
              0.2222222222222222,
              "#7201a8"
             ],
             [
              0.3333333333333333,
              "#9c179e"
             ],
             [
              0.4444444444444444,
              "#bd3786"
             ],
             [
              0.5555555555555556,
              "#d8576b"
             ],
             [
              0.6666666666666666,
              "#ed7953"
             ],
             [
              0.7777777777777778,
              "#fb9f3a"
             ],
             [
              0.8888888888888888,
              "#fdca26"
             ],
             [
              1,
              "#f0f921"
             ]
            ],
            "type": "histogram2d"
           }
          ],
          "histogram2dcontour": [
           {
            "colorbar": {
             "outlinewidth": 0,
             "ticks": ""
            },
            "colorscale": [
             [
              0,
              "#0d0887"
             ],
             [
              0.1111111111111111,
              "#46039f"
             ],
             [
              0.2222222222222222,
              "#7201a8"
             ],
             [
              0.3333333333333333,
              "#9c179e"
             ],
             [
              0.4444444444444444,
              "#bd3786"
             ],
             [
              0.5555555555555556,
              "#d8576b"
             ],
             [
              0.6666666666666666,
              "#ed7953"
             ],
             [
              0.7777777777777778,
              "#fb9f3a"
             ],
             [
              0.8888888888888888,
              "#fdca26"
             ],
             [
              1,
              "#f0f921"
             ]
            ],
            "type": "histogram2dcontour"
           }
          ],
          "mesh3d": [
           {
            "colorbar": {
             "outlinewidth": 0,
             "ticks": ""
            },
            "type": "mesh3d"
           }
          ],
          "parcoords": [
           {
            "line": {
             "colorbar": {
              "outlinewidth": 0,
              "ticks": ""
             }
            },
            "type": "parcoords"
           }
          ],
          "pie": [
           {
            "automargin": true,
            "type": "pie"
           }
          ],
          "scatter": [
           {
            "fillpattern": {
             "fillmode": "overlay",
             "size": 10,
             "solidity": 0.2
            },
            "type": "scatter"
           }
          ],
          "scatter3d": [
           {
            "line": {
             "colorbar": {
              "outlinewidth": 0,
              "ticks": ""
             }
            },
            "marker": {
             "colorbar": {
              "outlinewidth": 0,
              "ticks": ""
             }
            },
            "type": "scatter3d"
           }
          ],
          "scattercarpet": [
           {
            "marker": {
             "colorbar": {
              "outlinewidth": 0,
              "ticks": ""
             }
            },
            "type": "scattercarpet"
           }
          ],
          "scattergeo": [
           {
            "marker": {
             "colorbar": {
              "outlinewidth": 0,
              "ticks": ""
             }
            },
            "type": "scattergeo"
           }
          ],
          "scattergl": [
           {
            "marker": {
             "colorbar": {
              "outlinewidth": 0,
              "ticks": ""
             }
            },
            "type": "scattergl"
           }
          ],
          "scattermapbox": [
           {
            "marker": {
             "colorbar": {
              "outlinewidth": 0,
              "ticks": ""
             }
            },
            "type": "scattermapbox"
           }
          ],
          "scatterpolar": [
           {
            "marker": {
             "colorbar": {
              "outlinewidth": 0,
              "ticks": ""
             }
            },
            "type": "scatterpolar"
           }
          ],
          "scatterpolargl": [
           {
            "marker": {
             "colorbar": {
              "outlinewidth": 0,
              "ticks": ""
             }
            },
            "type": "scatterpolargl"
           }
          ],
          "scatterternary": [
           {
            "marker": {
             "colorbar": {
              "outlinewidth": 0,
              "ticks": ""
             }
            },
            "type": "scatterternary"
           }
          ],
          "surface": [
           {
            "colorbar": {
             "outlinewidth": 0,
             "ticks": ""
            },
            "colorscale": [
             [
              0,
              "#0d0887"
             ],
             [
              0.1111111111111111,
              "#46039f"
             ],
             [
              0.2222222222222222,
              "#7201a8"
             ],
             [
              0.3333333333333333,
              "#9c179e"
             ],
             [
              0.4444444444444444,
              "#bd3786"
             ],
             [
              0.5555555555555556,
              "#d8576b"
             ],
             [
              0.6666666666666666,
              "#ed7953"
             ],
             [
              0.7777777777777778,
              "#fb9f3a"
             ],
             [
              0.8888888888888888,
              "#fdca26"
             ],
             [
              1,
              "#f0f921"
             ]
            ],
            "type": "surface"
           }
          ],
          "table": [
           {
            "cells": {
             "fill": {
              "color": "#EBF0F8"
             },
             "line": {
              "color": "white"
             }
            },
            "header": {
             "fill": {
              "color": "#C8D4E3"
             },
             "line": {
              "color": "white"
             }
            },
            "type": "table"
           }
          ]
         },
         "layout": {
          "annotationdefaults": {
           "arrowcolor": "#2a3f5f",
           "arrowhead": 0,
           "arrowwidth": 1
          },
          "autotypenumbers": "strict",
          "coloraxis": {
           "colorbar": {
            "outlinewidth": 0,
            "ticks": ""
           }
          },
          "colorscale": {
           "diverging": [
            [
             0,
             "#8e0152"
            ],
            [
             0.1,
             "#c51b7d"
            ],
            [
             0.2,
             "#de77ae"
            ],
            [
             0.3,
             "#f1b6da"
            ],
            [
             0.4,
             "#fde0ef"
            ],
            [
             0.5,
             "#f7f7f7"
            ],
            [
             0.6,
             "#e6f5d0"
            ],
            [
             0.7,
             "#b8e186"
            ],
            [
             0.8,
             "#7fbc41"
            ],
            [
             0.9,
             "#4d9221"
            ],
            [
             1,
             "#276419"
            ]
           ],
           "sequential": [
            [
             0,
             "#0d0887"
            ],
            [
             0.1111111111111111,
             "#46039f"
            ],
            [
             0.2222222222222222,
             "#7201a8"
            ],
            [
             0.3333333333333333,
             "#9c179e"
            ],
            [
             0.4444444444444444,
             "#bd3786"
            ],
            [
             0.5555555555555556,
             "#d8576b"
            ],
            [
             0.6666666666666666,
             "#ed7953"
            ],
            [
             0.7777777777777778,
             "#fb9f3a"
            ],
            [
             0.8888888888888888,
             "#fdca26"
            ],
            [
             1,
             "#f0f921"
            ]
           ],
           "sequentialminus": [
            [
             0,
             "#0d0887"
            ],
            [
             0.1111111111111111,
             "#46039f"
            ],
            [
             0.2222222222222222,
             "#7201a8"
            ],
            [
             0.3333333333333333,
             "#9c179e"
            ],
            [
             0.4444444444444444,
             "#bd3786"
            ],
            [
             0.5555555555555556,
             "#d8576b"
            ],
            [
             0.6666666666666666,
             "#ed7953"
            ],
            [
             0.7777777777777778,
             "#fb9f3a"
            ],
            [
             0.8888888888888888,
             "#fdca26"
            ],
            [
             1,
             "#f0f921"
            ]
           ]
          },
          "colorway": [
           "#636efa",
           "#EF553B",
           "#00cc96",
           "#ab63fa",
           "#FFA15A",
           "#19d3f3",
           "#FF6692",
           "#B6E880",
           "#FF97FF",
           "#FECB52"
          ],
          "font": {
           "color": "#2a3f5f"
          },
          "geo": {
           "bgcolor": "white",
           "lakecolor": "white",
           "landcolor": "#E5ECF6",
           "showlakes": true,
           "showland": true,
           "subunitcolor": "white"
          },
          "hoverlabel": {
           "align": "left"
          },
          "hovermode": "closest",
          "mapbox": {
           "style": "light"
          },
          "paper_bgcolor": "white",
          "plot_bgcolor": "#E5ECF6",
          "polar": {
           "angularaxis": {
            "gridcolor": "white",
            "linecolor": "white",
            "ticks": ""
           },
           "bgcolor": "#E5ECF6",
           "radialaxis": {
            "gridcolor": "white",
            "linecolor": "white",
            "ticks": ""
           }
          },
          "scene": {
           "xaxis": {
            "backgroundcolor": "#E5ECF6",
            "gridcolor": "white",
            "gridwidth": 2,
            "linecolor": "white",
            "showbackground": true,
            "ticks": "",
            "zerolinecolor": "white"
           },
           "yaxis": {
            "backgroundcolor": "#E5ECF6",
            "gridcolor": "white",
            "gridwidth": 2,
            "linecolor": "white",
            "showbackground": true,
            "ticks": "",
            "zerolinecolor": "white"
           },
           "zaxis": {
            "backgroundcolor": "#E5ECF6",
            "gridcolor": "white",
            "gridwidth": 2,
            "linecolor": "white",
            "showbackground": true,
            "ticks": "",
            "zerolinecolor": "white"
           }
          },
          "shapedefaults": {
           "line": {
            "color": "#2a3f5f"
           }
          },
          "ternary": {
           "aaxis": {
            "gridcolor": "white",
            "linecolor": "white",
            "ticks": ""
           },
           "baxis": {
            "gridcolor": "white",
            "linecolor": "white",
            "ticks": ""
           },
           "bgcolor": "#E5ECF6",
           "caxis": {
            "gridcolor": "white",
            "linecolor": "white",
            "ticks": ""
           }
          },
          "title": {
           "x": 0.05
          },
          "xaxis": {
           "automargin": true,
           "gridcolor": "white",
           "linecolor": "white",
           "ticks": "",
           "title": {
            "standoff": 15
           },
           "zerolinecolor": "white",
           "zerolinewidth": 2
          },
          "yaxis": {
           "automargin": true,
           "gridcolor": "white",
           "linecolor": "white",
           "ticks": "",
           "title": {
            "standoff": 15
           },
           "zerolinecolor": "white",
           "zerolinewidth": 2
          }
         }
        },
        "title": {
         "text": "Importancia de Características"
        },
        "xaxis": {
         "anchor": "y",
         "domain": [
          0,
          1
         ],
         "tickangle": -45,
         "title": {
          "text": "Característica"
         }
        },
        "yaxis": {
         "anchor": "x",
         "domain": [
          0,
          1
         ],
         "title": {
          "text": "Importancia"
         }
        }
       }
      }
     },
     "metadata": {},
     "output_type": "display_data"
    }
   ],
   "source": [
    "# Obtenemos la importancia de las características desde el modelo\n",
    "feature_importance = xgb_model.feature_importances_\n",
    "\n",
    "# Creamos un DataFrame con las características y su importancia\n",
    "feature_importance_df = pd.DataFrame({'Feature': X.columns, 'Importance': feature_importance})\n",
    "\n",
    "# Ordenamos el DataFrame por importancia descendente\n",
    "feature_importance_df = feature_importance_df.sort_values(by='Importance', ascending=False)\n",
    "\n",
    "# Creamos gráfico de barras con Plotly Express\n",
    "fig = px.bar(feature_importance_df, x='Feature', y='Importance',\n",
    "             labels={'Importance': 'Importancia'},\n",
    "             title='Importancia de Características',\n",
    "             color='Importance',\n",
    "             color_continuous_scale='Viridis')\n",
    "\n",
    "# Agregamos líneas separadoras entre las barras (bordes negros)\n",
    "fig.update_traces(marker_line_color='black', marker_line_width=1, opacity=0.7)\n",
    "\n",
    "# Configuramos el diseño del gráfico\n",
    "fig.update_layout(\n",
    "    xaxis_title='Característica',\n",
    "    yaxis_title='Importancia',\n",
    "    xaxis=dict(tickangle=-45),\n",
    ")\n",
    "\n",
    "# Mostramos el gráfico\n",
    "fig.show()"
   ]
  },
  {
   "cell_type": "markdown",
   "metadata": {},
   "source": [
    "## **API**"
   ]
  },
  {
   "cell_type": "code",
   "execution_count": 3,
   "metadata": {},
   "outputs": [],
   "source": [
    "# Importamos librerías\n",
    "from fastapi import FastAPI, HTTPException, Body\n",
    "from fastapi.responses import HTMLResponse\n",
    "from pydantic import BaseModel\n",
    "import joblib\n",
    "import pandas as pd\n",
    "\n",
    "\n",
    "# Instanciamos la aplicación\n",
    "app = FastAPI()\n",
    "\n",
    "# Cargar el modelo entrenado desde el archivo pickle\n",
    "xgb_model = joblib.load('xgb_model.pkl')\n",
    "\n",
    "class InputData(BaseModel):\n",
    "    pBoroughID: float\n",
    "    dayofweek: float\n",
    "    hour: float\n",
    "\n",
    "    # Agrega más campos según sea necesario\n",
    "\n",
    "@app.post(\"/predict\")\n",
    "def predict(data: InputData):\n",
    "    try:\n",
    "        # Convertir los datos de entrada a un DataFrame\n",
    "        input_data = pd.DataFrame([data.dict()])\n",
    "\n",
    "        # Realizar la predicción\n",
    "        prediction = xgb_model.predict(input_data)\n",
    "\n",
    "        # Devolver la predicción como JSON\n",
    "        return {\"prediction\": prediction.tolist()}\n",
    "\n",
    "    except Exception as e:\n",
    "        raise HTTPException(status_code=500, detail=str(e))"
   ]
  }
 ],
 "metadata": {
  "kernelspec": {
   "display_name": "Python 3",
   "language": "python",
   "name": "python3"
  },
  "language_info": {
   "codemirror_mode": {
    "name": "ipython",
    "version": 3
   },
   "file_extension": ".py",
   "mimetype": "text/x-python",
   "name": "python",
   "nbconvert_exporter": "python",
   "pygments_lexer": "ipython3",
   "version": "3.11.6"
  }
 },
 "nbformat": 4,
 "nbformat_minor": 2
}
