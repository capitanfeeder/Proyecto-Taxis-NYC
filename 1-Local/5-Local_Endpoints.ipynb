{
 "cells": [
  {
   "cell_type": "markdown",
   "metadata": {},
   "source": [
    "# **Funciones para Endpoints en local**"
   ]
  },
  {
   "cell_type": "markdown",
   "metadata": {},
   "source": [
    "### A efectos de ayudar a la empresa en su toma de decisiones respecto a el modelo de negocio a implementar, se han creado las siguientes funciones para obtener información relevante sobre los datos de los usuarios y los viajes."
   ]
  },
  {
   "cell_type": "markdown",
   "metadata": {},
   "source": [
    "### Importamos las librerías necesarias para el desarrollo de las funciones."
   ]
  },
  {
   "cell_type": "code",
   "execution_count": 1,
   "metadata": {},
   "outputs": [],
   "source": [
    "import pandas as pd\n",
    "from datetime import timedelta\n",
    "from pydantic import BaseModel\n",
    "import joblib"
   ]
  },
  {
   "cell_type": "markdown",
   "metadata": {},
   "source": [
    "#### `Función que devuelve la predicción porcentual de oportunidad de viajes de un usuario.`"
   ]
  },
  {
   "cell_type": "code",
   "execution_count": 30,
   "metadata": {},
   "outputs": [],
   "source": [
    "# Cargamos el modelo entrenado desde el archivo pickle\n",
    "xgb_model = joblib.load('xgb_model.pkl')\n",
    "\n",
    "class InputData(BaseModel):\n",
    "    pBoroughID: int\n",
    "    dayofweek: int\n",
    "    hour: int\n",
    "\n",
    "\n",
    "def predict(data: InputData):\n",
    "\n",
    "    # Convertir los datos de entrada a un DataFrame\n",
    "    input_data = pd.DataFrame([data.model_dump()])\n",
    "\n",
    "    # Realizar la predicción\n",
    "    prediction = xgb_model.predict(input_data)\n",
    "\n",
    "    # Devolver la predicción como JSON\n",
    "    return {\"Probabilidad de conseguir pasajero\": prediction.tolist()}"
   ]
  },
  {
   "cell_type": "code",
   "execution_count": 31,
   "metadata": {},
   "outputs": [
    {
     "data": {
      "text/plain": [
       "{'Predicción de conseguir pasajero': [78.75587463378906]}"
      ]
     },
     "execution_count": 31,
     "metadata": {},
     "output_type": "execute_result"
    }
   ],
   "source": [
    "input_data = InputData(pBoroughID=1, dayofweek=2, hour=15)\n",
    "predict(input_data)"
   ]
  },
  {
   "cell_type": "markdown",
   "metadata": {},
   "source": [
    "#### `Función que devuelve un top 3 de vehículos ecológicos de acuerdo al capital ingresado` "
   ]
  },
  {
   "cell_type": "code",
   "execution_count": 13,
   "metadata": {},
   "outputs": [],
   "source": [
    "def top_3_vehicles(max_price_usd: float):\n",
    "    # Cargamos el DataFrame desde el archivo parquet\n",
    "    vehicles_info = pd.read_parquet('Datasets/3-Normalizados/vehicles_info.parquet')  \n",
    "\n",
    "    # Filtramos los vehículos por precio\n",
    "    filtered_vehicles = vehicles_info[vehicles_info['Price (USD)'] <= max_price_usd]\n",
    "\n",
    "    # Ordenamos los vehículos por CO2 en orden ascendente, luego por Sound Emission y finalmente por Range\n",
    "    sorted_vehicles = filtered_vehicles.sort_values(by=['CO2 Emission (g/mi)', 'Sound Emission (dB)', 'Range (mi)'], ascending=[True, True, False])\n",
    "\n",
    "    # Tomamos los tres primeros vehículos dentro del rango de precio\n",
    "    top_3_vehicles = sorted_vehicles.head(3)\n",
    "\n",
    "    # Creamos el formato de salida como una lista de diccionarios\n",
    "    output_format = []\n",
    "    for idx, row in enumerate(top_3_vehicles.itertuples(), start=1):\n",
    "        output_format.append({\n",
    "            f'Puesto {idx}': f'{row.Manufacturer} {row.Model}',\n",
    "            'Precio (USD)': row._9,\n",
    "            'Combustible': row.Fuel,\n",
    "            'CO2': row._7,\n",
    "            'dB': row._8,\n",
    "            'Millas con un tanque lleno': row._10,\n",
    "                \n",
    "        })\n",
    "\n",
    "    return output_format"
   ]
  },
  {
   "cell_type": "code",
   "execution_count": 14,
   "metadata": {},
   "outputs": [
    {
     "data": {
      "text/plain": [
       "[{'Puesto 1': 'Chevrolet Bolt EV',\n",
       "  'Precio (USD)': 31000,\n",
       "  'Combustible': 'Electric',\n",
       "  'CO2': 0,\n",
       "  'dB': 67,\n",
       "  'Millas con un tanque lleno': 259},\n",
       " {'Puesto 2': 'Chevrolet Equinox Hybrid',\n",
       "  'Precio (USD)': 24995,\n",
       "  'Combustible': 'Gasoline',\n",
       "  'CO2': 25,\n",
       "  'dB': 68,\n",
       "  'Millas con un tanque lleno': 440},\n",
       " {'Puesto 3': 'Hyundai Tucson Hybrid',\n",
       "  'Precio (USD)': 26250,\n",
       "  'Combustible': 'Gasoline',\n",
       "  'CO2': 25,\n",
       "  'dB': 68,\n",
       "  'Millas con un tanque lleno': 420}]"
      ]
     },
     "execution_count": 14,
     "metadata": {},
     "output_type": "execute_result"
    }
   ],
   "source": [
    "top_3_vehicles(32000)"
   ]
  },
  {
   "cell_type": "markdown",
   "metadata": {},
   "source": [
    "#### `Función que devuelve estadísticas de viajes de acuerdo al Borough ingresado`"
   ]
  },
  {
   "cell_type": "code",
   "execution_count": 2,
   "metadata": {},
   "outputs": [],
   "source": [
    "def get_taxi_stats(pickup_borough: str):\n",
    "   \n",
    "    # Cargamos el DataFrame desde el archivo parquet\n",
    "    taxis = pd.read_parquet('Datasets/3-Normalizados/taxis_2023.parquet')\n",
    "\n",
    "    # Filtramos datos para el distrito específico\n",
    "    filtered_taxis = taxis[taxis['pickup_borough'] == pickup_borough]\n",
    "\n",
    "    # Calculamos estadísticas sobre los datos de viajes en taxi en el distrito\n",
    "    total_trips = len(filtered_taxis)\n",
    "        \n",
    "    # Calculamos la duración promedio del viaje en horas\n",
    "    duration_timedelta = (filtered_taxis['dropoff_datetime'] - filtered_taxis['pickup_datetime'])\n",
    "    average_trip_duration = round(duration_timedelta.mean() / timedelta(hours=1), 2)\n",
    "\n",
    "    # Calculamos la media de viajes por día\n",
    "    daily_trips = round(filtered_taxis.groupby(filtered_taxis['pickup_datetime'].dt.date).size().mean(), 2)\n",
    "\n",
    "    # Calculamos la media de viajes por mes\n",
    "    monthly_trips = round(filtered_taxis.groupby(filtered_taxis['pickup_datetime'].dt.to_period(\"M\")).size().mean(), 2)\n",
    "\n",
    "    average_trip_distance = round(filtered_taxis['trip_distance'].mean(), 2)\n",
    "    average_total_amount = round(filtered_taxis['total_amount'].mean(), 2)\n",
    "\n",
    "    # Devolvemos la información estadística como JSON\n",
    "    return {\n",
    "        \"Viajes Totales\": total_trips,\n",
    "        \"Duración Promedio (Hs)\": average_trip_duration,\n",
    "        \"Media de Viajes por Día\": daily_trips,\n",
    "        \"Media de Viajes por Mes\": monthly_trips,\n",
    "        \"Distancia recorrida promedio (millas)\": average_trip_distance,\n",
    "        \"Total ganado en promedio (USD)\": average_total_amount,\n",
    "    }"
   ]
  },
  {
   "cell_type": "code",
   "execution_count": 3,
   "metadata": {},
   "outputs": [
    {
     "data": {
      "text/plain": [
       "{'Viajes Totales': 24235349,\n",
       " 'Duración Promedio (Hs)': 0.25,\n",
       " 'Media de Viajes por Día': 85940.95,\n",
       " 'Media de Viajes por Mes': 1425608.76,\n",
       " 'Distancia recorrida promedio (millas)': 3.24,\n",
       " 'Total ganado en promedio (USD)': 26.35}"
      ]
     },
     "execution_count": 3,
     "metadata": {},
     "output_type": "execute_result"
    }
   ],
   "source": [
    "get_taxi_stats('Manhattan')"
   ]
  }
 ],
 "metadata": {
  "kernelspec": {
   "display_name": "Python 3",
   "language": "python",
   "name": "python3"
  },
  "language_info": {
   "codemirror_mode": {
    "name": "ipython",
    "version": 3
   },
   "file_extension": ".py",
   "mimetype": "text/x-python",
   "name": "python",
   "nbconvert_exporter": "python",
   "pygments_lexer": "ipython3",
   "version": "3.11.6"
  }
 },
 "nbformat": 4,
 "nbformat_minor": 2
}
